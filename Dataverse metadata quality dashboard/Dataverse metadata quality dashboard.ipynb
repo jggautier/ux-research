{
 "cells": [
  {
   "cell_type": "markdown",
   "metadata": {
    "toc": true
   },
   "source": [
    "<h1>Table of Contents<span class=\"tocSkip\"></span></h1>\n",
    "<div class=\"toc\"><ul class=\"toc-item\"><li><span><a href=\"#Plan\" data-toc-modified-id=\"Plan-1\"><span class=\"toc-item-num\">1&nbsp;&nbsp;</span>Plan</a></span></li><li><span><a href=\"#Code\" data-toc-modified-id=\"Code-2\"><span class=\"toc-item-num\">2&nbsp;&nbsp;</span>Code</a></span><ul class=\"toc-item\"><li><span><a href=\"#Import-modules-and-load-functions\" data-toc-modified-id=\"Import-modules-and-load-functions-2.1\"><span class=\"toc-item-num\">2.1&nbsp;&nbsp;</span>Import modules and load functions</a></span></li><li><span><a href=\"#Get-dataverse-info\" data-toc-modified-id=\"Get-dataverse-info-2.2\"><span class=\"toc-item-num\">2.2&nbsp;&nbsp;</span>Get dataverse info</a></span></li><li><span><a href=\"#Get-aliases-of-any-sub-dataverses-in-the-given-dataverse\" data-toc-modified-id=\"Get-aliases-of-any-sub-dataverses-in-the-given-dataverse-2.3\"><span class=\"toc-item-num\">2.3&nbsp;&nbsp;</span>Get aliases of any sub-dataverses in the given dataverse</a></span></li><li><span><a href=\"#Get-dataset-info\" data-toc-modified-id=\"Get-dataset-info-2.4\"><span class=\"toc-item-num\">2.4&nbsp;&nbsp;</span>Get dataset info</a></span></li></ul></li></ul></div>"
   ]
  },
  {
   "cell_type": "markdown",
   "metadata": {
    "heading_collapsed": true
   },
   "source": [
    "## Plan"
   ]
  },
  {
   "cell_type": "markdown",
   "metadata": {
    "hidden": true,
    "hide_input": false
   },
   "source": [
    "For chosen dataverse:\n",
    "    - Show dataverse info:\n",
    "        - Show number of subdataverses, if any\n",
    "        - Show whether or not the (sub)dataverse has a description or tagline\n",
    "        - List metadatablocks of each (sub)dataverse\n",
    "        - List the facets set for each (sub)dataverse\n",
    "        - Verify that contact email address is valid for each (sub)dataverse\n",
    "        (see https://medium.com/@arjunsinghy96/verify-emails-over-socks-proxy-using-python-5589cb75c405\n",
    "        and https://github.com/Gardener-gg/email-verifier)\n",
    "    - Show dataset info\n",
    "        - Show number of datasets\n",
    "        - Show date of first published dataset\n",
    "        - Show date of most recently published or updated dataset\n",
    "        - Show average age of datasets\n",
    "        - Show average number of dataset versions\n",
    "        - Metadata (of latest published version of each dataset):\n",
    "            - Show average number of characters in the dataset descriptions\n",
    "                - List datasets with fewer than a certain number of characters in their descriptions\n",
    "            - List datasets with CC0 or Terms of Use metadata\n",
    "                - Versus number of datasets with no CC0 or TOU metadata\n",
    "                - List datasets with no CC0 or TOU metadata\n",
    "            - Show number of files that have no description metadata\n",
    "                - If a certain percentage of datasets have 1 or more files with no descriptions, list those datasets\n",
    "            - Related publication metadata\n",
    "                - Show number of datasets with related publication metadata\n",
    "                    - List datasets with no related publication metadata\n",
    "                - Show number of datasets with no PID in related publication metadata\n",
    "                    - List datasets with no PID in related publication metadata\n",
    "            - Show datasets that have no metadata for any non-citation metadatablocks enabled in the dataverse\n",
    "        - Data\n",
    "            - List count of each unique file format\n",
    "            - Show number of datasets with no files\n",
    "                - List datasets that have no files\n",
    "            - Show number of datasets with 1 or more uningested tabular files\n",
    "                - List datasets that contain 1 or more uningested tabular files\n",
    "            - Show number of datasets with 1 or more restricted files\n",
    "        - Contact emails\n",
    "            - Get number of datasets that have a contact email address that's different email from the dataverse contact email address\n",
    "            - Get unique list of contact email addresses and check if they're valid\n",
    "            - Show any datasets that have no valid email addresses"
   ]
  },
  {
   "cell_type": "markdown",
   "metadata": {},
   "source": [
    "## Code"
   ]
  },
  {
   "cell_type": "markdown",
   "metadata": {},
   "source": [
    "### Import modules and load functions"
   ]
  },
  {
   "cell_type": "code",
   "execution_count": 2,
   "metadata": {
    "code_folding": []
   },
   "outputs": [],
   "source": [
    "from datetime import datetime, timezone\n",
    "from functools import reduce\n",
    "import numpy as np\n",
    "import pandas as pd\n",
    "import requests\n",
    "import sys\n",
    "import time\n",
    "\n",
    "\n",
    "def improved_get(_dict, path, default=None):\n",
    "    for key in path.split('.'):\n",
    "        try:\n",
    "            _dict = _dict[key]\n",
    "        except KeyError:\n",
    "            return default\n",
    "    return _dict\n",
    "\n",
    "\n",
    "def list_to_string(list):\n",
    "    # Alphabetize list in case-insensitive way\n",
    "    list = sorted(list, key=lambda s: s.casefold())\n",
    "    # Change list to comma-separated string\n",
    "    delimiter = \",\"\n",
    "    string = delimiter.join(list)\n",
    "    return string\n",
    "\n",
    "\n",
    "def string_to_datetime(string):\n",
    "    newDatetime = datetime.strptime(string, '%Y-%m-%dT%H:%M:%S%z')\n",
    "    return newDatetime\n",
    "\n",
    "# current_time = str.strftime('%Y.%m.%d_%H.%M.%S')\n",
    "# current_time = datetime.strftime('%Y-%m-%dT%H:%M:%S%z')\n",
    "# currentTime = datetime.now()\n",
    "currentTime = datetime.now(timezone.utc)\n"
   ]
  },
  {
   "cell_type": "markdown",
   "metadata": {},
   "source": [
    "### Get dataverse info"
   ]
  },
  {
   "cell_type": "code",
   "execution_count": 3,
   "metadata": {},
   "outputs": [],
   "source": [
    "# Get dataverse server and alias from user - return error if there's no alias or if alias is the Root dataverse\n",
    "# server = 'https://demo.dataverse.org'\n",
    "# mainDataverseAlias = 'sefsef'\n",
    "server = 'https://dataverse.harvard.edu'\n",
    "mainDataverseAlias = 'ifpri'\n",
    "\n",
    "repositoryMetadataBlocksApi = '%s/api/v1/metadatablocks' % (server)\n",
    "response = requests.get(repositoryMetadataBlocksApi)\n",
    "repositoryMetadataBlocks = response.json()\n",
    "\n",
    "repositoryMetadataBlockNames = []\n",
    "for repositoryMetadataBlock in repositoryMetadataBlocks['data']:\n",
    "    repositoryMetadataBlockNames.append(repositoryMetadataBlock['name'])"
   ]
  },
  {
   "cell_type": "code",
   "execution_count": 4,
   "metadata": {},
   "outputs": [],
   "source": [
    "# Get info from that dataverse: whether or not the dataverse has a description and/or tagline, metadatablocks enabled, facets enabled, validate contact email\n",
    "dataverseInfoApi = '%s/api/dataverses/%s' % (server, mainDataverseAlias)\n",
    "response = requests.get(dataverseInfoApi)\n",
    "dataverseMetadata = response.json()"
   ]
  },
  {
   "cell_type": "code",
   "execution_count": 5,
   "metadata": {
    "code_folding": []
   },
   "outputs": [
    {
     "name": "stdout",
     "output_type": "stream",
     "text": [
      "Dataverse has a description\n",
      "Dataverse has a tagline\n",
      "Number of search facets used: 7\n",
      "Number of metadatablocks enabled (in addition to Citation): 2\n"
     ]
    }
   ],
   "source": [
    "if dataverseMetadata['status'] == 'ERROR':\n",
    "    print('No dataverse found. Is the dataverse published on Harvard Dataverse?')\n",
    "elif dataverseMetadata['status'] == 'OK':\n",
    "    dataverseDescription = improved_get(dataverseMetadata, 'data.description')\n",
    "    if dataverseDescription is not None:\n",
    "        print('Dataverse has a description')\n",
    "    else:\n",
    "        print('Dataverse has no description')\n",
    "\n",
    "    tagline = improved_get(dataverseMetadata, 'data.theme.tagline')\n",
    "    if tagline is not None:\n",
    "        print('Dataverse has a tagline')\n",
    "    else:\n",
    "        print('Dataverse has no tagline')\n",
    "\n",
    "#     contactEmails = []\n",
    "#     for contact in dataverseMetadata['data']['dataverseContacts']:\n",
    "#         contactEmails.append(contact['contactEmail'])\n",
    "#     print(contactEmails)\n",
    "\n",
    "    dataverseFacetsApi = '%s/api/dataverses/%s/facets' % (server, mainDataverseAlias)\n",
    "    response = requests.get(dataverseFacetsApi)\n",
    "    dataverseFacets = response.json()\n",
    "    facets = []\n",
    "    for facet in dataverseFacets['data']:\n",
    "        facets.append(facet)\n",
    "    print('Number of search facets used: %s' % (len(facets)))    \n",
    "\n",
    "#     # See if dataverse inherits its metadatablocks from its parent dataverse\n",
    "#     metadatablocksInheritedApi = '%s/api/dataverses/%s/metadatablocks/isRoot' % (server, dataverseAlias)\n",
    "#     response = requests.get(metadatablocksInheritedApi)\n",
    "#     metadatablocksInherited = response.json()\n",
    "#     print(metadatablocksInherited)\n",
    "    \n",
    "    # Get list of metadatablocks enabled in the dataverse\n",
    "    dataverseMetadatablocksList = []\n",
    "    dataverseMetadatablocksApi = '%s/api/dataverses/%s/metadatablocks' % (server, mainDataverseAlias)\n",
    "    response = requests.get(dataverseMetadatablocksApi)\n",
    "    dataverseMetadatablocks = response.json()\n",
    "    for dataverseMetadatablock in dataverseMetadatablocks['data']:\n",
    "        dataverseMetadatablock = dataverseMetadatablock['name']\n",
    "        dataverseMetadatablocksList.append(dataverseMetadatablock)\n",
    "    print('Number of metadatablocks enabled (in addition to Citation): %s' % (len(dataverseMetadatablocksList) - 1))\n"
   ]
  },
  {
   "cell_type": "markdown",
   "metadata": {},
   "source": [
    "### Get aliases of any sub-dataverses in the given dataverse"
   ]
  },
  {
   "cell_type": "code",
   "execution_count": 6,
   "metadata": {},
   "outputs": [
    {
     "name": "stdout",
     "output_type": "stream",
     "text": [
      "..........\n",
      "\n",
      "Found 1 dataverse and 9 subdataverses\n"
     ]
    }
   ],
   "source": [
    "mainDataverseInfoApi = '%s/api/dataverses/%s' % (server, mainDataverseAlias)\n",
    "response = requests.get(mainDataverseInfoApi)\n",
    "data = response.json()\n",
    "mainDataverseID = data['data']['id']\n",
    "\n",
    "dataverseIDs = [mainDataverseID]\n",
    "for dataverseID in dataverseIDs:\n",
    "\n",
    "    sys.stdout.write('.')\n",
    "    sys.stdout.flush()\n",
    "\n",
    "    url = '%s/api/dataverses/%s/contents' % (server, dataverseID)\n",
    "\n",
    "    response = requests.get(url)\n",
    "    data = response.json()\n",
    "\n",
    "    for i in data['data']:\n",
    "        if i['type'] == 'dataverse':\n",
    "            dataverseID = i['id']\n",
    "            dataverseIDs.extend([dataverseID])\n",
    "\n",
    "print('\\n\\nFound 1 dataverse and %s subdataverses' % (len(dataverseIDs) - 1))"
   ]
  },
  {
   "cell_type": "markdown",
   "metadata": {},
   "source": [
    "### Get dataset info"
   ]
  },
  {
   "cell_type": "code",
   "execution_count": 7,
   "metadata": {},
   "outputs": [
    {
     "name": "stdout",
     "output_type": "stream",
     "text": [
      ".................................................................................................................................................................................................................................................................................................................................................................................................................................................................................................................................................................................Number of datasets: 561\n"
     ]
    }
   ],
   "source": [
    "# Get PIDs of all published datasets in each of the dataverses\n",
    "datasetPIDs = []\n",
    "rowList = []\n",
    "for dataverseID in dataverseIDs:\n",
    "    getDataverseInfoApi = '%s/api/dataverses/%s' % (server, dataverseID)\n",
    "    response = requests.get(getDataverseInfoApi)\n",
    "    dataverseInfo = response.json()\n",
    "    dataverseName = dataverseInfo['data']['name']\n",
    "    dataverseAlias = dataverseInfo['data']['alias']\n",
    "\n",
    "    getDataverseContentsApi = '%s/api/dataverses/%s/contents' % (server, dataverseID)\n",
    "    response = requests.get(getDataverseContentsApi)\n",
    "    dataverseContents = response.json()\n",
    "    for item in dataverseContents['data']:\n",
    "        if item['type'] == 'dataset':\n",
    "            datasetPID = item['persistentUrl'].replace('https://doi.org/', 'doi:')\n",
    "            datasetPIDs.append(datasetPID)\n",
    "            \n",
    "            newRow = {'datasetPID': datasetPID,\n",
    "                  'dataverseName': dataverseName,\n",
    "                  'dataverseUrl': '%s/dataverse/%s' % (server, dataverseAlias)\n",
    "                 }\n",
    "            rowList.append(dict(newRow))\n",
    "            \n",
    "            sys.stdout.write('.')\n",
    "            sys.stdout.flush()\n",
    "            \n",
    "print('Number of datasets: %s' % (len(datasetPIDs)))\n",
    "\n",
    "datasetDataverseInfoDF = pd.DataFrame(rowList)\n"
   ]
  },
  {
   "cell_type": "code",
   "execution_count": 11,
   "metadata": {},
   "outputs": [
    {
     "name": "stdout",
     "output_type": "stream",
     "text": [
      "['doi:10.7910/DVN/YKPSFU', 'doi:10.7910/DVN/XNQXTL', 'doi:10.7910/DVN/9REDJE', 'doi:10.7910/DVN/QPBCQB', 'doi:10.7910/DVN/OTOBEJ', 'doi:10.7910/DVN/NXKLZJ', 'doi:10.7910/DVN/3E6ZRT', 'doi:10.7910/DVN/EMBLAF', 'doi:10.7910/DVN/4W1FP8', 'doi:10.7910/DVN/CKIPWU', 'doi:10.7910/DVN/SVKW4K', 'doi:10.7910/DVN/WJDPG6', 'doi:10.7910/DVN/Q4UVFM', 'doi:10.7910/DVN/E1LWHK', 'doi:10.7910/DVN/DJUHYJ', 'doi:10.7910/DVN/IZTXPL', 'doi:10.7910/DVN/RLJD13', 'doi:10.7910/DVN/TEWJVP', 'doi:10.7910/DVN/G8DH3M', 'doi:10.7910/DVN/F7SHCR', 'doi:10.7910/DVN/ID0MPE', 'doi:10.7910/DVN/CBHQNH', 'doi:10.7910/DVN/M0T8S6', 'doi:10.7910/DVN/QLA5KE', 'doi:10.7910/DVN/NIEVLU', 'doi:10.7910/DVN/AN726A', 'doi:10.7910/DVN/5BCID5', 'doi:10.7910/DVN/LOWRX1', 'doi:10.7910/DVN/ONVACP', 'doi:10.7910/DVN/JJPOLK', 'doi:10.7910/DVN/JQNLHJ', 'doi:10.7910/DVN/EL3GAU', 'doi:10.7910/DVN/IN3RHW', 'doi:10.7910/DVN/PYLIY4', 'doi:10.7910/DVN/9EJAH5', 'doi:10.7910/DVN/FJBLNL', 'doi:10.7910/DVN/B9CUWQ', 'doi:10.7910/DVN/2C927V', 'doi:10.7910/DVN/JJJBQ0', 'doi:10.7910/DVN/DKDUU9', 'doi:10.7910/DVN/EBZ2QR', 'doi:10.7910/DVN/8QFXOE', 'doi:10.7910/DVN/FA0QPM', 'doi:10.7910/DVN/BAMNFN', 'doi:10.7910/DVN/REUCQR', 'doi:10.7910/DVN/UKRSQB', 'doi:10.7910/DVN/CEIOQK', 'doi:10.7910/DVN/RJOYV7', 'doi:10.7910/DVN/UUL8WJ', 'doi:10.7910/DVN/RM940E', 'doi:10.7910/DVN/NWVO32', 'doi:10.7910/DVN/GJ20JY', 'doi:10.7910/DVN/0R5WTU', 'doi:10.7910/DVN/E3WDFQ', 'doi:10.7910/DVN/UNCSKB', 'doi:10.7910/DVN/NTDRKB', 'doi:10.7910/DVN/YFMI0J', 'doi:10.7910/DVN/GWWWEU', 'doi:10.7910/DVN/884L6R', 'doi:10.7910/DVN/HNCAP1', 'doi:10.7910/DVN/ESTIZZ', 'doi:10.7910/DVN/27704', 'doi:10.7910/DVN/SKACYP', 'doi:10.7910/DVN/SNYGIF', 'doi:10.7910/DVN/26930', 'doi:10.7910/DVN/PALCAR', 'doi:10.7910/DVN/DGZTRA', 'doi:10.7910/DVN/1NJKQH', 'doi:10.7910/DVN/26587', 'doi:10.7910/DVN/KEXZ0S', 'doi:10.7910/DVN/ARAGPO', 'doi:10.7910/DVN/AORZAU', 'doi:10.7910/DVN/KYIRMV', 'doi:10.7910/DVN/QVBQQQ', 'doi:10.7910/DVN/P0XYMN', 'doi:10.7910/DVN/XVTULF', 'doi:10.7910/DVN/FAYZZB', 'doi:10.7910/DVN/VFGYYM', 'doi:10.7910/DVN/CTMBOK', 'doi:10.7910/DVN/5L8JMB', 'doi:10.7910/DVN/KCA07W', 'doi:10.7910/DVN/AKZUMC', 'doi:10.7910/DVN/QSLBJJ', 'doi:10.7910/DVN/LHCTQT', 'doi:10.7910/DVN/TTPVTM', 'doi:10.7910/DVN/NKH9SW', 'doi:10.7910/DVN/21W7PY', 'doi:10.7910/DVN/ZZRV3J', 'doi:10.7910/DVN/OLYELW', 'doi:10.7910/DVN/KN9FE5', 'doi:10.7910/DVN/5WUZXM', 'doi:10.7910/DVN/5L6173', 'doi:10.7910/DVN/YLCIS4', 'doi:10.7910/DVN/CIQ6FT', 'doi:10.7910/DVN/QU6XXM', 'doi:10.7910/DVN/SHO2BT', 'doi:10.7910/DVN/SBGYHO', 'doi:10.7910/DVN/SW0GYB', 'doi:10.7910/DVN/HSNZLT', 'doi:10.7910/DVN/E67HQK', 'doi:10.7910/DVN/IHVR6L', 'doi:10.7910/DVN/KNYMKS', 'doi:10.7910/DVN/RBW801', 'doi:10.7910/DVN/MUOX19', 'doi:10.7910/DVN/T9GGYA', 'doi:10.7910/DVN/UJA9N5', 'doi:10.7910/DVN/JEH2S4', 'doi:10.7910/DVN/LS09OT', 'doi:10.7910/DVN/FAZWO3', 'doi:10.7910/DVN/SK3OST', 'doi:10.7910/DVN/0EXZ8X', 'doi:10.7910/DVN/HOR9ZZ', 'doi:10.7910/DVN/IVFGIK', 'doi:10.7910/DVN/28558', 'doi:10.7910/DVN/NMPREE', 'doi:10.7910/DVN/1Y5ITG', 'doi:10.7910/DVN/HAZLJG', 'doi:10.7910/DVN/FOYZBL', 'doi:10.7910/DVN/8186GA', 'doi:10.7910/DVN/VPTJZY', 'doi:10.7910/DVN/JTUFRX', 'doi:10.7910/DVN/Z6U9DA', 'doi:10.7910/DVN/AXGCHT', 'doi:10.7910/DVN/ZTCWYQ', 'doi:10.7910/DVN/UMEIN4', 'doi:10.7910/DVN/WUDIJU', 'doi:10.7910/DVN/CVVHZV', 'doi:10.7910/DVN/H1ROEP', 'doi:10.7910/DVN/CBVLK5', 'doi:10.7910/DVN/AJZ7RP', 'doi:10.7910/DVN/JIDZQ2', 'doi:10.7910/DVN/9RMBRA', 'doi:10.7910/DVN/BUURDE', 'doi:10.7910/DVN/28526', 'doi:10.7910/DVN/LEP9KF', 'doi:10.7910/DVN/2S8BZ6', 'doi:10.7910/DVN/24702', 'doi:10.7910/DVN/BWNJ8O', 'doi:10.7910/DVN/KKPK0E', 'doi:10.7910/DVN/M86MMS', 'doi:10.7910/DVN/GOOF4U', 'doi:10.7910/DVN/Z6EEAS', 'doi:10.7910/DVN/XYJTDT', 'doi:10.7910/DVN/28529', 'doi:10.7910/DVN/M54V1B', 'doi:10.7910/DVN/KNCYAC', 'doi:10.7910/DVN/22765', 'doi:10.7910/DVN/QSQSKS', 'doi:10.7910/DVN/28446', 'doi:10.7910/DVN/28538', 'doi:10.7910/DVN/24041', 'doi:10.7910/DVN/24740', 'doi:10.7910/DVN/28532', 'doi:10.7910/DVN/28758', 'doi:10.7910/DVN/28531', 'doi:10.7910/DVN/XKJ2HZ', 'doi:10.7910/DVN/I7XAUV', 'doi:10.7910/DVN/PTKJ1J', 'doi:10.7910/DVN/DKURGR', 'doi:10.7910/DVN/QIUHRO', 'doi:10.7910/DVN/HBQQVE', 'doi:10.7910/DVN/BES7ZM', 'doi:10.7910/DVN/OHIOYR', 'doi:10.7910/DVN/BCY0TX', 'doi:10.7910/DVN/MD18JZ', 'doi:10.7910/DVN/LL7K48', 'doi:10.7910/DVN/9Y6KZB', 'doi:10.7910/DVN/NKH8JU', 'doi:10.7910/DVN/9WSFAR', 'doi:10.7910/DVN/GRIAV8', 'doi:10.7910/DVN/U3STQV', 'doi:10.7910/DVN/NLT2MO', 'doi:10.7910/DVN/27883', 'doi:10.7910/DVN/ZXRD6N', 'doi:10.7910/DVN/MYABWR', 'doi:10.7910/DVN/X4Y2XB', 'doi:10.7910/DVN/K1ML0U', 'doi:10.7910/DVN/LU8KRU', 'doi:10.7910/DVN/XNAHHB', 'doi:10.7910/DVN/EFGLUB', 'doi:10.7910/DVN/LQ1FPH', 'doi:10.7910/DVN/EVGJGY', 'doi:10.7910/DVN/JU6GVD', 'doi:10.7910/DVN/PPXXD9', 'doi:10.7910/DVN/F2PKSE', 'doi:10.7910/DVN/8JCBYZ', 'doi:10.7910/DVN/ZA5F4P', 'doi:10.7910/DVN/VZQ0QU', 'doi:10.7910/DVN/FO2I5G', 'doi:10.7910/DVN/XDFJHU', 'doi:10.7910/DVN/XFJZJO', 'doi:10.7910/DVN/5BAN6C', 'doi:10.7910/DVN/GXO9ZL', 'doi:10.7910/DVN/FINYG6', 'doi:10.7910/DVN/HBEBKK', 'doi:10.7910/DVN/GQOQYL', 'doi:10.7910/DVN/27PGV2', 'doi:10.7910/DVN/VZRH2Q', 'doi:10.7910/DVN/RZIJOV', 'doi:10.7910/DVN/DBAFZY', 'doi:10.7910/DVN/GI0TEC', 'doi:10.7910/DVN/BV7MYV', 'doi:10.7910/DVN/RNWYR8', 'doi:10.7910/DVN/XPJTTJ', 'doi:10.7910/DVN/EYVOVA', 'doi:10.7910/DVN/CFL5TE', 'doi:10.7910/DVN/Y9KG57', 'doi:10.7910/DVN/SYENH1', 'doi:10.7910/DVN/AMDCSW', 'doi:10.7910/DVN/PH2CCG', 'doi:10.7910/DVN/AKSGF1', 'doi:10.7910/DVN/22795', 'doi:10.7910/DVN/ODARXH', 'doi:10.7910/DVN/MSIMRE', 'doi:10.7910/DVN/JEQ9BO', 'doi:10.7910/DVN/28527', 'doi:10.7910/DVN/6YQ6UJ', 'doi:10.7910/DVN/FYGKY2', 'doi:10.7910/DVN/HJYYTI', 'doi:10.7910/DVN/CXGYJ7', 'doi:10.7910/DVN/IFCZ7R', 'doi:10.7910/DVN/27857', 'doi:10.7910/DVN/RZ2UDT', 'doi:10.7910/DVN/ENQB3A', 'doi:10.7910/DVN/8HBVFZ', 'doi:10.7910/DVN/EJI4M2', 'doi:10.7910/DVN/SNL11W', 'doi:10.7910/DVN/ZWDQSH', 'doi:10.7910/DVN/HJRIYU', 'doi:10.7910/DVN/T8G8IV', 'doi:10.7910/DVN/VKIMH0', 'doi:10.7910/DVN/JYNEAH', 'doi:10.7910/DVN/27557', 'doi:10.7910/DVN/TP4IBX', 'doi:10.7910/DVN/LBM5UD', 'doi:10.7910/DVN/YW4WIT', 'doi:10.7910/DVN/G84XIB', 'doi:10.7910/DVN/WHVAVT', 'doi:10.7910/DVN/LG8QLB', 'doi:10.7910/DVN/HBHIP2', 'doi:10.7910/DVN/15LBJ6', 'doi:10.7910/DVN/M6HNW0', 'doi:10.7910/DVN/LHXP97', 'doi:10.7910/DVN/94ZDKL', 'doi:10.7910/DVN/9PVNZH', 'doi:10.7910/DVN/INZ3QK', 'doi:10.7910/DVN/YZBRYX', 'doi:10.7910/DVN/DH1O3J', 'doi:10.7910/DVN/WWBYML', 'doi:10.7910/DVN/8M15D6', 'doi:10.7910/DVN/RN40SP', 'doi:10.7910/DVN/PYQVUB', 'doi:10.7910/DVN/U5LO31', 'doi:10.7910/DVN/ZTMDUR', 'doi:10.7910/DVN/JXUXYA', 'doi:10.7910/DVN/L3DGCK', 'doi:10.7910/DVN/EQG0XT', 'doi:10.7910/DVN/GH5KOG', 'doi:10.7910/DVN/GTSEWP', 'doi:10.7910/DVN/TFAGMI', 'doi:10.7910/DVN/05BMJY', 'doi:10.7910/DVN/0JZ8U7', 'doi:10.7910/DVN/26496', 'doi:10.7910/DVN/28559', 'doi:10.7910/DVN/DH37H9', 'doi:10.7910/DVN/E0O4MM', 'doi:10.7910/DVN/SHIGEO', 'doi:10.7910/DVN/9BRU7N', 'doi:10.7910/DVN/3REX7R', 'doi:10.7910/DVN/IEONLO', 'doi:10.7910/DVN/5L6XOE', 'doi:10.7910/DVN/E8WVVC', 'doi:10.7910/DVN/JWMCXY', 'doi:10.7910/DVN/V4VWBQ', 'doi:10.7910/DVN/NRDIL1', 'doi:10.7910/DVN/9N5QEK', 'doi:10.7910/DVN/VA2MER', 'doi:10.7910/DVN/28556', 'doi:10.7910/DVN/JU7QP6', 'doi:10.7910/DVN/D4T5PV', 'doi:10.7910/DVN/OR6MHT', 'doi:10.7910/DVN/CFRWUQ', 'doi:10.7910/DVN/OWOETW', 'doi:10.7910/DVN/GLGMJT', 'doi:10.7910/DVN/28541', 'doi:10.7910/DVN/24774', 'doi:10.7910/DVN/XDNIGO', 'doi:10.7910/DVN/LY2OFY', 'doi:10.7910/DVN/RMFAV5', 'doi:10.7910/DVN/5094DW', 'doi:10.7910/DVN/RSL6LQ', 'doi:10.7910/DVN/IJEJGR', 'doi:10.7910/DVN/OGNMYM', 'doi:10.7910/DVN/CWNXAG', 'doi:10.7910/DVN/27970', 'doi:10.7910/DVN/H3SQEY', 'doi:10.7910/DVN/BXSYEL', 'doi:10.7910/DVN/NYGRFT', 'doi:10.7910/DVN/OFB6QR', 'doi:10.7910/DVN/LX6HCD', 'doi:10.7910/DVN/YHXS8K', 'doi:10.7910/DVN/B3KHKG', 'doi:10.7910/DVN/XC7YWM', 'doi:10.7910/DVN/TVJ6MP', 'doi:10.7910/DVN/EYQVWL', 'doi:10.7910/DVN/14LFQF', 'doi:10.7910/DVN/EFUW0R', 'doi:10.7910/DVN/KUSXJR', 'doi:10.7910/DVN/KF5XXX', 'doi:10.7910/DVN/29015', 'doi:10.7910/DVN/BAJDTA', 'doi:10.7910/DVN/BVPQFH', 'doi:10.7910/DVN/90WJ9W', 'doi:10.7910/DVN/VXCJVV', 'doi:10.7910/DVN/AAWFK7', 'doi:10.7910/DVN/IDOCML', 'doi:10.7910/DVN/DO3MSH', 'doi:10.7910/DVN/5CXCLX', 'doi:10.7910/DVN/3QEVFK', 'doi:10.7910/DVN/28540', 'doi:10.7910/DVN/LT631P', 'doi:10.7910/DVN/ZK7H2O', 'doi:10.7910/DVN/AW2HNO', 'doi:10.7910/DVN/F67UTU', 'doi:10.7910/DVN/ILVSXJ', 'doi:10.7910/DVN/WP4PFG', 'doi:10.7910/DVN/29604', 'doi:10.7910/DVN/YVZ8KR', 'doi:10.7910/DVN/4KCBHF', 'doi:10.7910/DVN/SPXN3P', 'doi:10.7910/DVN/ABOUY6', 'doi:10.7910/DVN/F3GN5T', 'doi:10.7910/DVN/DQGK1E', 'doi:10.7910/DVN/RC3IO4', 'doi:10.7910/DVN/LGZ3VV', 'doi:10.7910/DVN/9PQCET', 'doi:10.7910/DVN/YHDKKR', 'doi:10.7910/DVN/JL16EW', 'doi:10.7910/DVN/FO8WDU', 'doi:10.7910/DVN/PCJ4PF', 'doi:10.7910/DVN/X8NXC2', 'doi:10.7910/DVN/JFBI5H', 'doi:10.7910/DVN/BKMBNU', 'doi:10.7910/DVN/R9H6QI', 'doi:10.7910/DVN/SMOGPK', 'doi:10.7910/DVN/8GYEHI', 'doi:10.7910/DVN/XEZXT4', 'doi:10.7910/DVN/FSSKBW', 'doi:10.7910/DVN/A50I2T', 'doi:10.7910/DVN/FSMCTQ', 'doi:10.7910/DVN/TAFTIL', 'doi:10.7910/DVN/FEAEJ3', 'doi:10.7910/DVN/G4TBLF', 'doi:10.7910/DVN/TS3XYZ', 'doi:10.7910/DVN/MZLXVQ', 'doi:10.7910/DVN/DHXBJX', 'doi:10.7910/DVN/SEPATX', 'doi:10.7910/DVN/1PEEY0', 'doi:10.7910/DVN/TLOU7J', 'doi:10.7910/DVN/ADUNNS', 'doi:10.7910/DVN/K5NSAF', 'doi:10.7910/DVN/FB6ZHC', 'doi:10.7910/DVN/ZV1JCQ', 'doi:10.7910/DVN/YKDWJD', 'doi:10.7910/DVN/U03ZET', 'doi:10.7910/DVN/RUNZJD', 'doi:10.7910/DVN/PRFF8V', 'doi:10.7910/DVN/KYXKW4', 'doi:10.7910/DVN/DXMARV', 'doi:10.7910/DVN/PUK1P7', 'doi:10.7910/DVN/M7XIUB', 'doi:10.7910/DVN/BMPQGN', 'doi:10.7910/DVN/LXRF8B', 'doi:10.7910/DVN/QU15AW', 'doi:10.7910/DVN/WJGCAA', 'doi:10.7910/DVN/9OXBIB', 'doi:10.7910/DVN/F7IOM2', 'doi:10.7910/DVN/9IOAKR', 'doi:10.7910/DVN/XNGXTF', 'doi:10.7910/DVN/PJDGTJ', 'doi:10.7910/DVN/WTWRMH', 'doi:10.7910/DVN/LR6CQC', 'doi:10.7910/DVN/MKX1TU', 'doi:10.7910/DVN/1HZUUH', 'doi:10.7910/DVN/CMYKY8', 'doi:10.7910/DVN/SGHJ3J', 'doi:10.7910/DVN/BCYGY7', 'doi:10.7910/DVN/MQQLBX', 'doi:10.7910/DVN/VFUFLZ', 'doi:10.7910/DVN/ZZVPIG', 'doi:10.7910/DVN/KLPHCG', 'doi:10.7910/DVN/IYWWJH', 'doi:10.7910/DVN/ZH8UZI', 'doi:10.7910/DVN/UBPZEA', 'doi:10.7910/DVN/METGWF', 'doi:10.7910/DVN/UP7WQ2', 'doi:10.7910/DVN/HM9HJ4', 'doi:10.7910/DVN/OZKNYL', 'doi:10.7910/DVN/J6BHT8', 'doi:10.7910/DVN/R4U8CZ', 'doi:10.7910/DVN/22TFM8', 'doi:10.7910/DVN/EQULPS', 'doi:10.7910/DVN/G2CSNP', 'doi:10.7910/DVN/V4HO79', 'doi:10.7910/DVN/GQGQR6', 'doi:10.7910/DVN/FVEISH', 'doi:10.7910/DVN/4DDPFG', 'doi:10.7910/DVN/LMLQU3', 'doi:10.7910/DVN/XBNSDJ', 'doi:10.7910/DVN/ENL1ZP', 'doi:10.7910/DVN/5SHLUD', 'doi:10.7910/DVN/KIXV7U', 'doi:10.7910/DVN/MQHCRU', 'doi:10.7910/DVN/QUB9UT', 'doi:10.7910/DVN/NZW56Q', 'doi:10.7910/DVN/RYS40Q', 'doi:10.7910/DVN/MSZ8U1', 'doi:10.7910/DVN/HTGXH0', 'doi:10.7910/DVN/QC5MNB', 'doi:10.7910/DVN/IWK3GD', 'doi:10.7910/DVN/TZKTCK', 'doi:10.7910/DVN/PSVRUN', 'doi:10.7910/DVN/AZKPCQ', 'doi:10.7910/DVN/74QMCD', 'doi:10.7910/DVN/SYHSGE', 'doi:10.7910/DVN/JDVCEA', 'doi:10.7910/DVN/W9NR8F', 'doi:10.7910/DVN/IFSPYC', 'doi:10.7910/DVN/R9Z3YA', 'doi:10.7910/DVN/8UFV7X', 'doi:10.7910/DVN/B4CKPC', 'doi:10.7910/DVN/J73BQ7', 'doi:10.7910/DVN/ASUEVF', 'doi:10.7910/DVN/H6RWOO', 'doi:10.7910/DVN/F4ROMK', 'doi:10.7910/DVN/YEVCMD', 'doi:10.7910/DVN/OIPTG3', 'doi:10.7910/DVN/4FOVBN', 'doi:10.7910/DVN/AGVGG3', 'doi:10.7910/DVN/5TBEVN', 'doi:10.7910/DVN/UEH3F8', 'doi:10.7910/DVN/29IKQE', 'doi:10.7910/DVN/Z5ERKE', 'doi:10.7910/DVN/83BA1O', 'doi:10.7910/DVN/J0QAKN', 'doi:10.7910/DVN/AR4HZI', 'doi:10.7910/DVN/JYPIVQ', 'doi:10.7910/DVN/MFYVE6', 'doi:10.7910/DVN/UDKSBJ', 'doi:10.7910/DVN/7VFDYX', 'doi:10.7910/DVN/LXLAXI', 'doi:10.7910/DVN/WE9TM0', 'doi:10.7910/DVN/T5SAZE', 'doi:10.7910/DVN/HQRVE6', 'doi:10.7910/DVN/TROBCF', 'doi:10.7910/DVN/EH0E3B', 'doi:10.7910/DVN/CM6HDC', 'doi:10.7910/DVN/JAOXFJ', 'doi:10.7910/DVN/X148IK', 'doi:10.7910/DVN/UWLK83', 'doi:10.7910/DVN/UTBSWK', 'doi:10.7910/DVN/MP1KRD', 'doi:10.7910/DVN/ZU5J0P', 'doi:10.7910/DVN/JVYT2X', 'doi:10.7910/DVN/QGV5QC', 'doi:10.7910/DVN/VVMFBL', 'doi:10.7910/DVN/064X5M', 'doi:10.7910/DVN/HGWEPF', 'doi:10.7910/DVN/9HWY8E', 'doi:10.7910/DVN/RABHE9', 'doi:10.7910/DVN/SOPC8S', 'doi:10.7910/DVN/OQJSOT', 'doi:10.7910/DVN/2BSYUP', 'doi:10.7910/DVN/MY0ATH', 'doi:10.7910/DVN/6YPPQO', 'doi:10.7910/DVN/GUC0LB', 'doi:10.7910/DVN/ZYY7YF', 'doi:10.7910/DVN/WRBXUR', 'doi:10.7910/DVN/A1S0RP', 'doi:10.7910/DVN/BUMYV0', 'doi:10.7910/DVN/PA1CPJ', 'doi:10.7910/DVN/K3QI2Z', 'doi:10.7910/DVN/28557', 'doi:10.7910/DVN/VS4FBU', 'doi:10.7910/DVN/A2DFLB', 'doi:10.7910/DVN/DPNGVC', 'doi:10.7910/DVN/0TGTF0', 'doi:10.7910/DVN/YSWKT4', 'doi:10.7910/DVN/GXJIBF', 'doi:10.7910/DVN/DQGTMP', 'doi:10.7910/DVN/1Y8GG1', 'doi:10.7910/DVN/CWZ15L', 'doi:10.7910/DVN/IHAFEX', 'doi:10.7910/DVN/UKCEVO', 'doi:10.7910/DVN/YVYGND', 'doi:10.7910/DVN/FKEC9X', 'doi:10.7910/DVN/MXMI8V', 'doi:10.7910/DVN/2TLSY3', 'doi:10.7910/DVN/TW1LEH', 'doi:10.7910/DVN/6ZQGPJ', 'doi:10.7910/DVN/YCMMVK', 'doi:10.7910/DVN/5J213L', 'doi:10.7910/DVN/PPUL2W', 'doi:10.7910/DVN/MHNV4D', 'doi:10.7910/DVN/X6QS6M', 'doi:10.7910/DVN/3HVZH3', 'doi:10.7910/DVN/ZUFXYG', 'doi:10.7910/DVN/ACXBG9', 'doi:10.7910/DVN/HYF6G9', 'doi:10.7910/DVN/RSVA09', 'doi:10.7910/DVN/8GPPTG', 'doi:10.7910/DVN/RE6WVM', 'doi:10.7910/DVN/KNI58X', 'doi:10.7910/DVN/ZQKOBU', 'doi:10.7910/DVN/MT5MKY', 'doi:10.7910/DVN/I2RGRB', 'doi:10.7910/DVN/OOQVF5', 'doi:10.7910/DVN/4XF0FB', 'doi:10.7910/DVN/BTSVWT', 'doi:10.7910/DVN/0LFGL1', 'doi:10.7910/DVN/MDMHKN', 'doi:10.7910/DVN/F0MLE3', 'doi:10.7910/DVN/TYDQCQ', 'doi:10.7910/DVN/SVWMVO', 'doi:10.7910/DVN/KVJZQA', 'doi:10.7910/DVN/GZKBRU', 'doi:10.7910/DVN/MDNRRV', 'doi:10.7910/DVN/BKERTH', 'doi:10.7910/DVN/5LHT8V', 'doi:10.7910/DVN/IBABMQ', 'doi:10.7910/DVN/CNKPU6', 'doi:10.7910/DVN/4JQOLN', 'doi:10.7910/DVN/MQY7NQ', 'doi:10.7910/DVN/WBL59B', 'doi:10.7910/DVN/QLNNBW', 'doi:10.7910/DVN/VRTE2L', 'doi:10.7910/DVN/EAU3TZ', 'doi:10.7910/DVN/WANYPX', 'doi:10.7910/DVN/5L2GLP', 'doi:10.7910/DVN/ZVCEPB', 'doi:10.7910/DVN/A0EAD7', 'doi:10.7910/DVN/YRAXWN', 'doi:10.7910/DVN/MNPPJJ', 'doi:10.7910/DVN/XWCXKL', 'doi:10.7910/DVN/CDJMFY', 'doi:10.7910/DVN/XUFDPW', 'doi:10.7910/DVN/K9CDUR', 'doi:10.7910/DVN/0T1OLX', 'doi:10.7910/DVN/ZMP4MZ', 'doi:10.7910/DVN/YOENAT', 'doi:10.7910/DVN/DKWPIN', 'doi:10.7910/DVN/3WPEM8', 'doi:10.7910/DVN/IQQ2TS', 'doi:10.7910/DVN/1YCDCB', 'doi:10.7910/DVN/BGZ6ID', 'doi:10.7910/DVN/2JUJGR', 'doi:10.7910/DVN/IR12XU', 'doi:10.7910/DVN/AC8HWF', 'doi:10.7910/DVN/GHDHIK', 'doi:10.7910/DVN/J9NONK', 'doi:10.7910/DVN/LLVX1G']\n"
     ]
    }
   ],
   "source": [
    "print(datasetPIDs)"
   ]
  },
  {
   "cell_type": "markdown",
   "metadata": {},
   "source": [
    "Create a dataframe for dataset info: date of publication, the release date of the latest version, number of versions\n",
    "\n",
    "_Getting this info can be slow. For example, getting the info of ~375 datasets might take 45 min_"
   ]
  },
  {
   "cell_type": "code",
   "execution_count": 13,
   "metadata": {},
   "outputs": [
    {
     "name": "stdout",
     "output_type": "stream",
     "text": [
      "The metadata of 7 dataset(s) could not be retrieved\n"
     ]
    }
   ],
   "source": [
    "# Create list of file types that Dataverse can convert to .tab files during ingest\n",
    "uningestedFileTypes = ['application/x-rlang-transport', 'application/x-stata-13', 'application/x-spss-por',\n",
    "                      'application/vnd.openxmlformats-officedocument.spreadsheetml.sheet', 'text/csv', 'text/tsv',\n",
    "                      'application/x-spss-sav', 'text/comma-separated-values', 'application/x-stata',\n",
    "                      'application/x-stata-14']\n",
    "\n",
    "rowList = []\n",
    "datasetCount = 0\n",
    "for datasetPID in datasetPIDs:\n",
    "    getAllVersionsApi = '%s/api/datasets/:persistentId/versions?persistentId=%s' % (server, datasetPID)\n",
    "    response = requests.get(getAllVersionsApi)\n",
    "    datasetVersions = response.json()\n",
    "    \n",
    "    # Get only datasets with metadata (exclude responses with no values in 'data' key, e.g. deaccessioned datasets)\n",
    "    if datasetVersions['status'] == 'OK' and len(datasetVersions['data']) > 0:\n",
    "        \n",
    "        # Get metadata of latest version\n",
    "        latestDatasetVersion = datasetVersions['data'][0]\n",
    "        \n",
    "        # Get index location of first dataset version\n",
    "        firstVersion = len(datasetVersions['data']) - 1\n",
    "\n",
    "        publicationDate = string_to_datetime(datasetVersions['data'][firstVersion]['releaseTime'])\n",
    "        latestReleaseDate = string_to_datetime(latestDatasetVersion['releaseTime'])\n",
    "        \n",
    "        # Get age of dataset from today's date\n",
    "        delta = currentTime - publicationDate\n",
    "        ageOfDataset = delta.days\n",
    "        \n",
    "        # Get number of days since last update\n",
    "        delta = currentTime - latestReleaseDate\n",
    "        ageOfLastUpdate = delta.days\n",
    "        \n",
    "        # Get length of description text\n",
    "        descriptionLength = 0\n",
    "        for field in latestDatasetVersion['metadataBlocks']['citation']['fields']:\n",
    "            if field['typeName'] == 'dsDescription':\n",
    "                for i in field['value']:\n",
    "                    descriptionLength = descriptionLength + len(i['dsDescriptionValue']['value'])\n",
    "\n",
    "        # See whether CC0 or Terms of Use metadata exists\n",
    "        license = latestDatasetVersion.get('license', 'None')\n",
    "\n",
    "        try:\n",
    "            termsOfUse = latestDatasetVersion['termsOfUse']\n",
    "            termsOfUse = True\n",
    "        except KeyError:\n",
    "            termsOfUse = False\n",
    "            \n",
    "            \n",
    "        try:\n",
    "            termsOfAccess = latestDatasetVersion['termsOfAccess']\n",
    "            termsOfAccess = True\n",
    "        except KeyError:\n",
    "            termsOfAccess = False\n",
    "\n",
    "        if license != 'CC0' and termsOfUse == False:\n",
    "            termsExist = False\n",
    "        else:\n",
    "            termsExist = True\n",
    "\n",
    "        # Get info about related publication metadata\n",
    "        relPubCount = 0\n",
    "        relPubPIDCount = 0\n",
    "        for field in latestDatasetVersion['metadataBlocks']['citation']['fields']:\n",
    "            if field['typeName'] == 'publication':\n",
    "                for value in field['value']:\n",
    "                    relPubCount += 1\n",
    "                    try:\n",
    "                        publicationIDType = value['publicationIDType']\n",
    "                        publicationIDNumber = value['publicationIDNumber']\n",
    "                        relPubPIDCount += 1\n",
    "                    except KeyError:\n",
    "                        relPubPIDCount = relPubPIDCount\n",
    "            else:\n",
    "                relPubCount = relPubCount\n",
    "        \n",
    "        # Show metadatablocks whose fields are used by the dataset\n",
    "        usedMetadataBlocks = []\n",
    "        for repositoryMetadataBlockName in repositoryMetadataBlockNames:\n",
    "            try:\n",
    "                fieldCount = len(latestDatasetVersion['metadataBlocks'][repositoryMetadataBlockName]['fields'])\n",
    "                if fieldCount > 0:\n",
    "                    usedMetadataBlocks.append(repositoryMetadataBlockName)\n",
    "            except KeyError:\n",
    "                usedMetadataBlocks = usedMetadataBlocks\n",
    "        if len(usedMetadataBlocks) == 0:\n",
    "            usedMetadataBlocks = ''\n",
    "        else:\n",
    "            usedMetadataBlocks = list_to_string(usedMetadataBlocks)\n",
    "        \n",
    "        # Get number of files\n",
    "        numberOfFiles = len(latestDatasetVersion['files'])\n",
    "\n",
    "        # Get file info\n",
    "        noFileDescriptionCount = 0\n",
    "        contentType = []\n",
    "        ingestedTabFilesCount = 0\n",
    "        uningestedTabFilesCount = 0\n",
    "        restrictedFilesCount = 0\n",
    "        fileTags = []\n",
    "        for file in latestDatasetVersion['files']:            \n",
    "            if 'description' in file:\n",
    "                noFileDescriptionCount = noFileDescriptionCount\n",
    "            else:\n",
    "                noFileDescriptionCount += 1\n",
    "            contentType.append(file['dataFile']['contentType'])\n",
    "            if file['restricted'] == True:\n",
    "                restrictedFilesCount += 1\n",
    "            if file['dataFile']['contentType'] in uningestedFileTypes:\n",
    "                uningestedTabFilesCount += 1\n",
    "            if file['dataFile']['contentType'] == 'text/tab-separated-values':\n",
    "                ingestedTabFilesCount += 1\n",
    "            try:\n",
    "                for tags in file['categories']:\n",
    "                    fileTags.append(tags)\n",
    "            except KeyError:\n",
    "                fileTags = fileTags\n",
    "\n",
    "        if len(fileTags) == 0:\n",
    "            fileTagsExist = False\n",
    "        else:\n",
    "            fileTagsExist = True\n",
    "\n",
    "        if len(contentType) == 0:\n",
    "            uniqueContentTypes = 'NA'\n",
    "        else:\n",
    "            uniqueContentTypes = list_to_string(list(set(contentType)))\n",
    "\n",
    "        # Create dictionary\n",
    "        newRow = {'datasetPID': datasetPID,\n",
    "                  'datasetPIDUrl' : datasetPID.replace('doi:', 'https://doi.org/'),\n",
    "                  'numberOfVersions': len(datasetVersions['data']),\n",
    "                  'numberOfMajorVersions': latestDatasetVersion['versionNumber'],\n",
    "                  'publicationDate': publicationDate,\n",
    "                  'latestReleaseDate': latestReleaseDate,\n",
    "                  'ageOfDataset(Days)': ageOfDataset,\n",
    "                  'ageOfLastUpdate(Days)': ageOfLastUpdate,\n",
    "                  'descriptionLenth': descriptionLength,\n",
    "                  'termsExist': termsExist,\n",
    "                  'license': license,\n",
    "                  'termsOfUseExists': termsOfUse,\n",
    "                  'termsOfAccessExists': termsOfAccess,\n",
    "                  'relPubCount': relPubCount,\n",
    "                  'relPubPIDCount': relPubPIDCount,\n",
    "                  'usedMetadataBlocks': usedMetadataBlocks,\n",
    "                  'numberOfFiles': numberOfFiles,\n",
    "                  'noFileDescriptionCount': noFileDescriptionCount,\n",
    "                  'fileTagsExist': fileTagsExist,\n",
    "                  'uniqueContentTypes': uniqueContentTypes,\n",
    "                  'ingestedTabFilesCount': ingestedTabFilesCount,\n",
    "                  'uningestedTabFilesCount': uningestedTabFilesCount,\n",
    "                  'restrictedFilesCount': restrictedFilesCount\n",
    "                 }\n",
    "        rowList.append(dict(newRow))\n",
    "        datasetCount += 1\n",
    "        print('%s of %s (%s)' % (datasetCount, len(datasetPIDs), datasetPID), end='\\r', flush=True)\n",
    "        \n",
    "if len(datasetPIDs) != datasetCount:\n",
    "    print('The metadata of %s dataset(s) could not be retrieved' % (len(datasetPIDs) - datasetCount))\n"
   ]
  },
  {
   "cell_type": "code",
   "execution_count": 14,
   "metadata": {},
   "outputs": [],
   "source": [
    "datasetInfoDF = pd.DataFrame(rowList)"
   ]
  },
  {
   "cell_type": "code",
   "execution_count": 15,
   "metadata": {},
   "outputs": [],
   "source": [
    "dataframes = [datasetDataverseInfoDF, datasetInfoDF]\n",
    "\n",
    "# For each dataframe, set the indexes (or the common columns across the dataframes to join on)\n",
    "for dataframe in dataframes:\n",
    "    dataframe.set_index(['datasetPID'], inplace=True)\n",
    "\n",
    "# Merge both dataframes and save to the 'merged' variable\n",
    "report = reduce(lambda left, right: left.join(right, how='outer'), dataframes)\n",
    "\n",
    "# Reset index\n",
    "report.reset_index(drop=False, inplace=True)\n",
    "\n",
    "file = '%s_datasets.csv' % (mainDataverseAlias)\n",
    "report.to_csv(file, index=False)\n"
   ]
  },
  {
   "cell_type": "code",
   "execution_count": null,
   "metadata": {},
   "outputs": [],
   "source": [
    "# # Show date of first published dataset\n",
    "# publicationDates = df['publicationDate']\n",
    "# firstPublicationDate = publicationDates.min()\n",
    "\n",
    "# # Show date of most recently published or updated dataset\n",
    "# latestReleaseDates = df['latestReleaseDate']\n",
    "# lastReleaseDate = latestReleaseDates.min()\n",
    "\n",
    "# # Show age of most recently published or updated dataset\n",
    "# ageOfLastUpdates = df['ageOfLastUpdate']\n",
    "# ageOfLastUpdate = ageOfLastUpdates.min()\n",
    "\n",
    "# # Show average age of datasets\n",
    "# ageOfDatasets = df['ageOfDataset(Days)']\n",
    "# averageAge = ageOfDatasets.mean()\n",
    "\n",
    "# # Show average number of dataset versions\n",
    "# numberOfVersions = df['numberOfVersions']\n",
    "# averageNumberOfVersions = numberOfVersions.mean()\n",
    "\n",
    "# # Create list of datasets with fewer than a certain number of characters in their descriptions\n",
    "# lowDescriptionCount = df[df['descriptionLenth'] < 20]\n",
    "# lowDescriptionCount = lowDescriptionCount['datasetPID']\n"
   ]
  },
  {
   "cell_type": "code",
   "execution_count": null,
   "metadata": {},
   "outputs": [],
   "source": [
    "# List count of each unique file format"
   ]
  }
 ],
 "metadata": {
  "hide_input": false,
  "kernelspec": {
   "display_name": "Python 3",
   "language": "python",
   "name": "python3"
  },
  "language_info": {
   "codemirror_mode": {
    "name": "ipython",
    "version": 3
   },
   "file_extension": ".py",
   "mimetype": "text/x-python",
   "name": "python",
   "nbconvert_exporter": "python",
   "pygments_lexer": "ipython3",
   "version": "3.7.0"
  },
  "toc": {
   "base_numbering": 1,
   "nav_menu": {},
   "number_sections": true,
   "sideBar": true,
   "skip_h1_title": false,
   "title_cell": "Table of Contents",
   "title_sidebar": "Contents",
   "toc_cell": true,
   "toc_position": {},
   "toc_section_display": true,
   "toc_window_display": false
  }
 },
 "nbformat": 4,
 "nbformat_minor": 4
}
