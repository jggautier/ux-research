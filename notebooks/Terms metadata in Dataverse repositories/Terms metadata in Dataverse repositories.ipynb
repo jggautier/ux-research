{
 "cells": [
  {
   "cell_type": "markdown",
   "metadata": {},
   "source": [
    "# Terms metadata in Dataverse repositories\n",
    "\n",
    "As part of the work to make it easier for dataset depositors to specify how they're data should be access and used by letting them choose from a pre-defined list of licenses, questions have been brought up about the relationship between waivers/licenses and the other Terms metadata fields (e.g. Terms of Use, Terms of Access, Conditions) that the Dataverse software ships with.\n",
    "\n",
    "This notebook explores the Terms metadata of Dataverse repositories to help explore that relationship in practice. It identifies published datasets with both:\n",
    "- a CC0 waiver or a license and\n",
    "- metadata entered in one or more of the other Terms metadata fields\n",
    "\n",
    "to help answer the following questions:\n",
    "\n",
    "- When depositors publish datasets with a CC0 waiver or a license, how often are they filling the other Terms fields?\n",
    "- When depositors publish datasets with a CC0 waiver or a license and fill one or more other Terms fields, are they entering metadata that conflicts or might conflict with the license?\n",
    "\n",
    "## Considerations\n",
    "- This is an exploration of depositor behavior and not necessarily what they \"should\" be doing.\n",
    "- The data used in this exploration comes from 49 of 67 known Dataverse repositories, so it's only a sample of the population.\n",
    "- Repositories have different levels of control over the quality of the metadata they publish. Some repositories allow anyone to publish datasets and don't intervene at all or in all cases to prevent datasets that have conflicting metadata. At the other end, some repositories have complete control. The level of control and expertise applied when publishing datasets should be taken into account if a goal of this \"multiple licenses\" work is to add functionality that helps depositors with any level of curation expertise easily apply Terms metadata easily that follows best practices for data sharing."
   ]
  },
  {
   "cell_type": "code",
   "execution_count": 99,
   "metadata": {},
   "outputs": [],
   "source": [
    "import csv\n",
    "from google_trans_new import google_translator\n",
    "import pandas as pd\n"
   ]
  },
  {
   "cell_type": "markdown",
   "metadata": {},
   "source": [
    "## Getting the data\n",
    "\n",
    "The terms_metadata.tab file contains some basic metadata and the \"Terms\" metadata of all published versions of every dataset published in 49 known Dataverse repositories. Each row of the tabular file is a published version of a dataset, so there can be multiple rows (versions) per dataset. Each dataset has a unique persistentUrl, but the database ID for each dataset version, in the datasetVersionId column, is unique only within each of the 49 repositories, and versions of different datasets in different repositories share the same datasetVersionId.\n",
    "\n",
    "Getting the data in terms_metadata.tab:\n",
    "- Download the 49 zipped files at https://doi.org/10.7910/DVN/DCDKZQ. Each zipped file contains the metadata of each published version of every dataset published in 49 known Dataverse repositories\n",
    "- Using your preferred method, move all JSON files into a single folder\n",
    "- Run the two scripts \"get_basic_metadata.py\" and \"get_terms_metadata.py\" at https://github.com/jggautier/dataverse_scripts/tree/master/get-dataverse-metadata/parse_metadata_fields with that folder as the input to get two CSV files, one containing the basic metadata of all datasets (publisher names, PIDs, publication dates, version numbers, etc), and one containing the Terms metadata for each version of each dataset.\n",
    "- Using your preferred method, retain from the basic_metadata file only the 'publisher', 'persistentUrl', 'datasetVersionId', 'majorVersionNumber', and 'minorVersionNumber' columns.\n",
    "- Using your preferred method, join both CSV files on their persistentUrl and datasetVersionId columns\n",
    "- Export the results as a .tab file (or export as a CSV and convert to TAB). Because of the Dataverse software's preference for .tab files, it's easier to work with if you plan to publish this data in a Dataverse repository"
   ]
  },
  {
   "cell_type": "code",
   "execution_count": 2,
   "metadata": {},
   "outputs": [],
   "source": [
    "data = pd.read_csv('terms_metadata.tab', sep='\\t', na_filter = False)"
   ]
  },
  {
   "cell_type": "code",
   "execution_count": 3,
   "metadata": {},
   "outputs": [
    {
     "name": "stdout",
     "output_type": "stream",
     "text": [
      "Number of datasets: 133253\n",
      "Number of dataset versions: 347241\n"
     ]
    }
   ],
   "source": [
    "# Check data\n",
    "print('Number of datasets: %s' % (len(pd.unique(data['persistentUrl']))))\n",
    "print('Number of dataset versions: %s' %(len(data)))\n",
    "      "
   ]
  },
  {
   "cell_type": "code",
   "execution_count": null,
   "metadata": {},
   "outputs": [],
   "source": [
    "data.head(5)\n"
   ]
  },
  {
   "cell_type": "markdown",
   "metadata": {},
   "source": [
    "To make things simple, lets look at the metadata of only latest published version of each dataset."
   ]
  },
  {
   "cell_type": "code",
   "execution_count": 4,
   "metadata": {},
   "outputs": [],
   "source": [
    "# Get only metadata for the latest versions of each dataset\n",
    "latestversion = data.iloc[data.groupby('persistentUrl')['datasetVersionId'].agg(pd.Series.idxmax)].sort_values(by=['publisher'], inplace=False, ascending=True).reset_index(drop=True, inplace=False)\n"
   ]
  },
  {
   "cell_type": "code",
   "execution_count": null,
   "metadata": {},
   "outputs": [],
   "source": [
    "# Check data\n",
    "print('Number of datasets: %s' % (len(pd.unique(latestversion['persistentUrl']))))\n",
    "print('Number of dataset versions: %s' %(latestversion.shape[0]))\n"
   ]
  },
  {
   "cell_type": "code",
   "execution_count": null,
   "metadata": {},
   "outputs": [],
   "source": [
    "latestversion.head(5)\n"
   ]
  },
  {
   "cell_type": "markdown",
   "metadata": {},
   "source": [
    "To make data munging easier, let's replace any blank values with null. We also know that Dartmouth's metadata exports use the default value \"Root\" in their publisher field. So to identify datasets from that repository, let's replace all cases of \"Root\" in the \"publisher\" column with \"Dartmouth\"."
   ]
  },
  {
   "cell_type": "code",
   "execution_count": 32,
   "metadata": {},
   "outputs": [],
   "source": [
    "# Replace any blank values with NaN\n",
    "latestversion = latestversion.replace(r'^\\s*$', np.nan, regex=True)\n",
    "\n",
    "# Replace publsiher \"Root\" with Dartmouth\n",
    "latestversion['publisher'] = latestversion['publisher'].replace(['Root'],'Dartmouth')\n"
   ]
  },
  {
   "cell_type": "markdown",
   "metadata": {},
   "source": [
    "## Exploring the data"
   ]
  },
  {
   "cell_type": "markdown",
   "metadata": {},
   "source": [
    "What are repositories putting in the their datasets' license fields? The Dataverse software ships with support to add a CC0 waiver, and the database stores that waiver in the \"license\" field (which isn't accessible by the depositor). But some repositories have forked their Dataverse installation to let depositors choose a CC BY license instead. So let's see what values in the license field we need to consider."
   ]
  },
  {
   "cell_type": "code",
   "execution_count": 33,
   "metadata": {
    "scrolled": true
   },
   "outputs": [
    {
     "data": {
      "text/plain": [
       "array(['NONE', 'CC0', 'CC BY', nan, 'CCBY'], dtype=object)"
      ]
     },
     "execution_count": 33,
     "metadata": {},
     "output_type": "execute_result"
    }
   ],
   "source": [
    "latestversion.license.unique()"
   ]
  },
  {
   "cell_type": "markdown",
   "metadata": {},
   "source": [
    "Looks like the variation is CC0, CC BY, and CCBY. The software applies \"NONE\" when depositors indicate that they don't want the CC0 waiver applied, at which point the Terms of Use field appears in the UI. Depositors can enter anything in that field, including any type of license, but based on community discussion the CC0 waiver and the CCBY license may be the most popular applied to datasets, so we'll narrow our exploration to only those two things.\n",
    "\n",
    "Depositors can also enter licenses in other Terms fields, e.g. Terms of Access or Conditions, but it might be fair to assume that, most datasets with licences have that license text in their Terms of Use field, either entered automatically by the Dataverse software when the depositor chooses CC0 or CCBY, or, because of the visual prominence of the Terms of Use field, entered by the depositor when she doesn't choose CC0 or CCBY. So we'll look for datasets that have text in their Terms of Use field that indicates a CC0 waiver, a CCBY license or another creative commons license.\n",
    "\n",
    "That is, which datasets have the CC0 waiver or CCBY licenses in their Terms of Use metadata? It should be safe and easy to assume that datasets with the words \"creative commons\" in their Terms of Use metadata will have some sort of Creative Commons license applied, so we'll query for that as well."
   ]
  },
  {
   "cell_type": "code",
   "execution_count": 34,
   "metadata": {},
   "outputs": [],
   "source": [
    "data_with_licenses = (\n",
    "    latestversion.query(\n",
    "        'termsOfUse.str.contains(\"CC0\")\\\n",
    "        or termsOfUse.str.contains(\"CCBY\")\\\n",
    "        or termsOfUse.str.contains(\"CC BY\")\\\n",
    "        or termsOfUse.str.contains(\"creative commons\", case = False)'\n",
    "    )\n",
    ")"
   ]
  },
  {
   "cell_type": "code",
   "execution_count": 35,
   "metadata": {},
   "outputs": [
    {
     "name": "stdout",
     "output_type": "stream",
     "text": [
      "Number of datasets: 113307\n"
     ]
    }
   ],
   "source": [
    "# Check data\n",
    "print('Number of datasets: %s' % (len(pd.unique(data_with_licenses['persistentUrl']))))\n"
   ]
  },
  {
   "cell_type": "markdown",
   "metadata": {},
   "source": [
    "Of the datasets with a CC waiver or license in their ToU field, which have any text in their other Terms metadata?"
   ]
  },
  {
   "cell_type": "code",
   "execution_count": 36,
   "metadata": {},
   "outputs": [],
   "source": [
    "data_with_licenses_and_other_terms = (\n",
    "    data_with_licenses.query(\n",
    "        'termsOfAccess == termsOfAccess or\\\n",
    "        availabilityStatus == availabilityStatus or\\\n",
    "        citationRequirements == citationRequirements or\\\n",
    "        conditions == conditions or\\\n",
    "        confidentialityDeclaration == confidentialityDeclaration or\\\n",
    "        contactForAccess == contactForAccess or\\\n",
    "        dataaccessPlace == dataaccessPlace or\\\n",
    "        depositorRequirements == depositorRequirements or\\\n",
    "        disclaimer == disclaimer or\\\n",
    "        originalArchive == originalArchive or\\\n",
    "        restrictions == restrictions or\\\n",
    "        sizeOfCollection == sizeOfCollection or\\\n",
    "        specialPermissions == specialPermissions or\\\n",
    "        studyCompletion == studyCompletion'\n",
    "    )\n",
    ")\n"
   ]
  },
  {
   "cell_type": "code",
   "execution_count": 37,
   "metadata": {},
   "outputs": [
    {
     "name": "stdout",
     "output_type": "stream",
     "text": [
      "Number of datasets: 5804\n"
     ]
    }
   ],
   "source": [
    "# Check data\n",
    "print('Number of datasets: %s' % (len(pd.unique(data_with_licenses_and_other_terms['persistentUrl']))))\n"
   ]
  },
  {
   "cell_type": "code",
   "execution_count": null,
   "metadata": {
    "scrolled": true
   },
   "outputs": [],
   "source": [
    "data_with_licenses_and_other_terms.head(5)"
   ]
  },
  {
   "cell_type": "markdown",
   "metadata": {},
   "source": [
    "5,804 datasets fit this bill.\n",
    "\n",
    "Now we have data we can use to answer our two questions:\n",
    "- When depositors add data with CC0 waivers or CC licenses, how often are they filling the other Terms fields?\n",
    "- When depositors add data with CC0 waivers or CC licenses and they fill one or more other Terms fields, are they entering things that conflict or might conflict with the waiver or CC license?\n",
    "\n",
    "Let's try to get a sense of the variety of Terms metadata entered and what kind of grouping we can do to learn how prevelant certain behaviors are.\n",
    "\n",
    "First let's see how many unique values exist for each field in these 5,804 datasets."
   ]
  },
  {
   "cell_type": "code",
   "execution_count": 38,
   "metadata": {},
   "outputs": [
    {
     "name": "stdout",
     "output_type": "stream",
     "text": [
      "termsOfAccess: 684\n",
      "availabilityStatus: 24\n",
      "citationRequirements: 562\n",
      "conditions: 39\n",
      "confidentialityDeclaration: 24\n",
      "contactForAccess: 63\n",
      "dataaccessPlace: 0\n",
      "depositorRequirements: 71\n",
      "disclaimer: 291\n",
      "originalArchive: 22\n",
      "restrictions: 59\n",
      "sizeOfCollection: 18\n",
      "specialPermissions: 22\n",
      "studyCompletion: 3\n"
     ]
    }
   ],
   "source": [
    "termsFields = ['termsOfAccess', 'availabilityStatus', 'citationRequirements', 'conditions', 'confidentialityDeclaration', 'contactForAccess', 'dataaccessPlace', 'depositorRequirements', 'disclaimer', 'originalArchive', 'restrictions', 'sizeOfCollection', 'specialPermissions', 'studyCompletion']\n",
    "for field in termsFields:\n",
    "    print(field + ': ' + str(data_with_licenses_and_other_terms[field].nunique()))"
   ]
  },
  {
   "cell_type": "markdown",
   "metadata": {},
   "source": [
    "So there are no values entered in dataaccessPlace. There are very few unique values entered in fields like studyCompletion and availabilityStatus. Lots of variation in termsOfAccess and citationRequirements.\n",
    "\n",
    "Let's see how many of these datasets are published in each repository.\n"
   ]
  },
  {
   "cell_type": "code",
   "execution_count": 39,
   "metadata": {
    "scrolled": true
   },
   "outputs": [
    {
     "data": {
      "text/html": [
       "<div>\n",
       "<style scoped>\n",
       "    .dataframe tbody tr th:only-of-type {\n",
       "        vertical-align: middle;\n",
       "    }\n",
       "\n",
       "    .dataframe tbody tr th {\n",
       "        vertical-align: top;\n",
       "    }\n",
       "\n",
       "    .dataframe thead th {\n",
       "        text-align: right;\n",
       "    }\n",
       "</style>\n",
       "<table border=\"1\" class=\"dataframe\">\n",
       "  <thead>\n",
       "    <tr style=\"text-align: right;\">\n",
       "      <th></th>\n",
       "      <th>dataset_count</th>\n",
       "    </tr>\n",
       "    <tr>\n",
       "      <th>publisher</th>\n",
       "      <th></th>\n",
       "    </tr>\n",
       "  </thead>\n",
       "  <tbody>\n",
       "    <tr>\n",
       "      <th>RIN Dataverse</th>\n",
       "      <td>2278</td>\n",
       "    </tr>\n",
       "    <tr>\n",
       "      <th>Harvard Dataverse</th>\n",
       "      <td>1963</td>\n",
       "    </tr>\n",
       "    <tr>\n",
       "      <th>AUSSDA</th>\n",
       "      <td>447</td>\n",
       "    </tr>\n",
       "    <tr>\n",
       "      <th>Scholars Portal Dataverse</th>\n",
       "      <td>284</td>\n",
       "    </tr>\n",
       "    <tr>\n",
       "      <th>UNC Dataverse</th>\n",
       "      <td>156</td>\n",
       "    </tr>\n",
       "    <tr>\n",
       "      <th>ICRISAT Dataverse</th>\n",
       "      <td>119</td>\n",
       "    </tr>\n",
       "    <tr>\n",
       "      <th>World Agroforestry - Research Data Repository</th>\n",
       "      <td>97</td>\n",
       "    </tr>\n",
       "    <tr>\n",
       "      <th>QDR Main Collection</th>\n",
       "      <td>86</td>\n",
       "    </tr>\n",
       "    <tr>\n",
       "      <th>DataverseNL</th>\n",
       "      <td>54</td>\n",
       "    </tr>\n",
       "    <tr>\n",
       "      <th>Peking University Open Research Data Platform</th>\n",
       "      <td>53</td>\n",
       "    </tr>\n",
       "    <tr>\n",
       "      <th>NIE Data Repository</th>\n",
       "      <td>42</td>\n",
       "    </tr>\n",
       "    <tr>\n",
       "      <th>Dartmouth</th>\n",
       "      <td>39</td>\n",
       "    </tr>\n",
       "    <tr>\n",
       "      <th>heiDATA</th>\n",
       "      <td>39</td>\n",
       "    </tr>\n",
       "    <tr>\n",
       "      <th>DR-NTU (Data)</th>\n",
       "      <td>33</td>\n",
       "    </tr>\n",
       "    <tr>\n",
       "      <th>Portail Data INRAE</th>\n",
       "      <td>19</td>\n",
       "    </tr>\n",
       "    <tr>\n",
       "      <th>DataverseNO</th>\n",
       "      <td>15</td>\n",
       "    </tr>\n",
       "    <tr>\n",
       "      <th>Universidad del Rosario</th>\n",
       "      <td>15</td>\n",
       "    </tr>\n",
       "    <tr>\n",
       "      <th>Abacus Data Network</th>\n",
       "      <td>13</td>\n",
       "    </tr>\n",
       "    <tr>\n",
       "      <th>IISH Data Collection</th>\n",
       "      <td>12</td>\n",
       "    </tr>\n",
       "    <tr>\n",
       "      <th>UAL Dataverse</th>\n",
       "      <td>7</td>\n",
       "    </tr>\n",
       "    <tr>\n",
       "      <th>UCLA Dataverse</th>\n",
       "      <td>5</td>\n",
       "    </tr>\n",
       "    <tr>\n",
       "      <th>Johns Hopkins University Data Archive</th>\n",
       "      <td>4</td>\n",
       "    </tr>\n",
       "    <tr>\n",
       "      <th>University of Manitoba</th>\n",
       "      <td>4</td>\n",
       "    </tr>\n",
       "    <tr>\n",
       "      <th>University of Virginia Dataverse</th>\n",
       "      <td>4</td>\n",
       "    </tr>\n",
       "    <tr>\n",
       "      <th>DataSuds</th>\n",
       "      <td>3</td>\n",
       "    </tr>\n",
       "    <tr>\n",
       "      <th>UNIMI Dataverse</th>\n",
       "      <td>3</td>\n",
       "    </tr>\n",
       "    <tr>\n",
       "      <th>Center for International Forestry Research (CIFOR)</th>\n",
       "      <td>3</td>\n",
       "    </tr>\n",
       "    <tr>\n",
       "      <th>DaRUS</th>\n",
       "      <td>2</td>\n",
       "    </tr>\n",
       "    <tr>\n",
       "      <th>e-cienciaDatos</th>\n",
       "      <td>2</td>\n",
       "    </tr>\n",
       "    <tr>\n",
       "      <th>Université Gustave Eiffel</th>\n",
       "      <td>1</td>\n",
       "    </tr>\n",
       "    <tr>\n",
       "      <th>data.sciencespo</th>\n",
       "      <td>1</td>\n",
       "    </tr>\n",
       "    <tr>\n",
       "      <th>ADA Dataverse</th>\n",
       "      <td>1</td>\n",
       "    </tr>\n",
       "  </tbody>\n",
       "</table>\n",
       "</div>"
      ],
      "text/plain": [
       "                                                    dataset_count\n",
       "publisher                                                        \n",
       "RIN Dataverse                                                2278\n",
       "Harvard Dataverse                                            1963\n",
       "AUSSDA                                                        447\n",
       "Scholars Portal Dataverse                                     284\n",
       "UNC Dataverse                                                 156\n",
       "ICRISAT Dataverse                                             119\n",
       "World Agroforestry - Research Data Repository                  97\n",
       "QDR Main Collection                                            86\n",
       "DataverseNL                                                    54\n",
       "Peking University Open Research Data Platform                  53\n",
       "NIE Data Repository                                            42\n",
       "Dartmouth                                                      39\n",
       "heiDATA                                                        39\n",
       "DR-NTU (Data)                                                  33\n",
       "Portail Data INRAE                                             19\n",
       "DataverseNO                                                    15\n",
       "Universidad del Rosario                                        15\n",
       "Abacus Data Network                                            13\n",
       "IISH Data Collection                                           12\n",
       "UAL Dataverse                                                   7\n",
       "UCLA Dataverse                                                  5\n",
       "Johns Hopkins University Data Archive                           4\n",
       "University of Manitoba                                          4\n",
       "University of Virginia Dataverse                                4\n",
       "DataSuds                                                        3\n",
       "UNIMI Dataverse                                                 3\n",
       "Center for International Forestry Research (CIFOR)              3\n",
       "DaRUS                                                           2\n",
       "e-cienciaDatos                                                  2\n",
       "Université Gustave Eiffel                                       1\n",
       "data.sciencespo                                                 1\n",
       "ADA Dataverse                                                   1"
      ]
     },
     "execution_count": 39,
     "metadata": {},
     "output_type": "execute_result"
    }
   ],
   "source": [
    "datasetsByPublisher = data_with_licenses_and_other_terms.value_counts(subset=['publisher']).to_frame('dataset_count')\n",
    "datasetsByPublisher\n"
   ]
  },
  {
   "cell_type": "markdown",
   "metadata": {},
   "source": [
    "In the top two repositories, and 4 of the top 5, publishing datasets is less centralized, meaning control over what's published and the quailty of it is left to depositors and there's less installation-wide control over what's published. This increases the chance that the metadata, and in this case the Terms metadata, is created by depositors who don't apply a lot of knowledge about data licenses and their relationship to the Dataverse software's DDI-inspired Terms metadata fields. \n",
    "\n",
    "This will make generalizing more difficult, so let's narrow our exploration to a few of the top 5 repositories listed where there's no or little installation-wide control over what's published."
   ]
  },
  {
   "cell_type": "code",
   "execution_count": 46,
   "metadata": {},
   "outputs": [
    {
     "name": "stdout",
     "output_type": "stream",
     "text": [
      "Number of datasets: 2278\n"
     ]
    }
   ],
   "source": [
    "rin_datasets = (data_with_licenses_and_other_terms.query('publisher == \"RIN Dataverse\"'))\n",
    "print('Number of datasets: %s' %(len(rin_datasets)))\n"
   ]
  },
  {
   "cell_type": "markdown",
   "metadata": {},
   "source": [
    "What values are entered in the license fields of the 2,278 datasets in the RIN repository?"
   ]
  },
  {
   "cell_type": "code",
   "execution_count": 45,
   "metadata": {
    "scrolled": true
   },
   "outputs": [
    {
     "data": {
      "text/plain": [
       "array(['CC0', 'NONE'], dtype=object)"
      ]
     },
     "execution_count": 45,
     "metadata": {},
     "output_type": "execute_result"
    }
   ],
   "source": [
    "rin_datasets.license.unique()\n"
   ]
  },
  {
   "cell_type": "markdown",
   "metadata": {},
   "source": [
    "I know that the repository hasn't forked their code to let depositors choose CCBY, so this is expected. We can assume that of these 2,278 datasets, the depositors of datasets with no license (license = NONE) must have entered CC0 or a CC license in the Terms of Use metadata field. Let's see how many datasets have in their license field \"CC0\" and how many have \"NONE\"."
   ]
  },
  {
   "cell_type": "code",
   "execution_count": 51,
   "metadata": {
    "scrolled": true
   },
   "outputs": [
    {
     "data": {
      "text/html": [
       "<div>\n",
       "<style scoped>\n",
       "    .dataframe tbody tr th:only-of-type {\n",
       "        vertical-align: middle;\n",
       "    }\n",
       "\n",
       "    .dataframe tbody tr th {\n",
       "        vertical-align: top;\n",
       "    }\n",
       "\n",
       "    .dataframe thead th {\n",
       "        text-align: right;\n",
       "    }\n",
       "</style>\n",
       "<table border=\"1\" class=\"dataframe\">\n",
       "  <thead>\n",
       "    <tr style=\"text-align: right;\">\n",
       "      <th></th>\n",
       "      <th>dataset_count</th>\n",
       "    </tr>\n",
       "    <tr>\n",
       "      <th>license</th>\n",
       "      <th></th>\n",
       "    </tr>\n",
       "  </thead>\n",
       "  <tbody>\n",
       "    <tr>\n",
       "      <th>CC0</th>\n",
       "      <td>2230</td>\n",
       "    </tr>\n",
       "    <tr>\n",
       "      <th>NONE</th>\n",
       "      <td>48</td>\n",
       "    </tr>\n",
       "  </tbody>\n",
       "</table>\n",
       "</div>"
      ],
      "text/plain": [
       "         dataset_count\n",
       "license               \n",
       "CC0               2230\n",
       "NONE                48"
      ]
     },
     "execution_count": 51,
     "metadata": {},
     "output_type": "execute_result"
    }
   ],
   "source": [
    "rin_datasets.value_counts(subset=['license']).to_frame('dataset_count')\n"
   ]
  },
  {
   "cell_type": "markdown",
   "metadata": {},
   "source": [
    "Let's explore the datasets that have CC0 in either their licence field or Terms of Use field. We'll save a dataframe with this info."
   ]
  },
  {
   "cell_type": "code",
   "execution_count": 54,
   "metadata": {},
   "outputs": [
    {
     "name": "stdout",
     "output_type": "stream",
     "text": [
      "Number of datasets: 2230\n"
     ]
    }
   ],
   "source": [
    "rin_datasets_cc0 = (\n",
    "    rin_datasets.query(\n",
    "        'license == \"CC0\" or\\\n",
    "        termsOfUse.str.contains(\"CC0\")'\n",
    "    )\n",
    ")\n",
    "print('Number of datasets: %s' %(len(rin_datasets_cc0)))\n"
   ]
  },
  {
   "cell_type": "markdown",
   "metadata": {},
   "source": [
    "Among the datasets we know have CC0 applied, how many unique values exist for each of the Terms fields?"
   ]
  },
  {
   "cell_type": "code",
   "execution_count": 53,
   "metadata": {},
   "outputs": [
    {
     "name": "stdout",
     "output_type": "stream",
     "text": [
      "termsOfAccess: 43\n",
      "availabilityStatus: 0\n",
      "citationRequirements: 0\n",
      "conditions: 0\n",
      "confidentialityDeclaration: 0\n",
      "contactForAccess: 0\n",
      "dataaccessPlace: 0\n",
      "depositorRequirements: 0\n",
      "disclaimer: 0\n",
      "originalArchive: 1\n",
      "restrictions: 0\n",
      "sizeOfCollection: 0\n",
      "specialPermissions: 0\n",
      "studyCompletion: 0\n"
     ]
    }
   ],
   "source": [
    "for field in termsFields:\n",
    "    print(field + ': ' + str(rin_datasets_cc0[field].nunique()))\n"
   ]
  },
  {
   "cell_type": "markdown",
   "metadata": {},
   "source": [
    "Looks like most of the metadata is in the termsOfAccess field. We'll list the unique values entered in that field and count how many datasets have each of those values. "
   ]
  },
  {
   "cell_type": "code",
   "execution_count": 110,
   "metadata": {},
   "outputs": [
    {
     "data": {
      "text/html": [
       "<div>\n",
       "<style scoped>\n",
       "    .dataframe tbody tr th:only-of-type {\n",
       "        vertical-align: middle;\n",
       "    }\n",
       "\n",
       "    .dataframe tbody tr th {\n",
       "        vertical-align: top;\n",
       "    }\n",
       "\n",
       "    .dataframe thead th {\n",
       "        text-align: right;\n",
       "    }\n",
       "</style>\n",
       "<table border=\"1\" class=\"dataframe\">\n",
       "  <thead>\n",
       "    <tr style=\"text-align: right;\">\n",
       "      <th></th>\n",
       "      <th>termsOfAccess</th>\n",
       "      <th>dataset_count</th>\n",
       "    </tr>\n",
       "  </thead>\n",
       "  <tbody>\n",
       "    <tr>\n",
       "      <th>0</th>\n",
       "      <td>File yang diunduh dari RIN ini mungkin tidak d...</td>\n",
       "      <td>1061</td>\n",
       "    </tr>\n",
       "    <tr>\n",
       "      <th>1</th>\n",
       "      <td>File yang diunduh dari RIN ini mungkin tidak d...</td>\n",
       "      <td>507</td>\n",
       "    </tr>\n",
       "    <tr>\n",
       "      <th>2</th>\n",
       "      <td>File yang diunduh dari RIN ini mungkin tidak d...</td>\n",
       "      <td>396</td>\n",
       "    </tr>\n",
       "    <tr>\n",
       "      <th>3</th>\n",
       "      <td>File yang diunduh dari RIN ini mungkin tidak d...</td>\n",
       "      <td>166</td>\n",
       "    </tr>\n",
       "    <tr>\n",
       "      <th>4</th>\n",
       "      <td>File yang diunduh dari RIN ini mungkin tidak d...</td>\n",
       "      <td>44</td>\n",
       "    </tr>\n",
       "  </tbody>\n",
       "</table>\n",
       "</div>"
      ],
      "text/plain": [
       "                                       termsOfAccess  dataset_count\n",
       "0  File yang diunduh dari RIN ini mungkin tidak d...           1061\n",
       "1  File yang diunduh dari RIN ini mungkin tidak d...            507\n",
       "2  File yang diunduh dari RIN ini mungkin tidak d...            396\n",
       "3  File yang diunduh dari RIN ini mungkin tidak d...            166\n",
       "4  File yang diunduh dari RIN ini mungkin tidak d...             44"
      ]
     },
     "execution_count": 110,
     "metadata": {},
     "output_type": "execute_result"
    }
   ],
   "source": [
    "rin_datasets_cc0_toa = rin_datasets_cc0.value_counts(subset=['termsOfAccess']).to_frame('dataset_count').reset_index(drop=False, inplace=False)\n",
    "rin_datasets_cc0_toa.head(5)\n"
   ]
  },
  {
   "cell_type": "markdown",
   "metadata": {},
   "source": [
    "Right, this repository is based in Indonesia, so we'll need to translate the metadata. Let's translate what's been entered into the Terms of Access fields of the 1,061 RIN datasets where CC0 has been applied."
   ]
  },
  {
   "cell_type": "code",
   "execution_count": 109,
   "metadata": {
    "collapsed": true
   },
   "outputs": [
    {
     "data": {
      "text/plain": [
       "'Files downloaded from this RIN may not be redistributed in any form (electronic, electro-magnetic or printed) without the prior consent of the data distributor.\\n\\nBy downloading the file, I confirm that I have read and understood each of the terms set out in the terms and conditions of use of data and other materials found below, and I agree to be bound by all of these terms and conditions.\\n\\nIf I do not understand or agree to all the terms and conditions, I may not use or download other data or materials.\\n<br> <br>\\n-----------\\n<br> <br>\\n<strong> Rules and Conduct </strong> <br>\\n\\nAs a condition of use, you promise not to use the Service for any purpose prohibited by the Terms of Use. For purposes of the Terms of Use, \"Content\" includes, without limitation, information, data, text, software, scripts, graphics and any interactive features that are generated, provided or made accessible to RIN or its partners on or through the Services. For example, and not as a limitation, you may not (or allow others to) (a) take action or (b) upload, download, send, transmit or distribute or facilitate distribution of any content using any communication. other services or services available on or through the Service, that:\\n<ul>\\n    <li> violates patents, trademarks, trade secrets, copyrights, publicity rights or other rights of other people or entities; </li>\\n    <li> violates the law, threatens, abuses, harasses, slanders, deceives, violates the privacy of others, is abusive, obscene, offensive or profane; </li>\\n    <li> represents unauthorized or unsolicited advertising, spam or bulk e-mail (\"spamming\"); </li>\\n   <li> contains software viruses or computer code, files, or other programs designed or intended to interfere with, destroy, limit or interfere with the proper functioning of software, hardware or telecommunications equipment or damage or gain unauthorized access to any system , data or other information from RIN or third parties; or Additionally, you may not: (i) take any enforcing or imposing (as determined by RIN in its sole discretion) an unreasonably or disproportionately large burden on RIN\\'s infrastructure (or any third party provider); (ii) interfere with or try to interfere with the implementation of the Services or activities carried out by the Service; or (iii) ignore all measures that RIN may use to prevent or limit access to the Service (or other accounts, computer systems or networks connected to the Service). </li>\\n</ul>\\n\\nYou must comply with all applicable local, state, national and international laws and regulations. '"
      ]
     },
     "execution_count": 109,
     "metadata": {},
     "output_type": "execute_result"
    }
   ],
   "source": [
    "translator.translate(rin_datasets_cc0_toa['termsOfAccess'][0], lang_src='id', lang_tgt='en')\n"
   ]
  },
  {
   "cell_type": "markdown",
   "metadata": {},
   "source": [
    "\"Files downloaded from this RIN may not be redistributed in any form (electronic, electro-magnetic or printed) without the prior consent of the data distributor.\"\n",
    "\n",
    "Right away, it seems like what's been entered into the Terms of Access field of at least 1061 RIN datasets conflicts with CC0, which I would assume would let the person who's downloaded the files do whatever they want with them, even without \"the prior consent of the data distributor.\"\n",
    "\n",
    "But this data is hosted in Indonesia, and while CC0 gives \"creators a way to waive all their copyright and related rights in their works to the fullest extent allowed by law\" (https://creativecommons.org/share-your-work/public-domain/cc0/), we don't know what \"the fullest extent allowed by law\" means in Indonesia.\n"
   ]
  },
  {
   "cell_type": "markdown",
   "metadata": {},
   "source": [
    "Now let's look at the other RIN datasets that may be using CC licenses.\n"
   ]
  },
  {
   "cell_type": "code",
   "execution_count": 117,
   "metadata": {},
   "outputs": [
    {
     "name": "stdout",
     "output_type": "stream",
     "text": [
      "Number of datasets: 48\n"
     ]
    }
   ],
   "source": [
    "rin_datasets_cc = (rin_datasets.query('license == \"NONE\"'))\n",
    "print('Number of datasets: %s' %(len(rin_datasets_cc)))\n"
   ]
  },
  {
   "cell_type": "markdown",
   "metadata": {},
   "source": [
    "Which CC licenses are these 48 datasets using? \"NONE\" is in their license fields, so there must be some text in their Terms of Use fields about a CC license:"
   ]
  },
  {
   "cell_type": "code",
   "execution_count": 125,
   "metadata": {
    "scrolled": true
   },
   "outputs": [
    {
     "data": {
      "text/html": [
       "<div>\n",
       "<style scoped>\n",
       "    .dataframe tbody tr th:only-of-type {\n",
       "        vertical-align: middle;\n",
       "    }\n",
       "\n",
       "    .dataframe tbody tr th {\n",
       "        vertical-align: top;\n",
       "    }\n",
       "\n",
       "    .dataframe thead th {\n",
       "        text-align: right;\n",
       "    }\n",
       "</style>\n",
       "<table border=\"1\" class=\"dataframe\">\n",
       "  <thead>\n",
       "    <tr style=\"text-align: right;\">\n",
       "      <th></th>\n",
       "      <th>termsOfUse</th>\n",
       "      <th>dataset_count</th>\n",
       "    </tr>\n",
       "  </thead>\n",
       "  <tbody>\n",
       "    <tr>\n",
       "      <th>0</th>\n",
       "      <td>&lt;a rel=\"license\" href=\"http://creativecommons.org/licenses/by-nc-nd/4.0/\"&gt;&lt;img alt=\"Creative Commons License\" style=\"border-width:0\" src=\"https://i.creativecommons.org/l/by-nc-nd/4.0/88x31.png\" /&gt;&lt;/a&gt;&lt;br /&gt;This work is licensed under a &lt;a rel=\"license\" href=\"http://creativecommons.org/licenses/by-nc-nd/4.0/\"&gt;Creative Commons Attribution-NonCommercial-NoDerivatives 4.0 International License&lt;/a&gt;.</td>\n",
       "      <td>16</td>\n",
       "    </tr>\n",
       "    <tr>\n",
       "      <th>1</th>\n",
       "      <td>&lt;a rel=\"license\" href=\"http://creativecommons.org/licenses/by-nc/4.0/\"&gt;&lt;img alt=\"Creative Commons License\" style=\"border-width:0\" src=\"https://i.creativecommons.org/l/by-nc/4.0/88x31.png\" /&gt;&lt;/a&gt;&lt;br /&gt;This work is licensed under a &lt;a rel=\"license\" href=\"http://creativecommons.org/licenses/by-nc/4.0/\"&gt;Creative Commons Attribution-NonCommercial 4.0 International License&lt;/a&gt;.</td>\n",
       "      <td>6</td>\n",
       "    </tr>\n",
       "    <tr>\n",
       "      <th>2</th>\n",
       "      <td>&lt;a rel=\"license\" href=\"http://creativecommons.org/licenses/by-nc-nd/4.0/\"&gt;&lt;img alt=\"Lisensi Creative Commons\" style=\"border-width:0\" src=\"https://i.creativecommons.org/l/by-nc-nd/4.0/88x31.png\" /&gt;&lt;/a&gt;&lt;br /&gt;Ciptaan disebarluaskan di bawah &lt;a rel=\"license\" href=\"http://creativecommons.org/licenses/by-nc-nd/4.0/\"&gt;Lisensi Creative Commons Atribusi-NonKomersial-TanpaTurunan 4.0 Internasional&lt;/a&gt;.</td>\n",
       "      <td>5</td>\n",
       "    </tr>\n",
       "    <tr>\n",
       "      <th>3</th>\n",
       "      <td>&lt;a rel=\"license\" href=\"http://creativecommons.org/lic enses/by-nd/4.0/\"&gt;&lt;img alt=\"Creative Commons License\" style=\"borderwidth:0\"  src=\"https://i.creativecommons.org/l/ by-nd/4.0/88x31.png\" /&gt;&lt;/a&gt;&lt;br  /&gt;This work is licensed under a &lt;a  rel=\"license\"  href=\"http://creativecommons.org/lic enses/by-nd/4.0/\"&gt;Creative  Commons AttributionNoDerivatives 4.0 International  License&lt;/a&gt;</td>\n",
       "      <td>5</td>\n",
       "    </tr>\n",
       "    <tr>\n",
       "      <th>4</th>\n",
       "      <td>&lt;a rel=\"license\"\\nhref=\"http://creativecommons.org/li\\ncenses/by-nc-nd/4.0/\"&gt;&lt;img\\nalt=\"Creative Commons License\"\\nstyle=\"border-width:0\"\\nsrc=\"https://i.creativecommons.org/l\\n/by-nc-nd/4.0/88x31.png\" /&gt;&lt;/a&gt;&lt;br\\n/&gt;This work is licensed under a &lt;a\\nrel=\"license\"\\nhref=\"http://creativecommons.org/li\\ncenses/by-nc-nd/4.0/\"&gt;Creative\\nCommons AttributionNonCommercial-NoDerivatives 4.0\\nInternational License&lt;/a&gt;.</td>\n",
       "      <td>3</td>\n",
       "    </tr>\n",
       "    <tr>\n",
       "      <th>5</th>\n",
       "      <td>&lt;a rel=\"license\" href=\"http://creativecommons.org/licenses/by/4.0/\"&gt;&lt;img alt=\"Creative Commons License\" style=\"border-width:0\" src=\"https://i.creativecommons.org/l/by/4.0/88x31.png\" /&gt;&lt;/a&gt;&lt;br /&gt;This work is licensed under a &lt;a rel=\"license\" href=\"http://creativecommons.org/licenses/by/4.0/\"&gt;Creative Commons Attribution 4.0 International License&lt;/a&gt;.</td>\n",
       "      <td>2</td>\n",
       "    </tr>\n",
       "    <tr>\n",
       "      <th>6</th>\n",
       "      <td>&lt;a rel=\"license\"\\nhref=\"http://creativecommons.org/lic\\nenses/by/4.0/\"&gt;&lt;img alt=\"Creative\\nCommons License\" style=\"borderwidth:0\"\\nsrc=\"https://i.creativecommons.org/l/\\nby/4.0/88x31.png\" /&gt;&lt;/a&gt;&lt;br /&gt;This\\nwork is licensed under a &lt;a\\nrel=\"license\"\\nhref=\"http://creativecommons.org/lic\\nenses/by/4.0/\"&gt;Creative Commons\\nAttribution 4.0 International\\nLicense&lt;/a&gt;.</td>\n",
       "      <td>2</td>\n",
       "    </tr>\n",
       "    <tr>\n",
       "      <th>7</th>\n",
       "      <td>Copyright (c) 2020 Valencia Matthew Anis, Harijanto Sabijono, Stanley Kho Walandouw\\n\\n&lt;a rel=\"license\" href=\"http://creativecommons.org/licenses/by-nc/4.0/\"&gt;&lt;img alt=\"Creative Commons License\" style=\"border-width:0\" src=\"https://i.creativecommons.org/l/by-nc/4.0/88x31.png\" /&gt;&lt;/a&gt;&lt;br /&gt;This work is licensed under a &lt;a rel=\"license\" href=\"http://creativecommons.org/licenses/by-nc/4.0/\"&gt;Creative Commons Attribution-NonCommercial 4.0 International License&lt;/a&gt;.</td>\n",
       "      <td>1</td>\n",
       "    </tr>\n",
       "    <tr>\n",
       "      <th>8</th>\n",
       "      <td>Copyright (c) 2020 Enggar Wahyuning Pahlawan, Anita Wijayanti, Suhendro\\n\\n&lt;a rel=\"license\" href=\"http://creativecommons.org/licenses/by/4.0/\"&gt;&lt;img alt=\"Creative Commons License\" style=\"border-width:0\" src=\"https://i.creativecommons.org/l/by/4.0/88x31.png\" /&gt;&lt;/a&gt;&lt;br /&gt;This work is licensed under a &lt;a rel=\"license\" href=\"http://creativecommons.org/licenses/by/4.0/\"&gt;Creative Commons Attribution 4.0 International License&lt;/a&gt;.</td>\n",
       "      <td>1</td>\n",
       "    </tr>\n",
       "    <tr>\n",
       "      <th>9</th>\n",
       "      <td>Copyright (c) 2020 Een Samawati Miharja\\n\\n&lt;a rel=\"license\" href=\"http://creativecommons.org/licenses/by/4.0/\"&gt;&lt;img alt=\"Creative Commons License\" style=\"border-width:0\" src=\"https://i.creativecommons.org/l/by/4.0/88x31.png\" /&gt;&lt;/a&gt;&lt;br /&gt;This work is licensed under a &lt;a rel=\"license\" href=\"http://creativecommons.org/licenses/by/4.0/\"&gt;Creative Commons Attribution 4.0 International License&lt;/a&gt;.</td>\n",
       "      <td>1</td>\n",
       "    </tr>\n",
       "    <tr>\n",
       "      <th>10</th>\n",
       "      <td>&lt;a rel=\"license\" href=\"http://creativecommons.org/licenses/by-nd/4.0/\"&gt;&lt;img alt=\"Creative Commons License\" style=\"border-width:0\" src=\"https://i.creativecommons.org/l/by-nd/4.0/88x31.png\" /&gt;&lt;/a&gt;&lt;br /&gt;This work is licensed under a &lt;a rel=\"license\" href=\"http://creativecommons.org/licenses/by-nd/4.0/\"&gt;Creative Commons Attribution-NoDerivatives 4.0 International License&lt;/a&gt;.</td>\n",
       "      <td>1</td>\n",
       "    </tr>\n",
       "    <tr>\n",
       "      <th>11</th>\n",
       "      <td>&lt;a rel=\"license\" href=\"http://creativecommons.org/licenses/by-nc/4.0/\"&gt;&lt;img alt=\"Lisensi Creative Commons\" style=\"border-width:0\" src=\"https://i.creativecommons.org/l/by-nc/4.0/88x31.png\" /&gt;&lt;/a&gt;&lt;br /&gt;Ciptaan disebarluaskan di bawah &lt;a rel=\"license\" href=\"http://creativecommons.org/licenses/by-nc/4.0/\"&gt;Lisensi Creative Commons Atribusi-NonKomersial 4.0 Internasional&lt;/a&gt;.</td>\n",
       "      <td>1</td>\n",
       "    </tr>\n",
       "    <tr>\n",
       "      <th>12</th>\n",
       "      <td>&lt;a rel=\"license\" href=\"http://creativecommons.org/licenses/by-nc/4.0/\"&gt;&lt;img alt=\"Creative Commons License\" style=\"border-width:0\" src=\"https://i.creativecommons.org/l/by-nc/4.0/88x31.png\" /&gt;&lt;/a&gt;&lt;br /&gt;This work is licensed under a &lt;a rel=\"license\" href=\"http://creativecommons.org/licenses/by-nc/4.0/\"&gt;Creative Commons Attribution-NonCommercial 4.0 International License&lt;/a&gt;.\\n\\nCopyright (c) 2020 Dian Widiyati</td>\n",
       "      <td>1</td>\n",
       "    </tr>\n",
       "    <tr>\n",
       "      <th>13</th>\n",
       "      <td>&lt;a rel=\"license\" href=\"http://creativecommons.org/licenses/by-nc-sa/4.0/\"&gt;&lt;img alt=\"Lisensi Creative Commons\" style=\"border-width:0\" src=\"https://i.creativecommons.org/l/by-nc-sa/4.0/80x15.png\" /&gt;&lt;/a&gt;&lt;br /&gt;Ciptaan disebarluaskan di bawah &lt;a rel=\"license\" href=\"http://creativecommons.org/licenses/by-nc-sa/4.0/\"&gt;Lisensi Creative Commons Atribusi-NonKomersial-BerbagiSerupa 4.0 Internasional&lt;/a&gt;.</td>\n",
       "      <td>1</td>\n",
       "    </tr>\n",
       "    <tr>\n",
       "      <th>14</th>\n",
       "      <td>&lt;a rel=\"license\" href=\"http://creativecommons.org/licenses/by-nc-sa/4.0/\"&gt;&lt;img alt=\"Creative Commons License\" style=\"border-width:0\" src=\"https://i.creativecommons.org/l/by-nc-sa/4.0/88x31.png\" /&gt;&lt;/a&gt;&lt;br /&gt;This work is licensed under a &lt;a rel=\"license\" href=\"http://creativecommons.org/licenses/by-nc-sa/4.0/\"&gt;Creative Commons Attribution-NonCommercial-ShareAlike 4.0 International License&lt;/a&gt;.</td>\n",
       "      <td>1</td>\n",
       "    </tr>\n",
       "    <tr>\n",
       "      <th>15</th>\n",
       "      <td>&lt;a rel=\"license\"\\nhref=\"http://creativecommons.org/lic\\nenses/by-sa/4.0/\"&gt;&lt;img alt=\"Creative\\nCommons License\" style=\"borderwidth:0\"\\n\\nsrc=\"https://i.creativecommons.org/l/\\nby-sa/4.0/88x31.png\" /&gt;&lt;/a&gt;&lt;br /&gt;This\\nwork is licensed under a &lt;a\\nrel=\"license\"\\nhref=\"http://creativecommons.org/lic\\nenses/by-sa/4.0/\"&gt;Creative Commons\\nAttribution-ShareAlike 4.0\\nInternational License&lt;/a&gt;.</td>\n",
       "      <td>1</td>\n",
       "    </tr>\n",
       "  </tbody>\n",
       "</table>\n",
       "</div>"
      ],
      "text/plain": [
       "                                                                                                                                                                                                                                                                                                                                                                                                                                                                       termsOfUse  \\\n",
       "0   <a rel=\"license\" href=\"http://creativecommons.org/licenses/by-nc-nd/4.0/\"><img alt=\"Creative Commons License\" style=\"border-width:0\" src=\"https://i.creativecommons.org/l/by-nc-nd/4.0/88x31.png\" /></a><br />This work is licensed under a <a rel=\"license\" href=\"http://creativecommons.org/licenses/by-nc-nd/4.0/\">Creative Commons Attribution-NonCommercial-NoDerivatives 4.0 International License</a>.                                                                   \n",
       "1   <a rel=\"license\" href=\"http://creativecommons.org/licenses/by-nc/4.0/\"><img alt=\"Creative Commons License\" style=\"border-width:0\" src=\"https://i.creativecommons.org/l/by-nc/4.0/88x31.png\" /></a><br />This work is licensed under a <a rel=\"license\" href=\"http://creativecommons.org/licenses/by-nc/4.0/\">Creative Commons Attribution-NonCommercial 4.0 International License</a>.                                                                                          \n",
       "2   <a rel=\"license\" href=\"http://creativecommons.org/licenses/by-nc-nd/4.0/\"><img alt=\"Lisensi Creative Commons\" style=\"border-width:0\" src=\"https://i.creativecommons.org/l/by-nc-nd/4.0/88x31.png\" /></a><br />Ciptaan disebarluaskan di bawah <a rel=\"license\" href=\"http://creativecommons.org/licenses/by-nc-nd/4.0/\">Lisensi Creative Commons Atribusi-NonKomersial-TanpaTurunan 4.0 Internasional</a>.                                                                      \n",
       "3   <a rel=\"license\" href=\"http://creativecommons.org/lic enses/by-nd/4.0/\"><img alt=\"Creative Commons License\" style=\"borderwidth:0\"  src=\"https://i.creativecommons.org/l/ by-nd/4.0/88x31.png\" /></a><br  />This work is licensed under a <a  rel=\"license\"  href=\"http://creativecommons.org/lic enses/by-nd/4.0/\">Creative  Commons AttributionNoDerivatives 4.0 International  License</a>                                                                                    \n",
       "4   <a rel=\"license\"\\nhref=\"http://creativecommons.org/li\\ncenses/by-nc-nd/4.0/\"><img\\nalt=\"Creative Commons License\"\\nstyle=\"border-width:0\"\\nsrc=\"https://i.creativecommons.org/l\\n/by-nc-nd/4.0/88x31.png\" /></a><br\\n/>This work is licensed under a <a\\nrel=\"license\"\\nhref=\"http://creativecommons.org/li\\ncenses/by-nc-nd/4.0/\">Creative\\nCommons AttributionNonCommercial-NoDerivatives 4.0\\nInternational License</a>.                                                     \n",
       "5   <a rel=\"license\" href=\"http://creativecommons.org/licenses/by/4.0/\"><img alt=\"Creative Commons License\" style=\"border-width:0\" src=\"https://i.creativecommons.org/l/by/4.0/88x31.png\" /></a><br />This work is licensed under a <a rel=\"license\" href=\"http://creativecommons.org/licenses/by/4.0/\">Creative Commons Attribution 4.0 International License</a>.                                                                                                                 \n",
       "6   <a rel=\"license\"\\nhref=\"http://creativecommons.org/lic\\nenses/by/4.0/\"><img alt=\"Creative\\nCommons License\" style=\"borderwidth:0\"\\nsrc=\"https://i.creativecommons.org/l/\\nby/4.0/88x31.png\" /></a><br />This\\nwork is licensed under a <a\\nrel=\"license\"\\nhref=\"http://creativecommons.org/lic\\nenses/by/4.0/\">Creative Commons\\nAttribution 4.0 International\\nLicense</a>.                                                                                                    \n",
       "7   Copyright (c) 2020 Valencia Matthew Anis, Harijanto Sabijono, Stanley Kho Walandouw\\n\\n<a rel=\"license\" href=\"http://creativecommons.org/licenses/by-nc/4.0/\"><img alt=\"Creative Commons License\" style=\"border-width:0\" src=\"https://i.creativecommons.org/l/by-nc/4.0/88x31.png\" /></a><br />This work is licensed under a <a rel=\"license\" href=\"http://creativecommons.org/licenses/by-nc/4.0/\">Creative Commons Attribution-NonCommercial 4.0 International License</a>.   \n",
       "8   Copyright (c) 2020 Enggar Wahyuning Pahlawan, Anita Wijayanti, Suhendro\\n\\n<a rel=\"license\" href=\"http://creativecommons.org/licenses/by/4.0/\"><img alt=\"Creative Commons License\" style=\"border-width:0\" src=\"https://i.creativecommons.org/l/by/4.0/88x31.png\" /></a><br />This work is licensed under a <a rel=\"license\" href=\"http://creativecommons.org/licenses/by/4.0/\">Creative Commons Attribution 4.0 International License</a>.                                      \n",
       "9   Copyright (c) 2020 Een Samawati Miharja\\n\\n<a rel=\"license\" href=\"http://creativecommons.org/licenses/by/4.0/\"><img alt=\"Creative Commons License\" style=\"border-width:0\" src=\"https://i.creativecommons.org/l/by/4.0/88x31.png\" /></a><br />This work is licensed under a <a rel=\"license\" href=\"http://creativecommons.org/licenses/by/4.0/\">Creative Commons Attribution 4.0 International License</a>.                                                                      \n",
       "10  <a rel=\"license\" href=\"http://creativecommons.org/licenses/by-nd/4.0/\"><img alt=\"Creative Commons License\" style=\"border-width:0\" src=\"https://i.creativecommons.org/l/by-nd/4.0/88x31.png\" /></a><br />This work is licensed under a <a rel=\"license\" href=\"http://creativecommons.org/licenses/by-nd/4.0/\">Creative Commons Attribution-NoDerivatives 4.0 International License</a>.                                                                                          \n",
       "11  <a rel=\"license\" href=\"http://creativecommons.org/licenses/by-nc/4.0/\"><img alt=\"Lisensi Creative Commons\" style=\"border-width:0\" src=\"https://i.creativecommons.org/l/by-nc/4.0/88x31.png\" /></a><br />Ciptaan disebarluaskan di bawah <a rel=\"license\" href=\"http://creativecommons.org/licenses/by-nc/4.0/\">Lisensi Creative Commons Atribusi-NonKomersial 4.0 Internasional</a>.                                                                                            \n",
       "12  <a rel=\"license\" href=\"http://creativecommons.org/licenses/by-nc/4.0/\"><img alt=\"Creative Commons License\" style=\"border-width:0\" src=\"https://i.creativecommons.org/l/by-nc/4.0/88x31.png\" /></a><br />This work is licensed under a <a rel=\"license\" href=\"http://creativecommons.org/licenses/by-nc/4.0/\">Creative Commons Attribution-NonCommercial 4.0 International License</a>.\\n\\nCopyright (c) 2020 Dian Widiyati                                                      \n",
       "13  <a rel=\"license\" href=\"http://creativecommons.org/licenses/by-nc-sa/4.0/\"><img alt=\"Lisensi Creative Commons\" style=\"border-width:0\" src=\"https://i.creativecommons.org/l/by-nc-sa/4.0/80x15.png\" /></a><br />Ciptaan disebarluaskan di bawah <a rel=\"license\" href=\"http://creativecommons.org/licenses/by-nc-sa/4.0/\">Lisensi Creative Commons Atribusi-NonKomersial-BerbagiSerupa 4.0 Internasional</a>.                                                                     \n",
       "14  <a rel=\"license\" href=\"http://creativecommons.org/licenses/by-nc-sa/4.0/\"><img alt=\"Creative Commons License\" style=\"border-width:0\" src=\"https://i.creativecommons.org/l/by-nc-sa/4.0/88x31.png\" /></a><br />This work is licensed under a <a rel=\"license\" href=\"http://creativecommons.org/licenses/by-nc-sa/4.0/\">Creative Commons Attribution-NonCommercial-ShareAlike 4.0 International License</a>.                                                                      \n",
       "15  <a rel=\"license\"\\nhref=\"http://creativecommons.org/lic\\nenses/by-sa/4.0/\"><img alt=\"Creative\\nCommons License\" style=\"borderwidth:0\"\\n\\nsrc=\"https://i.creativecommons.org/l/\\nby-sa/4.0/88x31.png\" /></a><br />This\\nwork is licensed under a <a\\nrel=\"license\"\\nhref=\"http://creativecommons.org/lic\\nenses/by-sa/4.0/\">Creative Commons\\nAttribution-ShareAlike 4.0\\nInternational License</a>.                                                                              \n",
       "\n",
       "    dataset_count  \n",
       "0   16             \n",
       "1   6              \n",
       "2   5              \n",
       "3   5              \n",
       "4   3              \n",
       "5   2              \n",
       "6   2              \n",
       "7   1              \n",
       "8   1              \n",
       "9   1              \n",
       "10  1              \n",
       "11  1              \n",
       "12  1              \n",
       "13  1              \n",
       "14  1              \n",
       "15  1              "
      ]
     },
     "metadata": {},
     "output_type": "display_data"
    }
   ],
   "source": [
    "rin_datasets_cc0_tou = rin_datasets_cc.value_counts(subset=['termsOfUse']).to_frame('dataset_count').reset_index(drop=False, inplace=False)\n",
    "with pd.option_context('display.max_colwidth', -1):\n",
    "    display(rin_datasets_cc0_tou)\n"
   ]
  },
  {
   "cell_type": "markdown",
   "metadata": {},
   "source": [
    "Scanning each of the rows, we see that all 48 datasets use CCBY (with 16 datasets using the same exact text). What does the Terms metadata of those 48 datasets look like?"
   ]
  },
  {
   "cell_type": "code",
   "execution_count": 126,
   "metadata": {},
   "outputs": [
    {
     "name": "stdout",
     "output_type": "stream",
     "text": [
      "termsOfAccess: 30\n",
      "availabilityStatus: 0\n",
      "citationRequirements: 0\n",
      "conditions: 0\n",
      "confidentialityDeclaration: 1\n",
      "contactForAccess: 1\n",
      "dataaccessPlace: 0\n",
      "depositorRequirements: 0\n",
      "disclaimer: 0\n",
      "originalArchive: 0\n",
      "restrictions: 3\n",
      "sizeOfCollection: 0\n",
      "specialPermissions: 0\n",
      "studyCompletion: 0\n"
     ]
    }
   ],
   "source": [
    "for field in termsFields:\n",
    "    print(field + ': ' + str(rin_datasets_cc[field].nunique()))\n"
   ]
  },
  {
   "cell_type": "markdown",
   "metadata": {},
   "source": [
    "A few more fields have values, compared to RINs CC0 datasets.\n",
    "\n",
    "Let's see what's in the Terms of Access fields first."
   ]
  },
  {
   "cell_type": "code",
   "execution_count": 131,
   "metadata": {},
   "outputs": [
    {
     "data": {
      "text/html": [
       "<div>\n",
       "<style scoped>\n",
       "    .dataframe tbody tr th:only-of-type {\n",
       "        vertical-align: middle;\n",
       "    }\n",
       "\n",
       "    .dataframe tbody tr th {\n",
       "        vertical-align: top;\n",
       "    }\n",
       "\n",
       "    .dataframe thead th {\n",
       "        text-align: right;\n",
       "    }\n",
       "</style>\n",
       "<table border=\"1\" class=\"dataframe\">\n",
       "  <thead>\n",
       "    <tr style=\"text-align: right;\">\n",
       "      <th></th>\n",
       "      <th>termsOfAccess</th>\n",
       "      <th>dataset_count</th>\n",
       "    </tr>\n",
       "  </thead>\n",
       "  <tbody>\n",
       "    <tr>\n",
       "      <th>0</th>\n",
       "      <td>&lt;a rel=\"license\" href=\"http://creativecommons.org/licenses/by-nc/4.0/\"&gt;&lt;img alt=\"Creative Commons License\" style=\"border-width:0\" src=\"https://i.creativecommons.org/l/by-nc/4.0/88x31.png\" /&gt;&lt;/a&gt;&lt;br /&gt;This work is licensed under a &lt;a rel=\"license\" href=\"http://creativecommons.org/licenses/by-nc/4.0/\"&gt;Creative Commons Attribution-NonCommercial 4.0 International License&lt;/a&gt;.</td>\n",
       "      <td>7</td>\n",
       "    </tr>\n",
       "    <tr>\n",
       "      <th>1</th>\n",
       "      <td>&lt;a rel=\"license\" href=\"http://creativecommons.org/lic enses/by-nd/4.0/\"&gt;&lt;img alt=\"Creative Commons License\" style=\"borderwidth:0\"  src=\"https://i.creativecommons.org/l/ by-nd/4.0/88x31.png\" /&gt;&lt;/a&gt;&lt;br  /&gt;This work is licensed under a &lt;a  rel=\"license\"  href=\"http://creativecommons.org/lic enses/by-nd/4.0/\"&gt;Creative  Commons AttributionNoDerivatives 4.0 International  License&lt;/a&gt;</td>\n",
       "      <td>5</td>\n",
       "    </tr>\n",
       "    <tr>\n",
       "      <th>2</th>\n",
       "      <td>&lt;a rel=\"license\"\\nhref=\"http://creativecommons.org/li\\ncenses/by-nc-nd/4.0/\"&gt;&lt;img\\nalt=\"Creative Commons License\"\\nstyle=\"border-width:0\"\\nsrc=\"https://i.creativecommons.org/l\\n/by-nc-nd/4.0/88x31.png\" /&gt;&lt;/a&gt;&lt;br\\n/&gt;This work is licensed under a &lt;a\\nrel=\"license\"\\nhref=\"http://creativecommons.org/li\\ncenses/by-nc-nd/4.0/\"&gt;Creative\\nCommons AttributionNonCommercial-NoDerivatives 4.0\\nInternational License&lt;/a&gt;.</td>\n",
       "      <td>3</td>\n",
       "    </tr>\n",
       "    <tr>\n",
       "      <th>3</th>\n",
       "      <td>&lt;a rel=\"license\" href=\"http://creativecommons.org/licenses/by/4.0/\"&gt;&lt;img alt=\"Creative Commons License\" style=\"border-width:0\" src=\"https://i.creativecommons.org/l/by/4.0/88x31.png\" /&gt;&lt;/a&gt;&lt;br /&gt;This work is licensed under a &lt;a rel=\"license\" href=\"http://creativecommons.org/licenses/by/4.0/\"&gt;Creative Commons Attribution 4.0 International License&lt;/a&gt;.</td>\n",
       "      <td>2</td>\n",
       "    </tr>\n",
       "    <tr>\n",
       "      <th>4</th>\n",
       "      <td>&lt;a rel=\"license\" href=\"http://creativecommons.org/licenses/by-nc-nd/4.0/\"&gt;&lt;img alt=\"Creative Commons License\" style=\"border-width:0\" src=\"https://i.creativecommons.org/l/by-nc-nd/4.0/88x31.png\" /&gt;&lt;/a&gt;&lt;br /&gt;This work is licensed under a &lt;a rel=\"license\" href=\"http://creativecommons.org/licenses/by-nc-nd/4.0/\"&gt;Creative Commons Attribution-NonCommercial-NoDerivatives 4.0 International License&lt;/a&gt;.\\n\\nFile yang diunduh dari RIN ini mungkin tidak didistribusikan ulang dalam bentuk apapun (elektronik, elektro-magnetik atau cetak) tanpa izin dari distributor data sebelumnya.\\n\\nDengan mendownload file, saya mengonfirmasi bahwa saya telah membaca dan memahami setiap istilah yang ditetapkan dalam persyaratan dan ketentuan penggunaan data dan materi lain yang ditemukan di bawah ini, dan saya setuju untuk terikat oleh semua persyaratan dan ketentuan tersebut.\\n\\nJika saya tidak mengerti atau menyetujui semua persyaratan dan ketentuan, saya tidak boleh menggunakan atau mendownload data atau materi lainnya.\\n&lt;br&gt;&lt;br&gt;\\n-----------\\n&lt;br&gt;&lt;br&gt;\\n&lt;strong&gt;Aturan dan Perilaku&lt;/strong&gt;&lt;br&gt;\\n\\nSebagai syarat penggunaan, Anda berjanji untuk tidak menggunakan Layanan untuk tujuan apa pun yang dilarang oleh Persyaratan Penggunaan. Untuk tujuan Persyaratan Penggunaan, \"Konten\" mencakup, tanpa batasan, informasi, data, teks, perangkat lunak, skrip, grafik, dan fitur interaktif apa pun yang dihasilkan, disediakan, atau dibuat dapat diakses oleh RIN atau mitranya pada atau melalui Layanan . Sebagai contoh, dan bukan sebagai batasan, Anda tidak boleh (atau mengizinkan orang lain untuk) melakukan (a) mengambil tindakan atau (b) mengunggah, mendownload, mengirim, mengirimkan atau mendistribusikan atau memfasilitasi distribusi konten apapun dengan menggunakan komunikasi apapun. layanan atau layanan lain yang tersedia pada atau melalui Layanan, bahwa:\\n&lt;ul&gt;\\n    &lt;li&gt;melanggar hak paten, merek dagang, rahasia dagang, hak cipta, hak publisitas atau hak lain dari orang atau entitas lain;&lt;/li&gt;\\n    &lt;li&gt;melanggar hukum, mengancam, kasar, melecehkan, memfitnah, memfitnah, menipu, menipu, melanggar privasi orang lain, menyiksa, cabul, menyinggung, atau profan;&lt;/li&gt;\\n    &lt;li&gt;merupakan iklan yang tidak sah atau tidak diminta, spam atau e-mail massal (\"spamming\");&lt;/li&gt;\\n   &lt;li&gt; berisi virus perangkat lunak atau kode komputer, file, atau program lain yang dirancang atau dimaksudkan untuk mengganggu, merusak, membatasi atau mengganggu fungsi perangkat lunak, perangkat keras, atau perangkat telekomunikasi yang sesuai atau merusak atau mendapatkan akses tidak sah ke sistem apapun, data atau informasi lain dari RIN atau pihak ketiga; atau Selain itu, Anda tidak boleh: (i) mengambil tindakan yang memaksakan atau memaksakan (sebagaimana ditentukan oleh RIN atas kebijakannya sendiri) beban besar yang tidak masuk akal atau tidak proporsional terhadap infrastruktur RIN (atau penyedia pihak ketiga); (ii) mengganggu atau mencoba mengganggu pelaksanaan Layanan atau kegiatan yang dilakukan oleh Dinas; atau (iii) mengabaikan semua tindakan yang mungkin digunakan RIN untuk mencegah atau membatasi akses ke Layanan (atau akun lain, sistem komputer atau jaringan yang terhubung ke Layanan).&lt;/li&gt;\\n&lt;/ul&gt;\\n\\nAnda harus mematuhi semua hukum dan peraturan lokal, negara bagian, nasional dan internasional yang berlaku.</td>\n",
       "      <td>2</td>\n",
       "    </tr>\n",
       "    <tr>\n",
       "      <th>5</th>\n",
       "      <td>&lt;a rel=\"license\" href=\"http://creativecommons.org/licenses/by-nc-nd/4.0/\"&gt;&lt;img alt=\"Creative Commons License\" style=\"border-width:0\" src=\"https://i.creativecommons.org/l/by-nc-nd/4.0/88x31.png\" /&gt;&lt;/a&gt;&lt;br /&gt;This work is licensed under a &lt;a rel=\"license\" href=\"http://creativecommons.org/licenses/by-nc-nd/4.0/\"&gt;Creative Commons Attribution-NonCommercial-NoDerivatives 4.0 International License&lt;/a&gt;.\\n\\nFile yang diunduh dari RIN ini mungkin tidak didistribusikan ulang dalam bentuk apapun (elektronik, elektro-magnetik atau cetak) tanpa izin dari distributor data sebelumnya. Dengan mendownload file, saya mengonfirmasi bahwa saya telah membaca dan memahami setiap istilah yang ditetapkan dalam persyaratan dan ketentuan penggunaan data dan materi lain yang ditemukan di bawah ini, dan saya setuju untuk terikat oleh semua persyaratan dan ketentuan tersebut. Jika saya tidak mengerti atau menyetujui semua persyaratan dan ketentuan, saya tidak boleh menggunakan atau mendownload data atau materi lainnya.\\n\\n-----------\\n\\nAturan dan Perilaku\\nSebagai syarat penggunaan, Anda berjanji untuk tidak menggunakan Layanan untuk tujuan apa pun yang dilarang oleh Persyaratan Penggunaan. Untuk tujuan Persyaratan Penggunaan, \"Konten\" mencakup, tanpa batasan, informasi, data, teks, perangkat lunak, skrip, grafik, dan fitur interaktif apa pun yang dihasilkan, disediakan, atau dibuat dapat diakses oleh RIN atau mitranya pada atau melalui Layanan . Sebagai contoh, dan bukan sebagai batasan, Anda tidak boleh (atau mengizinkan orang lain untuk) melakukan (a) mengambil tindakan atau (b) mengunggah, mendownload, mengirim, mengirimkan atau mendistribusikan atau memfasilitasi distribusi konten apapun dengan menggunakan komunikasi apapun. layanan atau layanan lain yang tersedia pada atau melalui Layanan, bahwa:\\n\\nmelanggar hak paten, merek dagang, rahasia dagang, hak cipta, hak publisitas atau hak lain dari orang atau entitas lain;\\nmelanggar hukum, mengancam, kasar, melecehkan, memfitnah, memfitnah, menipu, menipu, melanggar privasi orang lain, menyiksa, cabul, menyinggung, atau profan;\\nmerupakan iklan yang tidak sah atau tidak diminta, spam atau e-mail massal (\"spamming\");\\nberisi virus perangkat lunak atau kode komputer, file, atau program lain yang dirancang atau dimaksudkan untuk mengganggu, merusak, membatasi atau mengganggu fungsi perangkat lunak, perangkat keras, atau perangkat telekomunikasi yang sesuai atau merusak atau mendapatkan akses tidak sah ke sistem apapun, data atau informasi lain dari RIN atau pihak ketiga; atau Selain itu, Anda tidak boleh: (i) mengambil tindakan yang memaksakan atau memaksakan (sebagaimana ditentukan oleh RIN atas kebijakannya sendiri) beban besar yang tidak masuk akal atau tidak proporsional terhadap infrastruktur RIN (atau penyedia pihak ketiga); (ii) mengganggu atau mencoba mengganggu pelaksanaan Layanan atau kegiatan yang dilakukan oleh Dinas; atau (iii) mengabaikan semua tindakan yang mungkin digunakan RIN untuk mencegah atau membatasi akses ke Layanan (atau akun lain, sistem komputer atau jaringan yang terhubung ke Layanan).\\nAnda harus mematuhi semua hukum dan peraturan lokal, negara bagian, nasional dan internasional yang berlaku.</td>\n",
       "      <td>2</td>\n",
       "    </tr>\n",
       "    <tr>\n",
       "      <th>6</th>\n",
       "      <td>File yang diunduh dari RIN ini mungkin tidak didistribusikan ulang dalam bentuk apapun (elektronik, elektro-magnetik atau cetak) tanpa izin dari distributor data sebelumnya. Dengan mendownload file, saya mengonfirmasi bahwa saya telah membaca dan memahami setiap istilah yang ditetapkan dalam persyaratan dan ketentuan penggunaan data dan materi lain yang ditemukan di bawah ini, dan saya setuju untuk terikat oleh semua persyaratan dan ketentuan tersebut. Jika saya tidak mengerti atau menyetujui semua persyaratan dan ketentuan, saya tidak boleh menggunakan atau mendownload data atau materi lainnya.\\n\\n-----------\\n\\nAturan dan Perilaku\\nSebagai syarat penggunaan, Anda berjanji untuk tidak menggunakan Layanan untuk tujuan apa pun yang dilarang oleh Persyaratan Penggunaan. Untuk tujuan Persyaratan Penggunaan, \"Konten\" mencakup, tanpa batasan, informasi, data, teks, perangkat lunak, skrip, grafik, dan fitur interaktif apa pun yang dihasilkan, disediakan, atau dibuat dapat diakses oleh RIN atau mitranya pada atau melalui Layanan . Sebagai contoh, dan bukan sebagai batasan, Anda tidak boleh (atau mengizinkan orang lain untuk) melakukan (a) mengambil tindakan atau (b) mengunggah, mendownload, mengirim, mengirimkan atau mendistribusikan atau memfasilitasi distribusi konten apapun dengan menggunakan komunikasi apapun. layanan atau layanan lain yang tersedia pada atau melalui Layanan, bahwa:\\n\\nmelanggar hak paten, merek dagang, rahasia dagang, hak cipta, hak publisitas atau hak lain dari orang atau entitas lain;\\nmelanggar hukum, mengancam, kasar, melecehkan, memfitnah, memfitnah, menipu, menipu, melanggar privasi orang lain, menyiksa, cabul, menyinggung, atau profan;\\nmerupakan iklan yang tidak sah atau tidak diminta, spam atau e-mail massal (\"spamming\");\\nberisi virus perangkat lunak atau kode komputer, file, atau program lain yang dirancang atau dimaksudkan untuk mengganggu, merusak, membatasi atau mengganggu fungsi perangkat lunak, perangkat keras, atau perangkat telekomunikasi yang sesuai atau merusak atau mendapatkan akses tidak sah ke sistem apapun, data atau informasi lain dari RIN atau pihak ketiga; atau Selain itu, Anda tidak boleh: (i) mengambil tindakan yang memaksakan atau memaksakan (sebagaimana ditentukan oleh RIN atas kebijakannya sendiri) beban besar yang tidak masuk akal atau tidak proporsional terhadap infrastruktur RIN (atau penyedia pihak ketiga); (ii) mengganggu atau mencoba mengganggu pelaksanaan Layanan atau kegiatan yang dilakukan oleh Dinas; atau (iii) mengabaikan semua tindakan yang mungkin digunakan RIN untuk mencegah atau membatasi akses ke Layanan (atau akun lain, sistem komputer atau jaringan yang terhubung ke Layanan).\\nAnda harus mematuhi semua hukum dan peraturan lokal, negara bagian, nasional dan internasional yang berlaku</td>\n",
       "      <td>2</td>\n",
       "    </tr>\n",
       "    <tr>\n",
       "      <th>7</th>\n",
       "      <td>hubungi admin</td>\n",
       "      <td>2</td>\n",
       "    </tr>\n",
       "    <tr>\n",
       "      <th>8</th>\n",
       "      <td>This document is restricted, please contact the author for full access.</td>\n",
       "      <td>1</td>\n",
       "    </tr>\n",
       "    <tr>\n",
       "      <th>9</th>\n",
       "      <td>Bila berminat dengan data saya, harap menghubungi saya via email</td>\n",
       "      <td>1</td>\n",
       "    </tr>\n",
       "    <tr>\n",
       "      <th>10</th>\n",
       "      <td>jika membutuhkan data ini silahkan hubungi email triyuniindahwulansari@yahoo.co.id</td>\n",
       "      <td>1</td>\n",
       "    </tr>\n",
       "    <tr>\n",
       "      <th>11</th>\n",
       "      <td>&lt;a rel=\"license\" href=\"http://creativecommons.org/licenses/by-nc-nd/4.0/\"&gt;&lt;img alt=\"Creative Commons License\" style=\"border-width:0\" src=\"https://i.creativecommons.org/l/by-nc-nd/4.0/88x31.png\" /&gt;&lt;/a&gt;&lt;br /&gt;This work is licensed under a &lt;a rel=\"license\" href=\"http://creativecommons.org/licenses/by-nc-nd/4.0/\"&gt;Creative Commons Attribution-NonCommercial-NoDerivatives 4.0 International License&lt;/a&gt;.</td>\n",
       "      <td>1</td>\n",
       "    </tr>\n",
       "    <tr>\n",
       "      <th>12</th>\n",
       "      <td>&lt;a rel=\"license\" href=\"http://creativecommons.org/licenses/by-nc-nd/4.0/\"&gt;&lt;img alt=\"Creative Commons License\" style=\"border-width:0\" src=\"https://i.creativecommons.org/l/by-nc-nd/4.0/88x31.png\" /&gt;&lt;/a&gt;&lt;br /&gt;This work is licensed under a &lt;a rel=\"license\" href=\"http://creativecommons.org/licenses/by-nc-nd/4.0/\"&gt;Creative Commons Attribution-NonCommercial-NoDerivatives 4.0 International License&lt;/a&gt;.\\n\\n\\nFile yang diunduh dari RIN ini mungkin tidak didistribusikan ulang dalam bentuk apapun (elektronik, elektro-magnetik atau cetak) tanpa izin dari distributor data sebelumnya. Dengan mendownload file, saya mengonfirmasi bahwa saya telah membaca dan memahami setiap istilah yang ditetapkan dalam persyaratan dan ketentuan penggunaan data dan materi lain yang ditemukan di bawah ini, dan saya setuju untuk terikat oleh semua persyaratan dan ketentuan tersebut. Jika saya tidak mengerti atau menyetujui semua persyaratan dan ketentuan, saya tidak boleh menggunakan atau mendownload data atau materi lainnya. \\n----------- \\nAturan dan Perilaku Sebagai syarat penggunaan, Anda berjanji untuk tidak menggunakan Layanan untuk tujuan apa pun yang dilarang oleh Persyaratan Penggunaan. Untuk tujuan Persyaratan Penggunaan, \"Konten\" mencakup, tanpa batasan, informasi, data, teks, perangkat lunak, skrip, grafik, dan fitur interaktif apa pun yang dihasilkan, disediakan, atau dibuat dapat diakses oleh RIN atau mitranya pada atau melalui Layanan . Sebagai contoh, dan bukan sebagai batasan, Anda tidak boleh (atau mengizinkan orang lain untuk) melakukan (a) mengambil tindakan atau (b) mengunggah, mendownload, mengirim, mengirimkan atau mendistribusikan atau memfasilitasi distribusi konten apapun dengan menggunakan komunikasi apapun. layanan atau layanan lain yang tersedia pada atau melalui Layanan, bahwa: melanggar hak paten, merek dagang, rahasia dagang, hak cipta, hak publisitas atau hak lain dari orang atau entitas lain; melanggar hukum, mengancam, kasar, melecehkan, memfitnah, memfitnah, menipu, menipu, melanggar privasi orang lain, menyiksa, cabul, menyinggung, atau profan; merupakan iklan yang tidak sah atau tidak diminta, spam atau e-mail massal (\"spamming\"); berisi virus perangkat lunak atau kode komputer, file, atau program lain yang dirancang atau dimaksudkan untuk mengganggu, merusak, membatasi atau mengganggu fungsi perangkat lunak, perangkat keras, atau perangkat telekomunikasi yang sesuai atau merusak atau mendapatkan akses tidak sah ke sistem apapun, data atau informasi lain dari RIN atau pihak ketiga; atau Selain itu, Anda tidak boleh: (i) mengambil tindakan yang memaksakan atau memaksakan (sebagaimana ditentukan oleh RIN atas kebijakannya sendiri) beban besar yang tidak masuk akal atau tidak proporsional terhadap infrastruktur RIN (atau penyedia pihak ketiga); (ii) mengganggu atau mencoba mengganggu pelaksanaan Layanan atau kegiatan yang dilakukan oleh Dinas; atau (iii) mengabaikan semua tindakan yang mungkin digunakan RIN untuk mencegah atau membatasi akses ke Layanan (atau akun lain, sistem komputer atau jaringan yang terhubung ke Layanan). Anda harus mematuhi semua hukum dan peraturan lokal, negara bagian, nasional dan internasional yang berlaku.</td>\n",
       "      <td>1</td>\n",
       "    </tr>\n",
       "    <tr>\n",
       "      <th>13</th>\n",
       "      <td>hubungi Dede Sunarya (081320076678)</td>\n",
       "      <td>1</td>\n",
       "    </tr>\n",
       "    <tr>\n",
       "      <th>14</th>\n",
       "      <td>email ke chandra.fadlilah@bppt.go.id</td>\n",
       "      <td>1</td>\n",
       "    </tr>\n",
       "    <tr>\n",
       "      <th>15</th>\n",
       "      <td>apabila ingin menggunakan data ini, harap menghubungi peneliti melalui email rprayudyaningsih@gmail.com</td>\n",
       "      <td>1</td>\n",
       "    </tr>\n",
       "    <tr>\n",
       "      <th>16</th>\n",
       "      <td>Anda berminat, hubungi kami</td>\n",
       "      <td>1</td>\n",
       "    </tr>\n",
       "    <tr>\n",
       "      <th>17</th>\n",
       "      <td>Apabila menginginkan data ini silahkan menghubungi autor</td>\n",
       "      <td>1</td>\n",
       "    </tr>\n",
       "    <tr>\n",
       "      <th>18</th>\n",
       "      <td>Contact the admin or curator of Laboratorium Fisiologi Tumbuhan Dataverse for access</td>\n",
       "      <td>1</td>\n",
       "    </tr>\n",
       "    <tr>\n",
       "      <th>19</th>\n",
       "      <td>This document is restricted, please contact the author for full access</td>\n",
       "      <td>1</td>\n",
       "    </tr>\n",
       "    <tr>\n",
       "      <th>20</th>\n",
       "      <td>Copyright (c) 2020 Enggar Wahyuning Pahlawan, Anita Wijayanti, Suhendro\\n\\n&lt;a rel=\"license\" href=\"http://creativecommons.org/licenses/by/4.0/\"&gt;&lt;img alt=\"Creative Commons License\" style=\"border-width:0\" src=\"https://i.creativecommons.org/l/by/4.0/88x31.png\" /&gt;&lt;/a&gt;&lt;br /&gt;This work is licensed under a &lt;a rel=\"license\" href=\"http://creativecommons.org/licenses/by/4.0/\"&gt;Creative Commons Attribution 4.0 International License&lt;/a&gt;.</td>\n",
       "      <td>1</td>\n",
       "    </tr>\n",
       "    <tr>\n",
       "      <th>21</th>\n",
       "      <td>File yang diunduh dari RIN ini mungkin tidak didistribusikan ulang dalam bentuk apapun (elektronik, elektro-magnetik atau cetak) tanpa izin dari distributor data sebelumnya.\\n\\nDengan mendownload file, saya mengonfirmasi bahwa saya telah membaca dan memahami setiap istilah yang ditetapkan dalam persyaratan dan ketentuan penggunaan data dan materi lain yang ditemukan di bawah ini, dan saya setuju untuk terikat oleh semua persyaratan dan ketentuan tersebut.\\n\\nJika saya tidak mengerti atau menyetujui semua persyaratan dan ketentuan, saya tidak boleh menggunakan atau mendownload data atau materi lainnya.\\n&lt;br&gt;&lt;br&gt;\\n-----------\\n&lt;br&gt;&lt;br&gt;\\n&lt;strong&gt;Aturan dan Perilaku&lt;/strong&gt;&lt;br&gt;\\n\\nSebagai syarat penggunaan, Anda berjanji untuk tidak menggunakan Layanan untuk tujuan apa pun yang dilarang oleh Persyaratan Penggunaan. Untuk tujuan Persyaratan Penggunaan, \"Konten\" mencakup, tanpa batasan, informasi, data, teks, perangkat lunak, skrip, grafik, dan fitur interaktif apa pun yang dihasilkan, disediakan, atau dibuat dapat diakses oleh RIN atau mitranya pada atau melalui Layanan . Sebagai contoh, dan bukan sebagai batasan, Anda tidak boleh (atau mengizinkan orang lain untuk) melakukan (a) mengambil tindakan atau (b) mengunggah, mendownload, mengirim, mengirimkan atau mendistribusikan atau memfasilitasi distribusi konten apapun dengan menggunakan komunikasi apapun. layanan atau layanan lain yang tersedia pada atau melalui Layanan, bahwa:\\n&lt;ul&gt;\\n    &lt;li&gt;melanggar hak paten, merek dagang, rahasia dagang, hak cipta, hak publisitas atau hak lain dari orang atau entitas lain;&lt;/li&gt;\\n    &lt;li&gt;melanggar hukum, mengancam, kasar, melecehkan, memfitnah, memfitnah, menipu, menipu, melanggar privasi orang lain, menyiksa, cabul, menyinggung, atau profan;&lt;/li&gt;\\n    &lt;li&gt;merupakan iklan yang tidak sah atau tidak diminta, spam atau e-mail massal (\"spamming\");&lt;/li&gt;\\n   &lt;li&gt; berisi virus perangkat lunak atau kode komputer, file, atau program lain yang dirancang atau dimaksudkan untuk mengganggu, merusak, membatasi atau mengganggu fungsi perangkat lunak, perangkat keras, atau perangkat telekomunikasi yang sesuai atau merusak atau mendapatkan akses tidak sah ke sistem apapun, data atau informasi lain dari RIN atau pihak ketiga; atau Selain itu, Anda tidak boleh: (i) mengambil tindakan yang memaksakan atau memaksakan (sebagaimana ditentukan oleh RIN atas kebijakannya sendiri) beban besar yang tidak masuk akal atau tidak proporsional terhadap infrastruktur RIN (atau penyedia pihak ketiga); (ii) mengganggu atau mencoba mengganggu pelaksanaan Layanan atau kegiatan yang dilakukan oleh Dinas; atau (iii) mengabaikan semua tindakan yang mungkin digunakan RIN untuk mencegah atau membatasi akses ke Layanan (atau akun lain, sistem komputer atau jaringan yang terhubung ke Layanan).&lt;/li&gt;\\n&lt;/ul&gt;\\n\\nAnda harus mematuhi semua hukum dan peraturan lokal, negara bagian, nasional dan internasional yang berlaku.</td>\n",
       "      <td>1</td>\n",
       "    </tr>\n",
       "    <tr>\n",
       "      <th>22</th>\n",
       "      <td>permintaan data dapat dilayani bila anda mengemail kami terlebih dahulu di yanthie82@gmail.com</td>\n",
       "      <td>1</td>\n",
       "    </tr>\n",
       "    <tr>\n",
       "      <th>23</th>\n",
       "      <td>Hubungi email kalibrasi.balai2@gmail.com</td>\n",
       "      <td>1</td>\n",
       "    </tr>\n",
       "    <tr>\n",
       "      <th>24</th>\n",
       "      <td>Hubungi redaktur buletin Rendinis (081586227905)</td>\n",
       "      <td>1</td>\n",
       "    </tr>\n",
       "    <tr>\n",
       "      <th>25</th>\n",
       "      <td>Jika membutuhkan informasi dari KTI ini, harap menghubungi author.</td>\n",
       "      <td>1</td>\n",
       "    </tr>\n",
       "    <tr>\n",
       "      <th>26</th>\n",
       "      <td>Mohon untuk mencantumkan nama kami, jika menggunakan data kami. Terimakasih.</td>\n",
       "      <td>1</td>\n",
       "    </tr>\n",
       "    <tr>\n",
       "      <th>27</th>\n",
       "      <td>Please contact us</td>\n",
       "      <td>1</td>\n",
       "    </tr>\n",
       "    <tr>\n",
       "      <th>28</th>\n",
       "      <td>Sila hubungi authornya</td>\n",
       "      <td>1</td>\n",
       "    </tr>\n",
       "    <tr>\n",
       "      <th>29</th>\n",
       "      <td>please contact the author for file request</td>\n",
       "      <td>1</td>\n",
       "    </tr>\n",
       "  </tbody>\n",
       "</table>\n",
       "</div>"
      ],
      "text/plain": [
       "                                                                                                                                                                                                                                                                                                                                                                                                                                                                                                                                                                                                                                                                                                                                                                                                                                                                                                                                                                                                                                                                                                                                                                                                                                                                                                                                                                                                                                                                                                                                                                                                                                                                                                                                                                                                                                                                                                                                                                                                                                                                                                                                                                                                                                                                                                                                                                                                                                                                                                                                                                                                                                                                                                                                                                                                                                                                                                                                                                                                                                                                                                                                                                                                                                                                                                                                                                                                                                   termsOfAccess  \\\n",
       "0   <a rel=\"license\" href=\"http://creativecommons.org/licenses/by-nc/4.0/\"><img alt=\"Creative Commons License\" style=\"border-width:0\" src=\"https://i.creativecommons.org/l/by-nc/4.0/88x31.png\" /></a><br />This work is licensed under a <a rel=\"license\" href=\"http://creativecommons.org/licenses/by-nc/4.0/\">Creative Commons Attribution-NonCommercial 4.0 International License</a>.                                                                                                                                                                                                                                                                                                                                                                                                                                                                                                                                                                                                                                                                                                                                                                                                                                                                                                                                                                                                                                                                                                                                                                                                                                                                                                                                                                                                                                                                                                                                                                                                                                                                                                                                                                                                                                                                                                                                                                                                                                                                                                                                                                                                                                                                                                                                                                                                                                                                                                                                                                                                                                                                                                                                                                                                                                                                                                                                                                                                                                                         \n",
       "1   <a rel=\"license\" href=\"http://creativecommons.org/lic enses/by-nd/4.0/\"><img alt=\"Creative Commons License\" style=\"borderwidth:0\"  src=\"https://i.creativecommons.org/l/ by-nd/4.0/88x31.png\" /></a><br  />This work is licensed under a <a  rel=\"license\"  href=\"http://creativecommons.org/lic enses/by-nd/4.0/\">Creative  Commons AttributionNoDerivatives 4.0 International  License</a>                                                                                                                                                                                                                                                                                                                                                                                                                                                                                                                                                                                                                                                                                                                                                                                                                                                                                                                                                                                                                                                                                                                                                                                                                                                                                                                                                                                                                                                                                                                                                                                                                                                                                                                                                                                                                                                                                                                                                                                                                                                                                                                                                                                                                                                                                                                                                                                                                                                                                                                                                                                                                                                                                                                                                                                                                                                                                                                                                                                                                                                   \n",
       "2   <a rel=\"license\"\\nhref=\"http://creativecommons.org/li\\ncenses/by-nc-nd/4.0/\"><img\\nalt=\"Creative Commons License\"\\nstyle=\"border-width:0\"\\nsrc=\"https://i.creativecommons.org/l\\n/by-nc-nd/4.0/88x31.png\" /></a><br\\n/>This work is licensed under a <a\\nrel=\"license\"\\nhref=\"http://creativecommons.org/li\\ncenses/by-nc-nd/4.0/\">Creative\\nCommons AttributionNonCommercial-NoDerivatives 4.0\\nInternational License</a>.                                                                                                                                                                                                                                                                                                                                                                                                                                                                                                                                                                                                                                                                                                                                                                                                                                                                                                                                                                                                                                                                                                                                                                                                                                                                                                                                                                                                                                                                                                                                                                                                                                                                                                                                                                                                                                                                                                                                                                                                                                                                                                                                                                                                                                                                                                                                                                                                                                                                                                                                                                                                                                                                                                                                                                                                                                                                                                                                                                                                                    \n",
       "3   <a rel=\"license\" href=\"http://creativecommons.org/licenses/by/4.0/\"><img alt=\"Creative Commons License\" style=\"border-width:0\" src=\"https://i.creativecommons.org/l/by/4.0/88x31.png\" /></a><br />This work is licensed under a <a rel=\"license\" href=\"http://creativecommons.org/licenses/by/4.0/\">Creative Commons Attribution 4.0 International License</a>.                                                                                                                                                                                                                                                                                                                                                                                                                                                                                                                                                                                                                                                                                                                                                                                                                                                                                                                                                                                                                                                                                                                                                                                                                                                                                                                                                                                                                                                                                                                                                                                                                                                                                                                                                                                                                                                                                                                                                                                                                                                                                                                                                                                                                                                                                                                                                                                                                                                                                                                                                                                                                                                                                                                                                                                                                                                                                                                                                                                                                                                                                \n",
       "4   <a rel=\"license\" href=\"http://creativecommons.org/licenses/by-nc-nd/4.0/\"><img alt=\"Creative Commons License\" style=\"border-width:0\" src=\"https://i.creativecommons.org/l/by-nc-nd/4.0/88x31.png\" /></a><br />This work is licensed under a <a rel=\"license\" href=\"http://creativecommons.org/licenses/by-nc-nd/4.0/\">Creative Commons Attribution-NonCommercial-NoDerivatives 4.0 International License</a>.\\n\\nFile yang diunduh dari RIN ini mungkin tidak didistribusikan ulang dalam bentuk apapun (elektronik, elektro-magnetik atau cetak) tanpa izin dari distributor data sebelumnya.\\n\\nDengan mendownload file, saya mengonfirmasi bahwa saya telah membaca dan memahami setiap istilah yang ditetapkan dalam persyaratan dan ketentuan penggunaan data dan materi lain yang ditemukan di bawah ini, dan saya setuju untuk terikat oleh semua persyaratan dan ketentuan tersebut.\\n\\nJika saya tidak mengerti atau menyetujui semua persyaratan dan ketentuan, saya tidak boleh menggunakan atau mendownload data atau materi lainnya.\\n<br><br>\\n-----------\\n<br><br>\\n<strong>Aturan dan Perilaku</strong><br>\\n\\nSebagai syarat penggunaan, Anda berjanji untuk tidak menggunakan Layanan untuk tujuan apa pun yang dilarang oleh Persyaratan Penggunaan. Untuk tujuan Persyaratan Penggunaan, \"Konten\" mencakup, tanpa batasan, informasi, data, teks, perangkat lunak, skrip, grafik, dan fitur interaktif apa pun yang dihasilkan, disediakan, atau dibuat dapat diakses oleh RIN atau mitranya pada atau melalui Layanan . Sebagai contoh, dan bukan sebagai batasan, Anda tidak boleh (atau mengizinkan orang lain untuk) melakukan (a) mengambil tindakan atau (b) mengunggah, mendownload, mengirim, mengirimkan atau mendistribusikan atau memfasilitasi distribusi konten apapun dengan menggunakan komunikasi apapun. layanan atau layanan lain yang tersedia pada atau melalui Layanan, bahwa:\\n<ul>\\n    <li>melanggar hak paten, merek dagang, rahasia dagang, hak cipta, hak publisitas atau hak lain dari orang atau entitas lain;</li>\\n    <li>melanggar hukum, mengancam, kasar, melecehkan, memfitnah, memfitnah, menipu, menipu, melanggar privasi orang lain, menyiksa, cabul, menyinggung, atau profan;</li>\\n    <li>merupakan iklan yang tidak sah atau tidak diminta, spam atau e-mail massal (\"spamming\");</li>\\n   <li> berisi virus perangkat lunak atau kode komputer, file, atau program lain yang dirancang atau dimaksudkan untuk mengganggu, merusak, membatasi atau mengganggu fungsi perangkat lunak, perangkat keras, atau perangkat telekomunikasi yang sesuai atau merusak atau mendapatkan akses tidak sah ke sistem apapun, data atau informasi lain dari RIN atau pihak ketiga; atau Selain itu, Anda tidak boleh: (i) mengambil tindakan yang memaksakan atau memaksakan (sebagaimana ditentukan oleh RIN atas kebijakannya sendiri) beban besar yang tidak masuk akal atau tidak proporsional terhadap infrastruktur RIN (atau penyedia pihak ketiga); (ii) mengganggu atau mencoba mengganggu pelaksanaan Layanan atau kegiatan yang dilakukan oleh Dinas; atau (iii) mengabaikan semua tindakan yang mungkin digunakan RIN untuk mencegah atau membatasi akses ke Layanan (atau akun lain, sistem komputer atau jaringan yang terhubung ke Layanan).</li>\\n</ul>\\n\\nAnda harus mematuhi semua hukum dan peraturan lokal, negara bagian, nasional dan internasional yang berlaku.   \n",
       "5   <a rel=\"license\" href=\"http://creativecommons.org/licenses/by-nc-nd/4.0/\"><img alt=\"Creative Commons License\" style=\"border-width:0\" src=\"https://i.creativecommons.org/l/by-nc-nd/4.0/88x31.png\" /></a><br />This work is licensed under a <a rel=\"license\" href=\"http://creativecommons.org/licenses/by-nc-nd/4.0/\">Creative Commons Attribution-NonCommercial-NoDerivatives 4.0 International License</a>.\\n\\nFile yang diunduh dari RIN ini mungkin tidak didistribusikan ulang dalam bentuk apapun (elektronik, elektro-magnetik atau cetak) tanpa izin dari distributor data sebelumnya. Dengan mendownload file, saya mengonfirmasi bahwa saya telah membaca dan memahami setiap istilah yang ditetapkan dalam persyaratan dan ketentuan penggunaan data dan materi lain yang ditemukan di bawah ini, dan saya setuju untuk terikat oleh semua persyaratan dan ketentuan tersebut. Jika saya tidak mengerti atau menyetujui semua persyaratan dan ketentuan, saya tidak boleh menggunakan atau mendownload data atau materi lainnya.\\n\\n-----------\\n\\nAturan dan Perilaku\\nSebagai syarat penggunaan, Anda berjanji untuk tidak menggunakan Layanan untuk tujuan apa pun yang dilarang oleh Persyaratan Penggunaan. Untuk tujuan Persyaratan Penggunaan, \"Konten\" mencakup, tanpa batasan, informasi, data, teks, perangkat lunak, skrip, grafik, dan fitur interaktif apa pun yang dihasilkan, disediakan, atau dibuat dapat diakses oleh RIN atau mitranya pada atau melalui Layanan . Sebagai contoh, dan bukan sebagai batasan, Anda tidak boleh (atau mengizinkan orang lain untuk) melakukan (a) mengambil tindakan atau (b) mengunggah, mendownload, mengirim, mengirimkan atau mendistribusikan atau memfasilitasi distribusi konten apapun dengan menggunakan komunikasi apapun. layanan atau layanan lain yang tersedia pada atau melalui Layanan, bahwa:\\n\\nmelanggar hak paten, merek dagang, rahasia dagang, hak cipta, hak publisitas atau hak lain dari orang atau entitas lain;\\nmelanggar hukum, mengancam, kasar, melecehkan, memfitnah, memfitnah, menipu, menipu, melanggar privasi orang lain, menyiksa, cabul, menyinggung, atau profan;\\nmerupakan iklan yang tidak sah atau tidak diminta, spam atau e-mail massal (\"spamming\");\\nberisi virus perangkat lunak atau kode komputer, file, atau program lain yang dirancang atau dimaksudkan untuk mengganggu, merusak, membatasi atau mengganggu fungsi perangkat lunak, perangkat keras, atau perangkat telekomunikasi yang sesuai atau merusak atau mendapatkan akses tidak sah ke sistem apapun, data atau informasi lain dari RIN atau pihak ketiga; atau Selain itu, Anda tidak boleh: (i) mengambil tindakan yang memaksakan atau memaksakan (sebagaimana ditentukan oleh RIN atas kebijakannya sendiri) beban besar yang tidak masuk akal atau tidak proporsional terhadap infrastruktur RIN (atau penyedia pihak ketiga); (ii) mengganggu atau mencoba mengganggu pelaksanaan Layanan atau kegiatan yang dilakukan oleh Dinas; atau (iii) mengabaikan semua tindakan yang mungkin digunakan RIN untuk mencegah atau membatasi akses ke Layanan (atau akun lain, sistem komputer atau jaringan yang terhubung ke Layanan).\\nAnda harus mematuhi semua hukum dan peraturan lokal, negara bagian, nasional dan internasional yang berlaku.                                                                                                                 \n",
       "6   File yang diunduh dari RIN ini mungkin tidak didistribusikan ulang dalam bentuk apapun (elektronik, elektro-magnetik atau cetak) tanpa izin dari distributor data sebelumnya. Dengan mendownload file, saya mengonfirmasi bahwa saya telah membaca dan memahami setiap istilah yang ditetapkan dalam persyaratan dan ketentuan penggunaan data dan materi lain yang ditemukan di bawah ini, dan saya setuju untuk terikat oleh semua persyaratan dan ketentuan tersebut. Jika saya tidak mengerti atau menyetujui semua persyaratan dan ketentuan, saya tidak boleh menggunakan atau mendownload data atau materi lainnya.\\n\\n-----------\\n\\nAturan dan Perilaku\\nSebagai syarat penggunaan, Anda berjanji untuk tidak menggunakan Layanan untuk tujuan apa pun yang dilarang oleh Persyaratan Penggunaan. Untuk tujuan Persyaratan Penggunaan, \"Konten\" mencakup, tanpa batasan, informasi, data, teks, perangkat lunak, skrip, grafik, dan fitur interaktif apa pun yang dihasilkan, disediakan, atau dibuat dapat diakses oleh RIN atau mitranya pada atau melalui Layanan . Sebagai contoh, dan bukan sebagai batasan, Anda tidak boleh (atau mengizinkan orang lain untuk) melakukan (a) mengambil tindakan atau (b) mengunggah, mendownload, mengirim, mengirimkan atau mendistribusikan atau memfasilitasi distribusi konten apapun dengan menggunakan komunikasi apapun. layanan atau layanan lain yang tersedia pada atau melalui Layanan, bahwa:\\n\\nmelanggar hak paten, merek dagang, rahasia dagang, hak cipta, hak publisitas atau hak lain dari orang atau entitas lain;\\nmelanggar hukum, mengancam, kasar, melecehkan, memfitnah, memfitnah, menipu, menipu, melanggar privasi orang lain, menyiksa, cabul, menyinggung, atau profan;\\nmerupakan iklan yang tidak sah atau tidak diminta, spam atau e-mail massal (\"spamming\");\\nberisi virus perangkat lunak atau kode komputer, file, atau program lain yang dirancang atau dimaksudkan untuk mengganggu, merusak, membatasi atau mengganggu fungsi perangkat lunak, perangkat keras, atau perangkat telekomunikasi yang sesuai atau merusak atau mendapatkan akses tidak sah ke sistem apapun, data atau informasi lain dari RIN atau pihak ketiga; atau Selain itu, Anda tidak boleh: (i) mengambil tindakan yang memaksakan atau memaksakan (sebagaimana ditentukan oleh RIN atas kebijakannya sendiri) beban besar yang tidak masuk akal atau tidak proporsional terhadap infrastruktur RIN (atau penyedia pihak ketiga); (ii) mengganggu atau mencoba mengganggu pelaksanaan Layanan atau kegiatan yang dilakukan oleh Dinas; atau (iii) mengabaikan semua tindakan yang mungkin digunakan RIN untuk mencegah atau membatasi akses ke Layanan (atau akun lain, sistem komputer atau jaringan yang terhubung ke Layanan).\\nAnda harus mematuhi semua hukum dan peraturan lokal, negara bagian, nasional dan internasional yang berlaku                                                                                                                                                                                                                                                                                                                                                                                                                                                                                                                                   \n",
       "7   hubungi admin                                                                                                                                                                                                                                                                                                                                                                                                                                                                                                                                                                                                                                                                                                                                                                                                                                                                                                                                                                                                                                                                                                                                                                                                                                                                                                                                                                                                                                                                                                                                                                                                                                                                                                                                                                                                                                                                                                                                                                                                                                                                                                                                                                                                                                                                                                                                                                                                                                                                                                                                                                                                                                                                                                                                                                                                                                                                                                                                                                                                                                                                                                                                                                                                                                                                                                                                                                                                                                  \n",
       "8   This document is restricted, please contact the author for full access.                                                                                                                                                                                                                                                                                                                                                                                                                                                                                                                                                                                                                                                                                                                                                                                                                                                                                                                                                                                                                                                                                                                                                                                                                                                                                                                                                                                                                                                                                                                                                                                                                                                                                                                                                                                                                                                                                                                                                                                                                                                                                                                                                                                                                                                                                                                                                                                                                                                                                                                                                                                                                                                                                                                                                                                                                                                                                                                                                                                                                                                                                                                                                                                                                                                                                                                                                                        \n",
       "9   Bila berminat dengan data saya, harap menghubungi saya via email                                                                                                                                                                                                                                                                                                                                                                                                                                                                                                                                                                                                                                                                                                                                                                                                                                                                                                                                                                                                                                                                                                                                                                                                                                                                                                                                                                                                                                                                                                                                                                                                                                                                                                                                                                                                                                                                                                                                                                                                                                                                                                                                                                                                                                                                                                                                                                                                                                                                                                                                                                                                                                                                                                                                                                                                                                                                                                                                                                                                                                                                                                                                                                                                                                                                                                                                                                               \n",
       "10  jika membutuhkan data ini silahkan hubungi email triyuniindahwulansari@yahoo.co.id                                                                                                                                                                                                                                                                                                                                                                                                                                                                                                                                                                                                                                                                                                                                                                                                                                                                                                                                                                                                                                                                                                                                                                                                                                                                                                                                                                                                                                                                                                                                                                                                                                                                                                                                                                                                                                                                                                                                                                                                                                                                                                                                                                                                                                                                                                                                                                                                                                                                                                                                                                                                                                                                                                                                                                                                                                                                                                                                                                                                                                                                                                                                                                                                                                                                                                                                                             \n",
       "11  <a rel=\"license\" href=\"http://creativecommons.org/licenses/by-nc-nd/4.0/\"><img alt=\"Creative Commons License\" style=\"border-width:0\" src=\"https://i.creativecommons.org/l/by-nc-nd/4.0/88x31.png\" /></a><br />This work is licensed under a <a rel=\"license\" href=\"http://creativecommons.org/licenses/by-nc-nd/4.0/\">Creative Commons Attribution-NonCommercial-NoDerivatives 4.0 International License</a>.                                                                                                                                                                                                                                                                                                                                                                                                                                                                                                                                                                                                                                                                                                                                                                                                                                                                                                                                                                                                                                                                                                                                                                                                                                                                                                                                                                                                                                                                                                                                                                                                                                                                                                                                                                                                                                                                                                                                                                                                                                                                                                                                                                                                                                                                                                                                                                                                                                                                                                                                                                                                                                                                                                                                                                                                                                                                                                                                                                                                                                  \n",
       "12  <a rel=\"license\" href=\"http://creativecommons.org/licenses/by-nc-nd/4.0/\"><img alt=\"Creative Commons License\" style=\"border-width:0\" src=\"https://i.creativecommons.org/l/by-nc-nd/4.0/88x31.png\" /></a><br />This work is licensed under a <a rel=\"license\" href=\"http://creativecommons.org/licenses/by-nc-nd/4.0/\">Creative Commons Attribution-NonCommercial-NoDerivatives 4.0 International License</a>.\\n\\n\\nFile yang diunduh dari RIN ini mungkin tidak didistribusikan ulang dalam bentuk apapun (elektronik, elektro-magnetik atau cetak) tanpa izin dari distributor data sebelumnya. Dengan mendownload file, saya mengonfirmasi bahwa saya telah membaca dan memahami setiap istilah yang ditetapkan dalam persyaratan dan ketentuan penggunaan data dan materi lain yang ditemukan di bawah ini, dan saya setuju untuk terikat oleh semua persyaratan dan ketentuan tersebut. Jika saya tidak mengerti atau menyetujui semua persyaratan dan ketentuan, saya tidak boleh menggunakan atau mendownload data atau materi lainnya. \\n----------- \\nAturan dan Perilaku Sebagai syarat penggunaan, Anda berjanji untuk tidak menggunakan Layanan untuk tujuan apa pun yang dilarang oleh Persyaratan Penggunaan. Untuk tujuan Persyaratan Penggunaan, \"Konten\" mencakup, tanpa batasan, informasi, data, teks, perangkat lunak, skrip, grafik, dan fitur interaktif apa pun yang dihasilkan, disediakan, atau dibuat dapat diakses oleh RIN atau mitranya pada atau melalui Layanan . Sebagai contoh, dan bukan sebagai batasan, Anda tidak boleh (atau mengizinkan orang lain untuk) melakukan (a) mengambil tindakan atau (b) mengunggah, mendownload, mengirim, mengirimkan atau mendistribusikan atau memfasilitasi distribusi konten apapun dengan menggunakan komunikasi apapun. layanan atau layanan lain yang tersedia pada atau melalui Layanan, bahwa: melanggar hak paten, merek dagang, rahasia dagang, hak cipta, hak publisitas atau hak lain dari orang atau entitas lain; melanggar hukum, mengancam, kasar, melecehkan, memfitnah, memfitnah, menipu, menipu, melanggar privasi orang lain, menyiksa, cabul, menyinggung, atau profan; merupakan iklan yang tidak sah atau tidak diminta, spam atau e-mail massal (\"spamming\"); berisi virus perangkat lunak atau kode komputer, file, atau program lain yang dirancang atau dimaksudkan untuk mengganggu, merusak, membatasi atau mengganggu fungsi perangkat lunak, perangkat keras, atau perangkat telekomunikasi yang sesuai atau merusak atau mendapatkan akses tidak sah ke sistem apapun, data atau informasi lain dari RIN atau pihak ketiga; atau Selain itu, Anda tidak boleh: (i) mengambil tindakan yang memaksakan atau memaksakan (sebagaimana ditentukan oleh RIN atas kebijakannya sendiri) beban besar yang tidak masuk akal atau tidak proporsional terhadap infrastruktur RIN (atau penyedia pihak ketiga); (ii) mengganggu atau mencoba mengganggu pelaksanaan Layanan atau kegiatan yang dilakukan oleh Dinas; atau (iii) mengabaikan semua tindakan yang mungkin digunakan RIN untuk mencegah atau membatasi akses ke Layanan (atau akun lain, sistem komputer atau jaringan yang terhubung ke Layanan). Anda harus mematuhi semua hukum dan peraturan lokal, negara bagian, nasional dan internasional yang berlaku.                                                                                                                         \n",
       "13  hubungi Dede Sunarya (081320076678)                                                                                                                                                                                                                                                                                                                                                                                                                                                                                                                                                                                                                                                                                                                                                                                                                                                                                                                                                                                                                                                                                                                                                                                                                                                                                                                                                                                                                                                                                                                                                                                                                                                                                                                                                                                                                                                                                                                                                                                                                                                                                                                                                                                                                                                                                                                                                                                                                                                                                                                                                                                                                                                                                                                                                                                                                                                                                                                                                                                                                                                                                                                                                                                                                                                                                                                                                                                                            \n",
       "14  email ke chandra.fadlilah@bppt.go.id                                                                                                                                                                                                                                                                                                                                                                                                                                                                                                                                                                                                                                                                                                                                                                                                                                                                                                                                                                                                                                                                                                                                                                                                                                                                                                                                                                                                                                                                                                                                                                                                                                                                                                                                                                                                                                                                                                                                                                                                                                                                                                                                                                                                                                                                                                                                                                                                                                                                                                                                                                                                                                                                                                                                                                                                                                                                                                                                                                                                                                                                                                                                                                                                                                                                                                                                                                                                           \n",
       "15  apabila ingin menggunakan data ini, harap menghubungi peneliti melalui email rprayudyaningsih@gmail.com                                                                                                                                                                                                                                                                                                                                                                                                                                                                                                                                                                                                                                                                                                                                                                                                                                                                                                                                                                                                                                                                                                                                                                                                                                                                                                                                                                                                                                                                                                                                                                                                                                                                                                                                                                                                                                                                                                                                                                                                                                                                                                                                                                                                                                                                                                                                                                                                                                                                                                                                                                                                                                                                                                                                                                                                                                                                                                                                                                                                                                                                                                                                                                                                                                                                                                                                        \n",
       "16  Anda berminat, hubungi kami                                                                                                                                                                                                                                                                                                                                                                                                                                                                                                                                                                                                                                                                                                                                                                                                                                                                                                                                                                                                                                                                                                                                                                                                                                                                                                                                                                                                                                                                                                                                                                                                                                                                                                                                                                                                                                                                                                                                                                                                                                                                                                                                                                                                                                                                                                                                                                                                                                                                                                                                                                                                                                                                                                                                                                                                                                                                                                                                                                                                                                                                                                                                                                                                                                                                                                                                                                                                                    \n",
       "17  Apabila menginginkan data ini silahkan menghubungi autor                                                                                                                                                                                                                                                                                                                                                                                                                                                                                                                                                                                                                                                                                                                                                                                                                                                                                                                                                                                                                                                                                                                                                                                                                                                                                                                                                                                                                                                                                                                                                                                                                                                                                                                                                                                                                                                                                                                                                                                                                                                                                                                                                                                                                                                                                                                                                                                                                                                                                                                                                                                                                                                                                                                                                                                                                                                                                                                                                                                                                                                                                                                                                                                                                                                                                                                                                                                       \n",
       "18  Contact the admin or curator of Laboratorium Fisiologi Tumbuhan Dataverse for access                                                                                                                                                                                                                                                                                                                                                                                                                                                                                                                                                                                                                                                                                                                                                                                                                                                                                                                                                                                                                                                                                                                                                                                                                                                                                                                                                                                                                                                                                                                                                                                                                                                                                                                                                                                                                                                                                                                                                                                                                                                                                                                                                                                                                                                                                                                                                                                                                                                                                                                                                                                                                                                                                                                                                                                                                                                                                                                                                                                                                                                                                                                                                                                                                                                                                                                                                           \n",
       "19  This document is restricted, please contact the author for full access                                                                                                                                                                                                                                                                                                                                                                                                                                                                                                                                                                                                                                                                                                                                                                                                                                                                                                                                                                                                                                                                                                                                                                                                                                                                                                                                                                                                                                                                                                                                                                                                                                                                                                                                                                                                                                                                                                                                                                                                                                                                                                                                                                                                                                                                                                                                                                                                                                                                                                                                                                                                                                                                                                                                                                                                                                                                                                                                                                                                                                                                                                                                                                                                                                                                                                                                                                         \n",
       "20  Copyright (c) 2020 Enggar Wahyuning Pahlawan, Anita Wijayanti, Suhendro\\n\\n<a rel=\"license\" href=\"http://creativecommons.org/licenses/by/4.0/\"><img alt=\"Creative Commons License\" style=\"border-width:0\" src=\"https://i.creativecommons.org/l/by/4.0/88x31.png\" /></a><br />This work is licensed under a <a rel=\"license\" href=\"http://creativecommons.org/licenses/by/4.0/\">Creative Commons Attribution 4.0 International License</a>.                                                                                                                                                                                                                                                                                                                                                                                                                                                                                                                                                                                                                                                                                                                                                                                                                                                                                                                                                                                                                                                                                                                                                                                                                                                                                                                                                                                                                                                                                                                                                                                                                                                                                                                                                                                                                                                                                                                                                                                                                                                                                                                                                                                                                                                                                                                                                                                                                                                                                                                                                                                                                                                                                                                                                                                                                                                                                                                                                                                                     \n",
       "21  File yang diunduh dari RIN ini mungkin tidak didistribusikan ulang dalam bentuk apapun (elektronik, elektro-magnetik atau cetak) tanpa izin dari distributor data sebelumnya.\\n\\nDengan mendownload file, saya mengonfirmasi bahwa saya telah membaca dan memahami setiap istilah yang ditetapkan dalam persyaratan dan ketentuan penggunaan data dan materi lain yang ditemukan di bawah ini, dan saya setuju untuk terikat oleh semua persyaratan dan ketentuan tersebut.\\n\\nJika saya tidak mengerti atau menyetujui semua persyaratan dan ketentuan, saya tidak boleh menggunakan atau mendownload data atau materi lainnya.\\n<br><br>\\n-----------\\n<br><br>\\n<strong>Aturan dan Perilaku</strong><br>\\n\\nSebagai syarat penggunaan, Anda berjanji untuk tidak menggunakan Layanan untuk tujuan apa pun yang dilarang oleh Persyaratan Penggunaan. Untuk tujuan Persyaratan Penggunaan, \"Konten\" mencakup, tanpa batasan, informasi, data, teks, perangkat lunak, skrip, grafik, dan fitur interaktif apa pun yang dihasilkan, disediakan, atau dibuat dapat diakses oleh RIN atau mitranya pada atau melalui Layanan . Sebagai contoh, dan bukan sebagai batasan, Anda tidak boleh (atau mengizinkan orang lain untuk) melakukan (a) mengambil tindakan atau (b) mengunggah, mendownload, mengirim, mengirimkan atau mendistribusikan atau memfasilitasi distribusi konten apapun dengan menggunakan komunikasi apapun. layanan atau layanan lain yang tersedia pada atau melalui Layanan, bahwa:\\n<ul>\\n    <li>melanggar hak paten, merek dagang, rahasia dagang, hak cipta, hak publisitas atau hak lain dari orang atau entitas lain;</li>\\n    <li>melanggar hukum, mengancam, kasar, melecehkan, memfitnah, memfitnah, menipu, menipu, melanggar privasi orang lain, menyiksa, cabul, menyinggung, atau profan;</li>\\n    <li>merupakan iklan yang tidak sah atau tidak diminta, spam atau e-mail massal (\"spamming\");</li>\\n   <li> berisi virus perangkat lunak atau kode komputer, file, atau program lain yang dirancang atau dimaksudkan untuk mengganggu, merusak, membatasi atau mengganggu fungsi perangkat lunak, perangkat keras, atau perangkat telekomunikasi yang sesuai atau merusak atau mendapatkan akses tidak sah ke sistem apapun, data atau informasi lain dari RIN atau pihak ketiga; atau Selain itu, Anda tidak boleh: (i) mengambil tindakan yang memaksakan atau memaksakan (sebagaimana ditentukan oleh RIN atas kebijakannya sendiri) beban besar yang tidak masuk akal atau tidak proporsional terhadap infrastruktur RIN (atau penyedia pihak ketiga); (ii) mengganggu atau mencoba mengganggu pelaksanaan Layanan atau kegiatan yang dilakukan oleh Dinas; atau (iii) mengabaikan semua tindakan yang mungkin digunakan RIN untuk mencegah atau membatasi akses ke Layanan (atau akun lain, sistem komputer atau jaringan yang terhubung ke Layanan).</li>\\n</ul>\\n\\nAnda harus mematuhi semua hukum dan peraturan lokal, negara bagian, nasional dan internasional yang berlaku.                                                                                                                                                                                                                                                                                                                                                                                                                    \n",
       "22  permintaan data dapat dilayani bila anda mengemail kami terlebih dahulu di yanthie82@gmail.com                                                                                                                                                                                                                                                                                                                                                                                                                                                                                                                                                                                                                                                                                                                                                                                                                                                                                                                                                                                                                                                                                                                                                                                                                                                                                                                                                                                                                                                                                                                                                                                                                                                                                                                                                                                                                                                                                                                                                                                                                                                                                                                                                                                                                                                                                                                                                                                                                                                                                                                                                                                                                                                                                                                                                                                                                                                                                                                                                                                                                                                                                                                                                                                                                                                                                                                                                 \n",
       "23  Hubungi email kalibrasi.balai2@gmail.com                                                                                                                                                                                                                                                                                                                                                                                                                                                                                                                                                                                                                                                                                                                                                                                                                                                                                                                                                                                                                                                                                                                                                                                                                                                                                                                                                                                                                                                                                                                                                                                                                                                                                                                                                                                                                                                                                                                                                                                                                                                                                                                                                                                                                                                                                                                                                                                                                                                                                                                                                                                                                                                                                                                                                                                                                                                                                                                                                                                                                                                                                                                                                                                                                                                                                                                                                                                                       \n",
       "24  Hubungi redaktur buletin Rendinis (081586227905)                                                                                                                                                                                                                                                                                                                                                                                                                                                                                                                                                                                                                                                                                                                                                                                                                                                                                                                                                                                                                                                                                                                                                                                                                                                                                                                                                                                                                                                                                                                                                                                                                                                                                                                                                                                                                                                                                                                                                                                                                                                                                                                                                                                                                                                                                                                                                                                                                                                                                                                                                                                                                                                                                                                                                                                                                                                                                                                                                                                                                                                                                                                                                                                                                                                                                                                                                                                               \n",
       "25  Jika membutuhkan informasi dari KTI ini, harap menghubungi author.                                                                                                                                                                                                                                                                                                                                                                                                                                                                                                                                                                                                                                                                                                                                                                                                                                                                                                                                                                                                                                                                                                                                                                                                                                                                                                                                                                                                                                                                                                                                                                                                                                                                                                                                                                                                                                                                                                                                                                                                                                                                                                                                                                                                                                                                                                                                                                                                                                                                                                                                                                                                                                                                                                                                                                                                                                                                                                                                                                                                                                                                                                                                                                                                                                                                                                                                                                             \n",
       "26  Mohon untuk mencantumkan nama kami, jika menggunakan data kami. Terimakasih.                                                                                                                                                                                                                                                                                                                                                                                                                                                                                                                                                                                                                                                                                                                                                                                                                                                                                                                                                                                                                                                                                                                                                                                                                                                                                                                                                                                                                                                                                                                                                                                                                                                                                                                                                                                                                                                                                                                                                                                                                                                                                                                                                                                                                                                                                                                                                                                                                                                                                                                                                                                                                                                                                                                                                                                                                                                                                                                                                                                                                                                                                                                                                                                                                                                                                                                                                                   \n",
       "27  Please contact us                                                                                                                                                                                                                                                                                                                                                                                                                                                                                                                                                                                                                                                                                                                                                                                                                                                                                                                                                                                                                                                                                                                                                                                                                                                                                                                                                                                                                                                                                                                                                                                                                                                                                                                                                                                                                                                                                                                                                                                                                                                                                                                                                                                                                                                                                                                                                                                                                                                                                                                                                                                                                                                                                                                                                                                                                                                                                                                                                                                                                                                                                                                                                                                                                                                                                                                                                                                                                              \n",
       "28  Sila hubungi authornya                                                                                                                                                                                                                                                                                                                                                                                                                                                                                                                                                                                                                                                                                                                                                                                                                                                                                                                                                                                                                                                                                                                                                                                                                                                                                                                                                                                                                                                                                                                                                                                                                                                                                                                                                                                                                                                                                                                                                                                                                                                                                                                                                                                                                                                                                                                                                                                                                                                                                                                                                                                                                                                                                                                                                                                                                                                                                                                                                                                                                                                                                                                                                                                                                                                                                                                                                                                                                         \n",
       "29  please contact the author for file request                                                                                                                                                                                                                                                                                                                                                                                                                                                                                                                                                                                                                                                                                                                                                                                                                                                                                                                                                                                                                                                                                                                                                                                                                                                                                                                                                                                                                                                                                                                                                                                                                                                                                                                                                                                                                                                                                                                                                                                                                                                                                                                                                                                                                                                                                                                                                                                                                                                                                                                                                                                                                                                                                                                                                                                                                                                                                                                                                                                                                                                                                                                                                                                                                                                                                                                                                                                                     \n",
       "\n",
       "    dataset_count  \n",
       "0   7              \n",
       "1   5              \n",
       "2   3              \n",
       "3   2              \n",
       "4   2              \n",
       "5   2              \n",
       "6   2              \n",
       "7   2              \n",
       "8   1              \n",
       "9   1              \n",
       "10  1              \n",
       "11  1              \n",
       "12  1              \n",
       "13  1              \n",
       "14  1              \n",
       "15  1              \n",
       "16  1              \n",
       "17  1              \n",
       "18  1              \n",
       "19  1              \n",
       "20  1              \n",
       "21  1              \n",
       "22  1              \n",
       "23  1              \n",
       "24  1              \n",
       "25  1              \n",
       "26  1              \n",
       "27  1              \n",
       "28  1              \n",
       "29  1              "
      ]
     },
     "metadata": {},
     "output_type": "display_data"
    }
   ],
   "source": [
    "rin_datasets_cc_toa = rin_datasets_cc.value_counts(subset=['termsOfAccess']).to_frame('dataset_count').reset_index(drop=False, inplace=False)\n",
    "with pd.option_context('display.max_colwidth', -1):\n",
    "    display(rin_datasets_cc_toa)\n"
   ]
  },
  {
   "cell_type": "markdown",
   "metadata": {},
   "source": [
    "Most of these datasets have the same CCBY text entered in their Terms of Access fields. Scrolling down, we see 2 datasets in the fifth row with extra text in Indonedian. What does it say?\n"
   ]
  },
  {
   "cell_type": "code",
   "execution_count": 130,
   "metadata": {
    "scrolled": true
   },
   "outputs": [
    {
     "data": {
      "text/plain": [
       "'<a rel=\"license\" href=\"http://creativecommons.org/licenses/by-nc-nd/4.0/\"> <img alt = \"Creative Commons License\" style = \"border-width: 0\" src = \"https://i.creativecommons.org/l/by-nc-nd/4.0/88x31.png\" /> </a> <br /> This work is licensed under a <a rel = \"license\" href = \"http://creativecommons.org/licenses/by-nc-nd/4.0/\">Creative Commons Attribution-NonCommercial-NoDerivatives 4.0 International License </a>.\\n\\nFiles downloaded from this RIN may not be redistributed in any form (electronic, electro-magnetic or printed) without the prior consent of the data distributor.\\n\\nBy downloading the file, I confirm that I have read and understood each of the terms set out in the terms and conditions of use of data and other materials found below, and I agree to be bound by all of these terms and conditions.\\n\\nIf I do not understand or agree to all the terms and conditions, I may not use or download other data or materials.\\n<br> <br>\\n-----------\\n<br> <br>\\n<strong> Rules and Conduct </strong> <br>\\n\\nAs a condition of use, you promise not to use the Service for any purpose prohibited by the Terms of Use. For purposes of the Terms of Use, \"Content\" includes, without limitation, information, data, text, software, scripts, graphics and any interactive features that are generated, provided or made accessible to RIN or its partners on or through the Services. For example, and not as a limitation, you may not (or allow others to) (a) take action or (b) upload, download, send, transmit or distribute or facilitate distribution of any content using any communication. other services or services available on or through the Service, that:\\n<ul>\\n    <li> violates patents, trademarks, trade secrets, copyrights, publicity rights or other rights of other people or entities; </li>\\n    <li> violates the law, threatens, abuses, harasses, slanders, slanders, cheats, cheats, violates the privacy of others, is abusive, obscene, offensive, or profane; </li>\\n    <li> represents unauthorized or unsolicited advertising, spam or bulk e-mail (\"spamming\"); </li>\\n   <li> contains software viruses or computer code, files, or other programs designed or intended to interfere with, destroy, limit or interfere with the proper functioning of software, hardware or telecommunications equipment or damage or gain unauthorized access to any system , data or other information from RIN or third parties; or Additionally, you may not: (i) take any enforcing or imposing (as determined by RIN in its sole discretion) an unreasonably or disproportionately large burden on RIN\\'s infrastructure (or any third party provider); (ii) interfere with or try to interfere with the implementation of the Services or activities carried out by the Service; or (iii) ignore all measures that RIN may use to prevent or limit access to the Service (or other accounts, computer systems or networks connected to the Service). </li>\\n</ul>\\n\\nYou must comply with all applicable local, state, national and international laws and regulations. '"
      ]
     },
     "execution_count": 130,
     "metadata": {},
     "output_type": "execute_result"
    }
   ],
   "source": [
    "translator.translate(rin_datasets_cc_toa['termsOfAccess'][4], lang_src='id', lang_tgt='en')"
   ]
  },
  {
   "cell_type": "markdown",
   "metadata": {},
   "source": [
    "After the CCBY links and images, there's \"Files downloaded from this RIN may not be redistributed in any form (electronic, electro-magnetic or printed) without the prior consent of the data distributor.\" This and the remaining text looks a lot like what was entered in the Terms Of Access fields of the CC0 datasets we looked at earlier.\n",
    "\n",
    "And it again seems to conflict with CCBY (https://creativecommons.org/licenses/by-nc-nd/4.0/), where there are limitations on redistribution, but they don't include getting the data distributor's consent.\n",
    "\n",
    "Let's see how many of the 48 CCBY datasets have this text about consent. \"tanpa izin dari distributor data sebelumnya\" means \"without prior permission of the data distributor\".\n"
   ]
  },
  {
   "cell_type": "code",
   "execution_count": 142,
   "metadata": {},
   "outputs": [
    {
     "data": {
      "text/html": [
       "<div>\n",
       "<style scoped>\n",
       "    .dataframe tbody tr th:only-of-type {\n",
       "        vertical-align: middle;\n",
       "    }\n",
       "\n",
       "    .dataframe tbody tr th {\n",
       "        vertical-align: top;\n",
       "    }\n",
       "\n",
       "    .dataframe thead th {\n",
       "        text-align: right;\n",
       "    }\n",
       "</style>\n",
       "<table border=\"1\" class=\"dataframe\">\n",
       "  <thead>\n",
       "    <tr style=\"text-align: right;\">\n",
       "      <th></th>\n",
       "      <th>termsOfAccess</th>\n",
       "      <th>dataset_count</th>\n",
       "    </tr>\n",
       "  </thead>\n",
       "  <tbody>\n",
       "    <tr>\n",
       "      <th>4</th>\n",
       "      <td>&lt;a rel=\"license\" href=\"http://creativecommons....</td>\n",
       "      <td>2</td>\n",
       "    </tr>\n",
       "    <tr>\n",
       "      <th>5</th>\n",
       "      <td>&lt;a rel=\"license\" href=\"http://creativecommons....</td>\n",
       "      <td>2</td>\n",
       "    </tr>\n",
       "    <tr>\n",
       "      <th>6</th>\n",
       "      <td>File yang diunduh dari RIN ini mungkin tidak d...</td>\n",
       "      <td>2</td>\n",
       "    </tr>\n",
       "    <tr>\n",
       "      <th>12</th>\n",
       "      <td>&lt;a rel=\"license\" href=\"http://creativecommons....</td>\n",
       "      <td>1</td>\n",
       "    </tr>\n",
       "    <tr>\n",
       "      <th>21</th>\n",
       "      <td>File yang diunduh dari RIN ini mungkin tidak d...</td>\n",
       "      <td>1</td>\n",
       "    </tr>\n",
       "  </tbody>\n",
       "</table>\n",
       "</div>"
      ],
      "text/plain": [
       "                                        termsOfAccess  dataset_count\n",
       "4   <a rel=\"license\" href=\"http://creativecommons....              2\n",
       "5   <a rel=\"license\" href=\"http://creativecommons....              2\n",
       "6   File yang diunduh dari RIN ini mungkin tidak d...              2\n",
       "12  <a rel=\"license\" href=\"http://creativecommons....              1\n",
       "21  File yang diunduh dari RIN ini mungkin tidak d...              1"
      ]
     },
     "execution_count": 142,
     "metadata": {},
     "output_type": "execute_result"
    }
   ],
   "source": [
    "rin_datasets_cc_toa.query(\n",
    "            'termsOfAccess.str.contains(\"tanpa izin dari distributor data sebelumnya\")'\n",
    "    )\n"
   ]
  },
  {
   "cell_type": "markdown",
   "metadata": {},
   "source": [
    "Just 8 of the 48 CCBY datasets have metadata with this distribution restriction. What about the other 40 datasets?"
   ]
  },
  {
   "cell_type": "code",
   "execution_count": 143,
   "metadata": {},
   "outputs": [
    {
     "data": {
      "text/html": [
       "<div>\n",
       "<style scoped>\n",
       "    .dataframe tbody tr th:only-of-type {\n",
       "        vertical-align: middle;\n",
       "    }\n",
       "\n",
       "    .dataframe tbody tr th {\n",
       "        vertical-align: top;\n",
       "    }\n",
       "\n",
       "    .dataframe thead th {\n",
       "        text-align: right;\n",
       "    }\n",
       "</style>\n",
       "<table border=\"1\" class=\"dataframe\">\n",
       "  <thead>\n",
       "    <tr style=\"text-align: right;\">\n",
       "      <th></th>\n",
       "      <th>termsOfAccess</th>\n",
       "      <th>dataset_count</th>\n",
       "    </tr>\n",
       "  </thead>\n",
       "  <tbody>\n",
       "    <tr>\n",
       "      <th>0</th>\n",
       "      <td>&lt;a rel=\"license\" href=\"http://creativecommons....</td>\n",
       "      <td>7</td>\n",
       "    </tr>\n",
       "    <tr>\n",
       "      <th>1</th>\n",
       "      <td>&lt;a rel=\"license\" href=\"http://creativecommons....</td>\n",
       "      <td>5</td>\n",
       "    </tr>\n",
       "    <tr>\n",
       "      <th>2</th>\n",
       "      <td>&lt;a rel=\"license\"\\nhref=\"http://creativecommons...</td>\n",
       "      <td>3</td>\n",
       "    </tr>\n",
       "    <tr>\n",
       "      <th>3</th>\n",
       "      <td>&lt;a rel=\"license\" href=\"http://creativecommons....</td>\n",
       "      <td>2</td>\n",
       "    </tr>\n",
       "    <tr>\n",
       "      <th>7</th>\n",
       "      <td>hubungi admin</td>\n",
       "      <td>2</td>\n",
       "    </tr>\n",
       "    <tr>\n",
       "      <th>8</th>\n",
       "      <td>This document is restricted, please contact th...</td>\n",
       "      <td>1</td>\n",
       "    </tr>\n",
       "    <tr>\n",
       "      <th>9</th>\n",
       "      <td>Bila berminat dengan data saya, harap menghubu...</td>\n",
       "      <td>1</td>\n",
       "    </tr>\n",
       "    <tr>\n",
       "      <th>10</th>\n",
       "      <td>jika membutuhkan data ini silahkan hubungi ema...</td>\n",
       "      <td>1</td>\n",
       "    </tr>\n",
       "    <tr>\n",
       "      <th>11</th>\n",
       "      <td>&lt;a rel=\"license\" href=\"http://creativecommons....</td>\n",
       "      <td>1</td>\n",
       "    </tr>\n",
       "    <tr>\n",
       "      <th>13</th>\n",
       "      <td>hubungi Dede Sunarya (081320076678)</td>\n",
       "      <td>1</td>\n",
       "    </tr>\n",
       "    <tr>\n",
       "      <th>14</th>\n",
       "      <td>email ke chandra.fadlilah@bppt.go.id</td>\n",
       "      <td>1</td>\n",
       "    </tr>\n",
       "    <tr>\n",
       "      <th>15</th>\n",
       "      <td>apabila ingin menggunakan data ini, harap meng...</td>\n",
       "      <td>1</td>\n",
       "    </tr>\n",
       "    <tr>\n",
       "      <th>16</th>\n",
       "      <td>Anda berminat, hubungi kami</td>\n",
       "      <td>1</td>\n",
       "    </tr>\n",
       "    <tr>\n",
       "      <th>17</th>\n",
       "      <td>Apabila menginginkan data ini silahkan menghub...</td>\n",
       "      <td>1</td>\n",
       "    </tr>\n",
       "    <tr>\n",
       "      <th>18</th>\n",
       "      <td>Contact the admin or curator of Laboratorium F...</td>\n",
       "      <td>1</td>\n",
       "    </tr>\n",
       "    <tr>\n",
       "      <th>19</th>\n",
       "      <td>This document is restricted, please contact th...</td>\n",
       "      <td>1</td>\n",
       "    </tr>\n",
       "    <tr>\n",
       "      <th>20</th>\n",
       "      <td>Copyright (c) 2020 Enggar Wahyuning Pahlawan, ...</td>\n",
       "      <td>1</td>\n",
       "    </tr>\n",
       "    <tr>\n",
       "      <th>22</th>\n",
       "      <td>permintaan data dapat dilayani bila anda menge...</td>\n",
       "      <td>1</td>\n",
       "    </tr>\n",
       "    <tr>\n",
       "      <th>23</th>\n",
       "      <td>Hubungi email kalibrasi.balai2@gmail.com</td>\n",
       "      <td>1</td>\n",
       "    </tr>\n",
       "    <tr>\n",
       "      <th>24</th>\n",
       "      <td>Hubungi redaktur buletin Rendinis (081586227905)</td>\n",
       "      <td>1</td>\n",
       "    </tr>\n",
       "    <tr>\n",
       "      <th>25</th>\n",
       "      <td>Jika membutuhkan informasi dari KTI ini, harap...</td>\n",
       "      <td>1</td>\n",
       "    </tr>\n",
       "    <tr>\n",
       "      <th>26</th>\n",
       "      <td>Mohon untuk mencantumkan nama kami, jika mengg...</td>\n",
       "      <td>1</td>\n",
       "    </tr>\n",
       "    <tr>\n",
       "      <th>27</th>\n",
       "      <td>Please contact us</td>\n",
       "      <td>1</td>\n",
       "    </tr>\n",
       "    <tr>\n",
       "      <th>28</th>\n",
       "      <td>Sila hubungi authornya</td>\n",
       "      <td>1</td>\n",
       "    </tr>\n",
       "    <tr>\n",
       "      <th>29</th>\n",
       "      <td>please contact the author for file request</td>\n",
       "      <td>1</td>\n",
       "    </tr>\n",
       "  </tbody>\n",
       "</table>\n",
       "</div>"
      ],
      "text/plain": [
       "                                        termsOfAccess  dataset_count\n",
       "0   <a rel=\"license\" href=\"http://creativecommons....              7\n",
       "1   <a rel=\"license\" href=\"http://creativecommons....              5\n",
       "2   <a rel=\"license\"\\nhref=\"http://creativecommons...              3\n",
       "3   <a rel=\"license\" href=\"http://creativecommons....              2\n",
       "7                                       hubungi admin              2\n",
       "8   This document is restricted, please contact th...              1\n",
       "9   Bila berminat dengan data saya, harap menghubu...              1\n",
       "10  jika membutuhkan data ini silahkan hubungi ema...              1\n",
       "11  <a rel=\"license\" href=\"http://creativecommons....              1\n",
       "13                hubungi Dede Sunarya (081320076678)              1\n",
       "14               email ke chandra.fadlilah@bppt.go.id              1\n",
       "15  apabila ingin menggunakan data ini, harap meng...              1\n",
       "16                        Anda berminat, hubungi kami              1\n",
       "17  Apabila menginginkan data ini silahkan menghub...              1\n",
       "18  Contact the admin or curator of Laboratorium F...              1\n",
       "19  This document is restricted, please contact th...              1\n",
       "20  Copyright (c) 2020 Enggar Wahyuning Pahlawan, ...              1\n",
       "22  permintaan data dapat dilayani bila anda menge...              1\n",
       "23           Hubungi email kalibrasi.balai2@gmail.com              1\n",
       "24   Hubungi redaktur buletin Rendinis (081586227905)              1\n",
       "25  Jika membutuhkan informasi dari KTI ini, harap...              1\n",
       "26  Mohon untuk mencantumkan nama kami, jika mengg...              1\n",
       "27                                  Please contact us              1\n",
       "28                             Sila hubungi authornya              1\n",
       "29         please contact the author for file request              1"
      ]
     },
     "execution_count": 143,
     "metadata": {},
     "output_type": "execute_result"
    }
   ],
   "source": [
    "# rin_datasets_cc_toa.query(\n",
    "#             'termsOfAccess.str.contains(\"tanpa izin dari distributor data sebelumnya\")==False'\n",
    "#     )\n",
    "\n",
    "rin_datasets_cc_toa[rin_datasets_cc_toa[\"termsOfAccess\"].str.contains('tanpa izin dari distributor data sebelumnya')==False]\n",
    "\n",
    "\n"
   ]
  },
  {
   "cell_type": "code",
   "execution_count": null,
   "metadata": {},
   "outputs": [],
   "source": []
  }
 ],
 "metadata": {
  "hide_input": false,
  "kernelspec": {
   "display_name": "Python 3",
   "language": "python",
   "name": "python3"
  },
  "language_info": {
   "codemirror_mode": {
    "name": "ipython",
    "version": 3
   },
   "file_extension": ".py",
   "mimetype": "text/x-python",
   "name": "python",
   "nbconvert_exporter": "python",
   "pygments_lexer": "ipython3",
   "version": "3.7.0"
  }
 },
 "nbformat": 4,
 "nbformat_minor": 4
}
