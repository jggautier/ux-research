{
 "cells": [
  {
   "cell_type": "markdown",
   "metadata": {},
   "source": [
    "- Explain purpose of collecting and exploring this data:\n",
    "- How many datasets are using creative commons licenses\n",
    "- What does creative commons use look like for each installation?\n",
    "    - How many are using CC0?\n",
    "    - How many are using other CC licenses?\n",
    "- What formatting are curators and depositors using when not using CC0 and adding another CC licenses?\n",
    "- Explain how terms metadata works in Dataverse: Default CC0 and other fields\n",
    "\n",
    "- Read in basic_metadata and terms CSV files into dataframes\n",
    "- Join dataframes\n",
    "- Explore each known installation's use of CC waiver and CC licenses\n",
    "    - Explore use of \"license\" field: Which installations put which values in that field (Dataverse usually puts either CC0 or None, but some installations have forked the code to include other CC licenses)\n",
    "    - Explore the use of CC liceneses in Terms of Use field, searching for:\n",
    "        - \"creative\" (case insensitive) or \"CC\" (case sensitive)\n",
    "        - Urls"
   ]
  },
  {
   "cell_type": "code",
   "execution_count": null,
   "metadata": {},
   "outputs": [],
   "source": []
  }
 ],
 "metadata": {
  "hide_input": false,
  "kernelspec": {
   "display_name": "Python 3",
   "language": "python",
   "name": "python3"
  },
  "language_info": {
   "codemirror_mode": {
    "name": "ipython",
    "version": 3
   },
   "file_extension": ".py",
   "mimetype": "text/x-python",
   "name": "python",
   "nbconvert_exporter": "python",
   "pygments_lexer": "ipython3",
   "version": "3.7.0"
  }
 },
 "nbformat": 4,
 "nbformat_minor": 4
}
