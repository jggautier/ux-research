{
 "cells": [
  {
   "cell_type": "markdown",
   "metadata": {},
   "source": [
    "# More questions related to \"Investigating_deposits_in_HDVs_Root_dataverse\""
   ]
  },
  {
   "cell_type": "markdown",
   "metadata": {},
   "source": [
    "## How many accounts have created just one dataset in Root? How many have created more than one dataset in Root?"
   ]
  },
  {
   "cell_type": "code",
   "execution_count": null,
   "metadata": {},
   "outputs": [],
   "source": [
    "# Create new dataframe showing the count of accounts that have created \n",
    "\n",
    "countOfDatasetsbyAccount = (\n",
    "    publishedDepositsDF.query(\n",
    "        'deposit_parent_dataverse == \"1\"\\\n",
    "        & deposit_type == \"Dataset\"\\\n",
    "        & deposit_createdate > \"2018-10-31\"\\\n",
    "        & deposit_createdate < \"2020-11-01\"')\n",
    "    \n",
    "    # Retain only these columns\n",
    "    [['user_account_id_of_deposit']]\n",
    "\n",
    "    # Group by the subsetted columns to get a count of datasets deposited by each account\n",
    "    .value_counts(subset=['user_account_id_of_deposit'])\n",
    "    .to_frame('dataset_count')\n",
    "    \n",
    "    # Group by the subsetted columns to get a count of datasets deposited by each account\n",
    "    .value_counts(subset=['dataset_count'])\n",
    "    .to_frame('count_of_accounts')\n",
    "\n",
    "    .sort_values(by=['dataset_count'], inplace=False, ascending=True)\n",
    "\n",
    "    .reset_index(drop=False, inplace=False)\n",
    "    \n",
    "    # Reorder columns\n",
    "    [['count_of_accounts','dataset_count']]\n",
    "    \n",
    "    # Set index to \"count of accounts\" column\n",
    "    .set_index('count_of_accounts')\n",
    ")\n"
   ]
  },
  {
   "cell_type": "code",
   "execution_count": null,
   "metadata": {},
   "outputs": [],
   "source": [
    "print(countOfDatasetsbyAccount.shape)\n",
    "countOfDatasetsbyAccount.head(15)\n"
   ]
  },
  {
   "cell_type": "markdown",
   "metadata": {},
   "source": [
    "In the past two years, 3,112 datasets have been created in Root by 2,144 accounts:\n",
    "- 1,684 accounts created only 1 dataset in Root. In other words, those 1,684 accounts created a little more than half of the 3,112 datasets created in Root\n",
    "- 460 accounts created 2 or more datasets in Root. They created the other 1,428 datasets"
   ]
  },
  {
   "cell_type": "markdown",
   "metadata": {
    "heading_collapsed": true
   },
   "source": [
    "## How many and which types of accounts have created datasets in Root each day?"
   ]
  },
  {
   "cell_type": "markdown",
   "metadata": {
    "hidden": true
   },
   "source": [
    "### Create and check filtered dataframe"
   ]
  },
  {
   "cell_type": "code",
   "execution_count": null,
   "metadata": {
    "hidden": true
   },
   "outputs": [],
   "source": [
    "# Create new dataframe\n",
    "\n",
    "countbyAccountType = (\n",
    "    rawDataDF.query(\n",
    "        'deposit_parent_dataverse == \"1\"\\\n",
    "        & deposit_type == \"Dataset\"\\\n",
    "        & deposit_createdate > \"2018-10-31\"\\\n",
    "        & deposit_createdate < \"2020-11-01\"')\n",
    "    \n",
    "    # Retain only these columns\n",
    "    [['user_account_id_of_deposit', 'deposit_createdate', 'user_account_type']]\n",
    "    \n",
    "    .groupby(['deposit_createdate', 'user_account_type', 'user_account_id_of_deposit']).count()\n",
    "    .sort_values(by=['deposit_createdate'], ascending=True)\n",
    "    .rename(columns={'user_account_id_of_deposit': 'count_of_accounts'})\n",
    ")\n",
    "\n",
    "# Reset dataframe index (so that values in deposit_createdate repeat)\n",
    "countbyAccountType.reset_index(drop=False, inplace=True)\n",
    "\n",
    "countbyAccountType = (\n",
    "    countbyAccountType.groupby(['deposit_createdate', 'user_account_type']).count()\n",
    "    .rename(columns={'user_account_id_of_deposit': 'count_of_accounts'})\n",
    ")\n",
    "\n",
    "# Reset dataframe index (so that values in deposit_createdate repeat)\n",
    "countbyAccountType.reset_index(drop=False, inplace=True)\n"
   ]
  },
  {
   "cell_type": "code",
   "execution_count": null,
   "metadata": {
    "hidden": true
   },
   "outputs": [],
   "source": [
    "print(countbyAccountType.shape)\n",
    "countbyAccountType.head(5)\n"
   ]
  },
  {
   "cell_type": "markdown",
   "metadata": {
    "heading_collapsed": true
   },
   "source": [
    "## How often are spam and test dataverses published?"
   ]
  },
  {
   "cell_type": "markdown",
   "metadata": {
    "hidden": true
   },
   "source": [
    "```\n",
    "select\n",
    "    to_char(starttime, 'YYYY-MM-DD') as dataverse_publish_date,\n",
    "    useridentifier as depositor_id,\n",
    "    substring(info from '(?<=\\:\\[)\\d*')::int as dataverse_id\n",
    "from actionlogrecord\n",
    "where actionsubtype ilike '%PublishDataverseCommand%' and actionresult = 'OK'\n",
    "    and useridentifier not in ('@merce', '@dataverseAdmin', '@sonia', '@Dwayne', '@juliangautier', '@kmika')\n",
    "    and substring(info from '(?<=\\:\\[)\\d*')::int in(\n",
    "        select \n",
    "            substring(info from '(?<=doomed\\:\\[)\\d*')::int\n",
    "        from actionlogrecord\n",
    "        where\n",
    "            actionsubtype ilike '%DeleteDataverseCommand%'\n",
    "            and useridentifier in ('@merce', '@dataverseAdmin', '@sonia', '@Dwayne', '@juliangautier', '@kmika')\n",
    "            and info ilike 'owner:[1 Harvard Dataverse] doomed%'\n",
    "            and starttime > '2018-10-31'\n",
    "            and actionresult = 'OK'\n",
    "    )\n",
    "```"
   ]
  }
 ],
 "metadata": {
  "hide_input": false,
  "kernelspec": {
   "display_name": "Python 3",
   "language": "python",
   "name": "python3"
  },
  "language_info": {
   "codemirror_mode": {
    "name": "ipython",
    "version": 3
   },
   "file_extension": ".py",
   "mimetype": "text/x-python",
   "name": "python",
   "nbconvert_exporter": "python",
   "pygments_lexer": "ipython3",
   "version": "3.7.0"
  }
 },
 "nbformat": 4,
 "nbformat_minor": 4
}
