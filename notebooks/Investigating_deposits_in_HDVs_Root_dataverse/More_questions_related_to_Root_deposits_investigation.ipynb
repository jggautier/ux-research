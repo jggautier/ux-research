{
 "cells": [
  {
   "cell_type": "markdown",
   "metadata": {
    "heading_collapsed": true
   },
   "source": [
    "## How many and which types of accounts have created datasets in Root each day?"
   ]
  },
  {
   "cell_type": "markdown",
   "metadata": {
    "hidden": true
   },
   "source": [
    "### Create and check filtered dataframe"
   ]
  },
  {
   "cell_type": "code",
   "execution_count": null,
   "metadata": {
    "hidden": true
   },
   "outputs": [],
   "source": [
    "# Create new dataframe\n",
    "\n",
    "countbyAccountType = (\n",
    "    rawDataDF.query(\n",
    "        'deposit_parent_dataverse == \"1\"\\\n",
    "        & deposit_type == \"Dataset\"\\\n",
    "        & deposit_createdate > \"2018-10-31\"\\\n",
    "        & deposit_createdate < \"2020-11-01\"')\n",
    "    \n",
    "    # Retain only these columns\n",
    "    [['user_account_id_of_deposit', 'deposit_createdate', 'user_account_type']]\n",
    "    \n",
    "    .groupby(['deposit_createdate', 'user_account_type', 'user_account_id_of_deposit']).count()\n",
    "    .sort_values(by=['deposit_createdate'], ascending=True)\n",
    "    .rename(columns={'user_account_id_of_deposit': 'count_of_accounts'})\n",
    ")\n",
    "\n",
    "# Reset dataframe index (so that values in deposit_createdate repeat)\n",
    "countbyAccountType.reset_index(drop=False, inplace=True)\n",
    "\n",
    "countbyAccountType = (\n",
    "    countbyAccountType.groupby(['deposit_createdate', 'user_account_type']).count()\n",
    "    .rename(columns={'user_account_id_of_deposit': 'count_of_accounts'})\n",
    ")\n",
    "\n",
    "# Reset dataframe index (so that values in deposit_createdate repeat)\n",
    "countbyAccountType.reset_index(drop=False, inplace=True)\n"
   ]
  },
  {
   "cell_type": "code",
   "execution_count": null,
   "metadata": {
    "hidden": true
   },
   "outputs": [],
   "source": [
    "print(countbyAccountType.shape)\n",
    "countbyAccountType.head(5)\n"
   ]
  },
  {
   "cell_type": "markdown",
   "metadata": {
    "heading_collapsed": true
   },
   "source": [
    "## How often are spam and test dataverses published?"
   ]
  },
  {
   "cell_type": "markdown",
   "metadata": {
    "hidden": true
   },
   "source": [
    "```\n",
    "select\n",
    "    to_char(starttime, 'YYYY-MM-DD') as dataverse_publish_date,\n",
    "    useridentifier as depositor_id,\n",
    "    substring(info from '(?<=\\:\\[)\\d*')::int as dataverse_id\n",
    "from actionlogrecord\n",
    "where actionsubtype ilike '%PublishDataverseCommand%' and actionresult = 'OK'\n",
    "    and useridentifier not in ('@merce', '@dataverseAdmin', '@sonia', '@Dwayne', '@juliangautier', '@kmika')\n",
    "    and substring(info from '(?<=\\:\\[)\\d*')::int in(\n",
    "        select \n",
    "            substring(info from '(?<=doomed\\:\\[)\\d*')::int\n",
    "        from actionlogrecord\n",
    "        where\n",
    "            actionsubtype ilike '%DeleteDataverseCommand%'\n",
    "            and useridentifier in ('@merce', '@dataverseAdmin', '@sonia', '@Dwayne', '@juliangautier', '@kmika')\n",
    "            and info ilike 'owner:[1 Harvard Dataverse] doomed%'\n",
    "            and starttime > '2018-10-31'\n",
    "            and actionresult = 'OK'\n",
    "    )\n",
    "```"
   ]
  }
 ],
 "metadata": {
  "hide_input": false,
  "kernelspec": {
   "display_name": "Python 3",
   "language": "python",
   "name": "python3"
  },
  "language_info": {
   "codemirror_mode": {
    "name": "ipython",
    "version": 3
   },
   "file_extension": ".py",
   "mimetype": "text/x-python",
   "name": "python",
   "nbconvert_exporter": "python",
   "pygments_lexer": "ipython3",
   "version": "3.7.0"
  }
 },
 "nbformat": 4,
 "nbformat_minor": 4
}
