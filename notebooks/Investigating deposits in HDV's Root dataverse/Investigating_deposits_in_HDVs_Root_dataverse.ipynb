{
 "cells": [
  {
   "cell_type": "markdown",
   "metadata": {
    "toc": true
   },
   "source": [
    "<h1>Table of Contents<span class=\"tocSkip\"></span></h1>\n",
    "<div class=\"toc\"><ul class=\"toc-item\"><li><span><a href=\"#Questions\" data-toc-modified-id=\"Questions-1\"><span class=\"toc-item-num\">1&nbsp;&nbsp;</span>Questions</a></span></li><li><span><a href=\"#Import-modules\" data-toc-modified-id=\"Import-modules-2\"><span class=\"toc-item-num\">2&nbsp;&nbsp;</span>Import modules</a></span></li><li><span><a href=\"#Read-in-data\" data-toc-modified-id=\"Read-in-data-3\"><span class=\"toc-item-num\">3&nbsp;&nbsp;</span>Read in data</a></span></li><li><span><a href=\"#Analysis\" data-toc-modified-id=\"Analysis-4\"><span class=\"toc-item-num\">4&nbsp;&nbsp;</span>Analysis</a></span></li></ul></div>"
   ]
  },
  {
   "cell_type": "markdown",
   "metadata": {},
   "source": [
    "## Questions"
   ]
  },
  {
   "cell_type": "markdown",
   "metadata": {},
   "source": [
    "- How often have people published datasets in Root dataverse?\n",
    "    - What are the account types of those users? (shib, orcid, google, github, builtin)\n",
    "        - Among those users with accounts that are not shib accounts, which have .edu in their email addresses?\n",
    "    - How often have people created multiple datasets in Root? (User1 published a dataset in Root, then publishes one or more additional datasets in Root. How often does this happen?)"
   ]
  },
  {
   "cell_type": "markdown",
   "metadata": {},
   "source": [
    "## Import modules"
   ]
  },
  {
   "cell_type": "code",
   "execution_count": 3,
   "metadata": {},
   "outputs": [],
   "source": [
    "import csv\n",
    "import pandas as pd\n"
   ]
  },
  {
   "cell_type": "markdown",
   "metadata": {},
   "source": [
    "## Read in data"
   ]
  },
  {
   "cell_type": "code",
   "execution_count": 6,
   "metadata": {},
   "outputs": [
    {
     "name": "stdout",
     "output_type": "stream",
     "text": [
      "(41522, 9)\n"
     ]
    },
    {
     "data": {
      "text/html": [
       "<div>\n",
       "<style scoped>\n",
       "    .dataframe tbody tr th:only-of-type {\n",
       "        vertical-align: middle;\n",
       "    }\n",
       "\n",
       "    .dataframe tbody tr th {\n",
       "        vertical-align: top;\n",
       "    }\n",
       "\n",
       "    .dataframe thead th {\n",
       "        text-align: right;\n",
       "    }\n",
       "</style>\n",
       "<table border=\"1\" class=\"dataframe\">\n",
       "  <thead>\n",
       "    <tr style=\"text-align: right;\">\n",
       "      <th></th>\n",
       "      <th>object_id</th>\n",
       "      <th>dtype</th>\n",
       "      <th>publicationdate</th>\n",
       "      <th>parent_dataverse</th>\n",
       "      <th>user_account_id_of_object_creator</th>\n",
       "      <th>user_account_createdate</th>\n",
       "      <th>user_account_type</th>\n",
       "      <th>affiliation</th>\n",
       "      <th>account_email_type</th>\n",
       "    </tr>\n",
       "  </thead>\n",
       "  <tbody>\n",
       "    <tr>\n",
       "      <th>0</th>\n",
       "      <td>2839889</td>\n",
       "      <td>Dataverse</td>\n",
       "      <td>2016-06-08 23:17:02.726</td>\n",
       "      <td>1</td>\n",
       "      <td>14473</td>\n",
       "      <td>2000-01-01 00:00:00</td>\n",
       "      <td>builtin</td>\n",
       "      <td>Stanford University</td>\n",
       "      <td>gmail.com</td>\n",
       "    </tr>\n",
       "    <tr>\n",
       "      <th>1</th>\n",
       "      <td>2840637</td>\n",
       "      <td>Dataverse</td>\n",
       "      <td>2017-06-14 17:11:03.269</td>\n",
       "      <td>1</td>\n",
       "      <td>14508</td>\n",
       "      <td>2000-01-01 00:00:00</td>\n",
       "      <td>builtin</td>\n",
       "      <td></td>\n",
       "      <td>gmail.com</td>\n",
       "    </tr>\n",
       "    <tr>\n",
       "      <th>2</th>\n",
       "      <td>644</td>\n",
       "      <td>Dataverse</td>\n",
       "      <td>2011-06-15 07:43:23.703</td>\n",
       "      <td>1</td>\n",
       "      <td>1417</td>\n",
       "      <td>2000-01-01 00:00:00</td>\n",
       "      <td>builtin</td>\n",
       "      <td>International Christian University</td>\n",
       "      <td>icu.ac.jp</td>\n",
       "    </tr>\n",
       "    <tr>\n",
       "      <th>3</th>\n",
       "      <td>2840679</td>\n",
       "      <td>Dataverse</td>\n",
       "      <td>2017-06-23 16:35:36.095</td>\n",
       "      <td>1</td>\n",
       "      <td>14507</td>\n",
       "      <td>2000-01-01 00:00:00</td>\n",
       "      <td>builtin</td>\n",
       "      <td></td>\n",
       "      <td>jhu.edu</td>\n",
       "    </tr>\n",
       "    <tr>\n",
       "      <th>4</th>\n",
       "      <td>646</td>\n",
       "      <td>Dataverse</td>\n",
       "      <td>2009-07-29 17:18:41.474</td>\n",
       "      <td>1</td>\n",
       "      <td>1425</td>\n",
       "      <td>2000-01-01 00:00:00</td>\n",
       "      <td>builtin</td>\n",
       "      <td>Harvard University</td>\n",
       "      <td>wjh.harvard.edu</td>\n",
       "    </tr>\n",
       "  </tbody>\n",
       "</table>\n",
       "</div>"
      ],
      "text/plain": [
       "   object_id      dtype          publicationdate parent_dataverse  \\\n",
       "0    2839889  Dataverse  2016-06-08 23:17:02.726                1   \n",
       "1    2840637  Dataverse  2017-06-14 17:11:03.269                1   \n",
       "2        644  Dataverse  2011-06-15 07:43:23.703                1   \n",
       "3    2840679  Dataverse  2017-06-23 16:35:36.095                1   \n",
       "4        646  Dataverse  2009-07-29 17:18:41.474                1   \n",
       "\n",
       "   user_account_id_of_object_creator user_account_createdate  \\\n",
       "0                              14473     2000-01-01 00:00:00   \n",
       "1                              14508     2000-01-01 00:00:00   \n",
       "2                               1417     2000-01-01 00:00:00   \n",
       "3                              14507     2000-01-01 00:00:00   \n",
       "4                               1425     2000-01-01 00:00:00   \n",
       "\n",
       "  user_account_type                         affiliation account_email_type  \n",
       "0           builtin                 Stanford University          gmail.com  \n",
       "1           builtin                                              gmail.com  \n",
       "2           builtin  International Christian University          icu.ac.jp  \n",
       "3           builtin                                                jhu.edu  \n",
       "4           builtin                  Harvard University    wjh.harvard.edu  "
      ]
     },
     "execution_count": 6,
     "metadata": {},
     "output_type": "execute_result"
    }
   ],
   "source": [
    "df = pd.read_csv('user_account_publish_data.csv', na_filter = False)\n",
    "print(df.shape)\n",
    "df.head(5)\n"
   ]
  },
  {
   "cell_type": "markdown",
   "metadata": {},
   "source": [
    "## Analysis"
   ]
  },
  {
   "cell_type": "code",
   "execution_count": null,
   "metadata": {},
   "outputs": [],
   "source": [
    "# Create dataframe showing how often people deposit datasets in Root dataverse over the last two years\n"
   ]
  }
 ],
 "metadata": {
  "hide_input": false,
  "kernelspec": {
   "display_name": "Python 3",
   "language": "python",
   "name": "python3"
  },
  "language_info": {
   "codemirror_mode": {
    "name": "ipython",
    "version": 3
   },
   "file_extension": ".py",
   "mimetype": "text/x-python",
   "name": "python",
   "nbconvert_exporter": "python",
   "pygments_lexer": "ipython3",
   "version": "3.7.0"
  },
  "toc": {
   "base_numbering": 1,
   "nav_menu": {},
   "number_sections": true,
   "sideBar": true,
   "skip_h1_title": false,
   "title_cell": "Table of Contents",
   "title_sidebar": "Contents",
   "toc_cell": true,
   "toc_position": {},
   "toc_section_display": true,
   "toc_window_display": false
  }
 },
 "nbformat": 4,
 "nbformat_minor": 4
}
