{
 "cells": [
  {
   "cell_type": "markdown",
   "metadata": {
    "toc": true
   },
   "source": [
    "<h1>Table of Contents<span class=\"tocSkip\"></span></h1>\n",
    "<div class=\"toc\"><ul class=\"toc-item\"><li><span><a href=\"#Questions\" data-toc-modified-id=\"Questions-1\"><span class=\"toc-item-num\">1&nbsp;&nbsp;</span>Questions</a></span></li><li><span><a href=\"#Import-modules\" data-toc-modified-id=\"Import-modules-2\"><span class=\"toc-item-num\">2&nbsp;&nbsp;</span>Import modules</a></span></li><li><span><a href=\"#Read-in-data\" data-toc-modified-id=\"Read-in-data-3\"><span class=\"toc-item-num\">3&nbsp;&nbsp;</span>Read in data</a></span></li><li><span><a href=\"#Analysis\" data-toc-modified-id=\"Analysis-4\"><span class=\"toc-item-num\">4&nbsp;&nbsp;</span>Analysis</a></span></li></ul></div>"
   ]
  },
  {
   "cell_type": "markdown",
   "metadata": {},
   "source": [
    "## Questions"
   ]
  },
  {
   "cell_type": "markdown",
   "metadata": {},
   "source": [
    "- How often have people published datasets in Root dataverse?\n",
    "    - What are the account types of those users? (shib, orcid, google, github, builtin)\n",
    "        - Among those users with accounts that are not shib accounts, which have .edu in their email addresses?\n",
    "    - How often have people created multiple datasets in Root? (User1 published a dataset in Root, then publishes one or more additional datasets in Root. How often does this happen?)"
   ]
  },
  {
   "cell_type": "markdown",
   "metadata": {},
   "source": [
    "## Import modules"
   ]
  },
  {
   "cell_type": "code",
   "execution_count": 3,
   "metadata": {},
   "outputs": [],
   "source": [
    "import csv\n",
    "import pandas as pd\n"
   ]
  },
  {
   "cell_type": "markdown",
   "metadata": {},
   "source": [
    "## Read in data"
   ]
  },
  {
   "cell_type": "code",
   "execution_count": 40,
   "metadata": {},
   "outputs": [
    {
     "name": "stdout",
     "output_type": "stream",
     "text": [
      "(41522, 9)\n"
     ]
    },
    {
     "data": {
      "text/html": [
       "<div>\n",
       "<style scoped>\n",
       "    .dataframe tbody tr th:only-of-type {\n",
       "        vertical-align: middle;\n",
       "    }\n",
       "\n",
       "    .dataframe tbody tr th {\n",
       "        vertical-align: top;\n",
       "    }\n",
       "\n",
       "    .dataframe thead th {\n",
       "        text-align: right;\n",
       "    }\n",
       "</style>\n",
       "<table border=\"1\" class=\"dataframe\">\n",
       "  <thead>\n",
       "    <tr style=\"text-align: right;\">\n",
       "      <th></th>\n",
       "      <th>object_id</th>\n",
       "      <th>dtype</th>\n",
       "      <th>publicationdate</th>\n",
       "      <th>parent_dataverse</th>\n",
       "      <th>user_account_id_of_object_creator</th>\n",
       "      <th>user_account_createdate</th>\n",
       "      <th>user_account_type</th>\n",
       "      <th>affiliation</th>\n",
       "      <th>account_email_type</th>\n",
       "    </tr>\n",
       "  </thead>\n",
       "  <tbody>\n",
       "    <tr>\n",
       "      <th>0</th>\n",
       "      <td>2839889</td>\n",
       "      <td>Dataverse</td>\n",
       "      <td>2016-06-08 23:17:02.726</td>\n",
       "      <td>1</td>\n",
       "      <td>14473</td>\n",
       "      <td>2000-01-01 00:00:00</td>\n",
       "      <td>builtin</td>\n",
       "      <td>Stanford University</td>\n",
       "      <td>gmail.com</td>\n",
       "    </tr>\n",
       "    <tr>\n",
       "      <th>1</th>\n",
       "      <td>2840637</td>\n",
       "      <td>Dataverse</td>\n",
       "      <td>2017-06-14 17:11:03.269</td>\n",
       "      <td>1</td>\n",
       "      <td>14508</td>\n",
       "      <td>2000-01-01 00:00:00</td>\n",
       "      <td>builtin</td>\n",
       "      <td></td>\n",
       "      <td>gmail.com</td>\n",
       "    </tr>\n",
       "    <tr>\n",
       "      <th>2</th>\n",
       "      <td>644</td>\n",
       "      <td>Dataverse</td>\n",
       "      <td>2011-06-15 07:43:23.703</td>\n",
       "      <td>1</td>\n",
       "      <td>1417</td>\n",
       "      <td>2000-01-01 00:00:00</td>\n",
       "      <td>builtin</td>\n",
       "      <td>International Christian University</td>\n",
       "      <td>icu.ac.jp</td>\n",
       "    </tr>\n",
       "    <tr>\n",
       "      <th>3</th>\n",
       "      <td>2840679</td>\n",
       "      <td>Dataverse</td>\n",
       "      <td>2017-06-23 16:35:36.095</td>\n",
       "      <td>1</td>\n",
       "      <td>14507</td>\n",
       "      <td>2000-01-01 00:00:00</td>\n",
       "      <td>builtin</td>\n",
       "      <td></td>\n",
       "      <td>jhu.edu</td>\n",
       "    </tr>\n",
       "    <tr>\n",
       "      <th>4</th>\n",
       "      <td>646</td>\n",
       "      <td>Dataverse</td>\n",
       "      <td>2009-07-29 17:18:41.474</td>\n",
       "      <td>1</td>\n",
       "      <td>1425</td>\n",
       "      <td>2000-01-01 00:00:00</td>\n",
       "      <td>builtin</td>\n",
       "      <td>Harvard University</td>\n",
       "      <td>wjh.harvard.edu</td>\n",
       "    </tr>\n",
       "  </tbody>\n",
       "</table>\n",
       "</div>"
      ],
      "text/plain": [
       "   object_id      dtype          publicationdate parent_dataverse  \\\n",
       "0    2839889  Dataverse  2016-06-08 23:17:02.726                1   \n",
       "1    2840637  Dataverse  2017-06-14 17:11:03.269                1   \n",
       "2        644  Dataverse  2011-06-15 07:43:23.703                1   \n",
       "3    2840679  Dataverse  2017-06-23 16:35:36.095                1   \n",
       "4        646  Dataverse  2009-07-29 17:18:41.474                1   \n",
       "\n",
       "   user_account_id_of_object_creator user_account_createdate  \\\n",
       "0                              14473     2000-01-01 00:00:00   \n",
       "1                              14508     2000-01-01 00:00:00   \n",
       "2                               1417     2000-01-01 00:00:00   \n",
       "3                              14507     2000-01-01 00:00:00   \n",
       "4                               1425     2000-01-01 00:00:00   \n",
       "\n",
       "  user_account_type                         affiliation account_email_type  \n",
       "0           builtin                 Stanford University          gmail.com  \n",
       "1           builtin                                              gmail.com  \n",
       "2           builtin  International Christian University          icu.ac.jp  \n",
       "3           builtin                                                jhu.edu  \n",
       "4           builtin                  Harvard University    wjh.harvard.edu  "
      ]
     },
     "execution_count": 40,
     "metadata": {},
     "output_type": "execute_result"
    }
   ],
   "source": [
    "rawDataDF = pd.read_csv('user_account_publish_data.csv', na_filter = False)\n",
    "# rawDataDF = pd.read_csv('user_account_publish_data.csv')\n",
    "print(rawDataDF.shape)\n",
    "rawDataDF.head(5)\n"
   ]
  },
  {
   "cell_type": "markdown",
   "metadata": {},
   "source": [
    "## Analysis"
   ]
  },
  {
   "cell_type": "code",
   "execution_count": 35,
   "metadata": {},
   "outputs": [
    {
     "name": "stdout",
     "output_type": "stream",
     "text": [
      "(3164, 9)\n"
     ]
    },
    {
     "data": {
      "text/html": [
       "<div>\n",
       "<style scoped>\n",
       "    .dataframe tbody tr th:only-of-type {\n",
       "        vertical-align: middle;\n",
       "    }\n",
       "\n",
       "    .dataframe tbody tr th {\n",
       "        vertical-align: top;\n",
       "    }\n",
       "\n",
       "    .dataframe thead th {\n",
       "        text-align: right;\n",
       "    }\n",
       "</style>\n",
       "<table border=\"1\" class=\"dataframe\">\n",
       "  <thead>\n",
       "    <tr style=\"text-align: right;\">\n",
       "      <th></th>\n",
       "      <th>object_id</th>\n",
       "      <th>dtype</th>\n",
       "      <th>publicationdate</th>\n",
       "      <th>parent_dataverse</th>\n",
       "      <th>user_account_id_of_object_creator</th>\n",
       "      <th>user_account_createdate</th>\n",
       "      <th>user_account_type</th>\n",
       "      <th>affiliation</th>\n",
       "      <th>account_email_type</th>\n",
       "    </tr>\n",
       "  </thead>\n",
       "  <tbody>\n",
       "    <tr>\n",
       "      <th>163</th>\n",
       "      <td>3825664</td>\n",
       "      <td>Dataset</td>\n",
       "      <td>2020-05-05 05:30:37.154</td>\n",
       "      <td>1</td>\n",
       "      <td>31879</td>\n",
       "      <td>2019-11-25 13:43:00.243</td>\n",
       "      <td>orcid</td>\n",
       "      <td>Universitas Negeri Makassar</td>\n",
       "      <td>unm.ac.id</td>\n",
       "    </tr>\n",
       "    <tr>\n",
       "      <th>261</th>\n",
       "      <td>3801653</td>\n",
       "      <td>Dataset</td>\n",
       "      <td>2020-04-10 21:34:56.049</td>\n",
       "      <td>1</td>\n",
       "      <td>4066</td>\n",
       "      <td>2000-01-01 00:00:00</td>\n",
       "      <td>builtin</td>\n",
       "      <td></td>\n",
       "      <td>gmail.com</td>\n",
       "    </tr>\n",
       "    <tr>\n",
       "      <th>298</th>\n",
       "      <td>3806075</td>\n",
       "      <td>Dataset</td>\n",
       "      <td>2020-04-14 14:22:58.251</td>\n",
       "      <td>1</td>\n",
       "      <td>23385</td>\n",
       "      <td>2018-06-04 15:24:46.985</td>\n",
       "      <td>orcid</td>\n",
       "      <td>Vrije Universiteit Amsterdam</td>\n",
       "      <td>vu.nl</td>\n",
       "    </tr>\n",
       "    <tr>\n",
       "      <th>314</th>\n",
       "      <td>3983285</td>\n",
       "      <td>Dataset</td>\n",
       "      <td>2020-07-25 10:37:29.992</td>\n",
       "      <td>1</td>\n",
       "      <td>36947</td>\n",
       "      <td>2020-07-13 07:53:46.988</td>\n",
       "      <td>builtin</td>\n",
       "      <td>Liverpool University Hospitals NHS Foundation ...</td>\n",
       "      <td>liverpoolft.nhs.uk</td>\n",
       "    </tr>\n",
       "    <tr>\n",
       "      <th>315</th>\n",
       "      <td>3893531</td>\n",
       "      <td>Dataset</td>\n",
       "      <td>2020-06-24 01:15:34.277</td>\n",
       "      <td>1</td>\n",
       "      <td>36500</td>\n",
       "      <td>2020-06-24 01:07:05.904</td>\n",
       "      <td>orcid</td>\n",
       "      <td>Fiona Stanley Hospital</td>\n",
       "      <td>gmail.com</td>\n",
       "    </tr>\n",
       "  </tbody>\n",
       "</table>\n",
       "</div>"
      ],
      "text/plain": [
       "     object_id    dtype          publicationdate parent_dataverse  \\\n",
       "163    3825664  Dataset  2020-05-05 05:30:37.154                1   \n",
       "261    3801653  Dataset  2020-04-10 21:34:56.049                1   \n",
       "298    3806075  Dataset  2020-04-14 14:22:58.251                1   \n",
       "314    3983285  Dataset  2020-07-25 10:37:29.992                1   \n",
       "315    3893531  Dataset  2020-06-24 01:15:34.277                1   \n",
       "\n",
       "     user_account_id_of_object_creator  user_account_createdate  \\\n",
       "163                              31879  2019-11-25 13:43:00.243   \n",
       "261                               4066      2000-01-01 00:00:00   \n",
       "298                              23385  2018-06-04 15:24:46.985   \n",
       "314                              36947  2020-07-13 07:53:46.988   \n",
       "315                              36500  2020-06-24 01:07:05.904   \n",
       "\n",
       "    user_account_type                                        affiliation  \\\n",
       "163             orcid                        Universitas Negeri Makassar   \n",
       "261           builtin                                                      \n",
       "298             orcid                       Vrije Universiteit Amsterdam   \n",
       "314           builtin  Liverpool University Hospitals NHS Foundation ...   \n",
       "315             orcid                             Fiona Stanley Hospital   \n",
       "\n",
       "     account_email_type  \n",
       "163           unm.ac.id  \n",
       "261           gmail.com  \n",
       "298               vu.nl  \n",
       "314  liverpoolft.nhs.uk  \n",
       "315           gmail.com  "
      ]
     },
     "execution_count": 35,
     "metadata": {},
     "output_type": "execute_result"
    }
   ],
   "source": [
    "# Create dataframe showing how often people publish datasets in Root dataverse over the last two years\n",
    "datasetsInRootDF = rawDataDF.query('dtype == \"Dataset\"\\\n",
    "                 & parent_dataverse == \"1\"\\\n",
    "                 & publicationdate > \"2018-10-31\"')\n",
    "print(datasetsInRootDF.shape)\n",
    "datasetsInRootDF.head(5)\n"
   ]
  },
  {
   "cell_type": "code",
   "execution_count": 37,
   "metadata": {},
   "outputs": [
    {
     "name": "stdout",
     "output_type": "stream",
     "text": [
      "2018-10-31 05:53:06.901\n",
      "2020-10-31 20:54:20.337\n"
     ]
    }
   ],
   "source": [
    "print(datasetsInRootDF['publicationdate'].min())\n",
    "print(datasetsInRootDF['publicationdate'].max())"
   ]
  },
  {
   "cell_type": "code",
   "execution_count": 38,
   "metadata": {},
   "outputs": [
    {
     "name": "stdout",
     "output_type": "stream",
     "text": [
      "(3164, 9)\n"
     ]
    }
   ],
   "source": [
    "print(datasetsInRootDF.shape)"
   ]
  },
  {
   "cell_type": "code",
   "execution_count": null,
   "metadata": {},
   "outputs": [],
   "source": []
  }
 ],
 "metadata": {
  "hide_input": false,
  "kernelspec": {
   "display_name": "Python 3",
   "language": "python",
   "name": "python3"
  },
  "language_info": {
   "codemirror_mode": {
    "name": "ipython",
    "version": 3
   },
   "file_extension": ".py",
   "mimetype": "text/x-python",
   "name": "python",
   "nbconvert_exporter": "python",
   "pygments_lexer": "ipython3",
   "version": "3.7.0"
  },
  "toc": {
   "base_numbering": 1,
   "nav_menu": {},
   "number_sections": true,
   "sideBar": true,
   "skip_h1_title": false,
   "title_cell": "Table of Contents",
   "title_sidebar": "Contents",
   "toc_cell": true,
   "toc_position": {},
   "toc_section_display": true,
   "toc_window_display": false
  }
 },
 "nbformat": 4,
 "nbformat_minor": 4
}
